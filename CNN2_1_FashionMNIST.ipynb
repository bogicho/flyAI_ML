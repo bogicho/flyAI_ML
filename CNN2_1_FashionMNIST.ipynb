{
  "nbformat": 4,
  "nbformat_minor": 0,
  "metadata": {
    "colab": {
      "provenance": [],
      "authorship_tag": "ABX9TyNhA4YoSYnR0o4Qw+YV1H1F",
      "include_colab_link": true
    },
    "kernelspec": {
      "name": "python3",
      "display_name": "Python 3"
    },
    "language_info": {
      "name": "python"
    }
  },
  "cells": [
    {
      "cell_type": "markdown",
      "metadata": {
        "id": "view-in-github",
        "colab_type": "text"
      },
      "source": [
        "<a href=\"https://colab.research.google.com/github/bogicho/flyAI_ML/blob/main/CNN2_1_FashionMNIST.ipynb\" target=\"_parent\"><img src=\"https://colab.research.google.com/assets/colab-badge.svg\" alt=\"Open In Colab\"/></a>"
      ]
    },
    {
      "cell_type": "markdown",
      "source": [
        "#흑백이미지 분류\n",
        "##Fashion-MNIST를 이용한 다중분류"
      ],
      "metadata": {
        "id": "5cIuS7aCX5_e"
      }
    },
    {
      "cell_type": "markdown",
      "source": [
        "#1. 데이터 준비"
      ],
      "metadata": {
        "id": "TKwzlZ_BYrbF"
      }
    },
    {
      "cell_type": "code",
      "source": [
        "from tensorflow.keras.datasets import fashion_mnist\n",
        "(X_train, y_train), (X_test, y_test) = fashion_mnist.load_data()\n",
        "print(X_train.shape, y_train.shape)\n",
        "print(X_test.shape, y_test.shape)"
      ],
      "metadata": {
        "colab": {
          "base_uri": "https://localhost:8080/"
        },
        "id": "HS5ZNvLiX6nD",
        "outputId": "9da9c1d7-bc66-43dd-fcde-e34bf289c7ce"
      },
      "execution_count": 1,
      "outputs": [
        {
          "output_type": "stream",
          "name": "stdout",
          "text": [
            "Downloading data from https://storage.googleapis.com/tensorflow/tf-keras-datasets/train-labels-idx1-ubyte.gz\n",
            "29515/29515 [==============================] - 0s 0us/step\n",
            "Downloading data from https://storage.googleapis.com/tensorflow/tf-keras-datasets/train-images-idx3-ubyte.gz\n",
            "26421880/26421880 [==============================] - 0s 0us/step\n",
            "Downloading data from https://storage.googleapis.com/tensorflow/tf-keras-datasets/t10k-labels-idx1-ubyte.gz\n",
            "5148/5148 [==============================] - 0s 0us/step\n",
            "Downloading data from https://storage.googleapis.com/tensorflow/tf-keras-datasets/t10k-images-idx3-ubyte.gz\n",
            "4422102/4422102 [==============================] - 0s 0us/step\n",
            "(60000, 28, 28) (60000,)\n",
            "(10000, 28, 28) (10000,)\n"
          ]
        }
      ]
    },
    {
      "cell_type": "markdown",
      "source": [
        "#2. 이미지 확인"
      ],
      "metadata": {
        "id": "Ro1CoUfWX6ts"
      }
    },
    {
      "cell_type": "code",
      "source": [],
      "metadata": {
        "id": "DL7tpiWgX6z0"
      },
      "execution_count": null,
      "outputs": []
    },
    {
      "cell_type": "markdown",
      "source": [
        "#3. 검증 데이터 분리"
      ],
      "metadata": {
        "id": "gRCJFG1eX65p"
      }
    },
    {
      "cell_type": "code",
      "source": [],
      "metadata": {
        "id": "IU7HQo7lX6_y"
      },
      "execution_count": null,
      "outputs": []
    },
    {
      "cell_type": "markdown",
      "source": [
        "#4. 이미지 데이터이 정규화"
      ],
      "metadata": {
        "id": "QZONLbTEX7FQ"
      }
    },
    {
      "cell_type": "code",
      "source": [],
      "metadata": {
        "id": "zS9-RN48X7M0"
      },
      "execution_count": null,
      "outputs": []
    },
    {
      "cell_type": "markdown",
      "source": [
        "#5. 데이터 Shape확인"
      ],
      "metadata": {
        "id": "FbaOuhsIX7SR"
      }
    },
    {
      "cell_type": "code",
      "source": [],
      "metadata": {
        "id": "RjYyyrp0X7Xu"
      },
      "execution_count": null,
      "outputs": []
    },
    {
      "cell_type": "markdown",
      "source": [
        "#6. 채널 축 추가\n",
        "- Convolution 레이어의 입력 데이터는 (batch, height, weight, channel)의 형태 필요.\n",
        "- tf.newaxis 키워드를 사용하거나, reshape() 함수를 사용.\n"
      ],
      "metadata": {
        "id": "9Xl0ZJVhX7dd"
      }
    },
    {
      "cell_type": "code",
      "source": [],
      "metadata": {
        "id": "x8Ha2nuBX7kX"
      },
      "execution_count": null,
      "outputs": []
    },
    {
      "cell_type": "markdown",
      "source": [
        "#7. 모델 만들기"
      ],
      "metadata": {
        "id": "i9169gkYX7p0"
      }
    },
    {
      "cell_type": "code",
      "source": [],
      "metadata": {
        "id": "gTIhE6wlX7va"
      },
      "execution_count": null,
      "outputs": []
    },
    {
      "cell_type": "markdown",
      "source": [
        "#8. 모델의 컴파일"
      ],
      "metadata": {
        "id": "72pS-repX705"
      }
    },
    {
      "cell_type": "code",
      "source": [],
      "metadata": {
        "id": "vV5oc_hnX76G"
      },
      "execution_count": null,
      "outputs": []
    },
    {
      "cell_type": "markdown",
      "source": [
        "#9. 학습 곡선"
      ],
      "metadata": {
        "id": "VVgXYQQUX7_M"
      }
    },
    {
      "cell_type": "code",
      "source": [],
      "metadata": {
        "id": "d90e2W08X8Eg"
      },
      "execution_count": null,
      "outputs": []
    },
    {
      "cell_type": "markdown",
      "source": [],
      "metadata": {
        "id": "AdQjuEWFX8Ju"
      }
    },
    {
      "cell_type": "code",
      "source": [],
      "metadata": {
        "id": "DpTgsrAIX8O7"
      },
      "execution_count": null,
      "outputs": []
    },
    {
      "cell_type": "markdown",
      "source": [
        "#흑백이미지 분류\n",
        "##Fashion-MNIST를 이용한 다중분류"
      ],
      "metadata": {
        "id": "mpBWz3iuZaRz"
      }
    },
    {
      "cell_type": "markdown",
      "source": [
        "#1. 데이터 준비"
      ],
      "metadata": {
        "id": "d-J8YYSLZaR8"
      }
    },
    {
      "cell_type": "code",
      "source": [
        "import numpy as np\n",
        "from tensorflow.keras.datasets import fashion_mnist\n",
        "\n",
        "(X_train, y_train), (X_test, y_test) = fashion_mnist.load_data()\n",
        "print(X_train.shape, y_train.shape)\n",
        "print(X_test.shape, y_test.shape)"
      ],
      "metadata": {
        "colab": {
          "base_uri": "https://localhost:8080/"
        },
        "outputId": "b6e5f558-d37e-42ec-ac17-b00a6d104867",
        "id": "E-Iw-4fiZaR8"
      },
      "execution_count": 3,
      "outputs": [
        {
          "output_type": "stream",
          "name": "stdout",
          "text": [
            "(60000, 28, 28) (60000,)\n",
            "(10000, 28, 28) (10000,)\n"
          ]
        }
      ]
    },
    {
      "cell_type": "markdown",
      "source": [
        "#2. 이미지 확인"
      ],
      "metadata": {
        "id": "8SOIBg5jZaR9"
      }
    },
    {
      "cell_type": "code",
      "source": [
        "import matplotlib.pyplot as plt\n",
        "\n",
        "\n",
        "class_names = ['T-shirt/top', 'Trouser', 'Pullover',\n",
        "               'Dress', 'Coat', 'Sandal',\n",
        "               'Shirt', 'Sneaker', 'Bag', 'Ankle boot']\n",
        "samples = np.random.randint(len(X_train), size=9)\n",
        "plt.figure(figsize = (8, 6))\n",
        "for i, idx in enumerate(samples):\n",
        "   plt.subplot(3, 3, i+1)\n",
        "   plt.xticks([])\n",
        "   plt.yticks([])\n",
        "   plt.imshow(X_train[idx], cmap = 'gray')\n",
        "   plt.title(class_names[y_train[idx]])\n",
        "plt.show()"
      ],
      "metadata": {
        "colab": {
          "base_uri": "https://localhost:8080/",
          "height": 521
        },
        "id": "m50ioeeAZaR9",
        "outputId": "264b343b-b4b8-4388-82b2-34767409f75a"
      },
      "execution_count": 5,
      "outputs": [
        {
          "output_type": "display_data",
          "data": {
            "text/plain": [
              "<Figure size 800x600 with 9 Axes>"
            ],
            "image/png": "[encoded data removed]"
          },
          "metadata": {}
        }
      ]
    },
    {
      "cell_type": "markdown",
      "source": [
        "#3. 검증 데이터 분리"
      ],
      "metadata": {
        "id": "boY7DdKFZaR9"
      }
    },
    {
      "cell_type": "code",
      "source": [
        "from sklearn.model_selection import train_test_split\n",
        "X_train, X_val, y_train, y_val = train_test_split(\n",
        "            X_train, y_train, test_size = 0.3, random_state = 42)\n",
        "print(X_train.shape, y_train.shape)\n",
        "print(X_val.shape, y_val.shape)"
      ],
      "metadata": {
        "colab": {
          "base_uri": "https://localhost:8080/"
        },
        "id": "Fjzq-feXZaR9",
        "outputId": "3a4e728f-060c-4e0e-b666-998d1ad34a37"
      },
      "execution_count": 6,
      "outputs": [
        {
          "output_type": "stream",
          "name": "stdout",
          "text": [
            "(42000, 28, 28) (42000,)\n",
            "(18000, 28, 28) (18000,)\n"
          ]
        }
      ]
    },
    {
      "cell_type": "markdown",
      "source": [
        "#4. 이미지 데이터이 정규화(최소-최대 정규화 처리)"
      ],
      "metadata": {
        "id": "-qAAjHnAZaR9"
      }
    },
    {
      "cell_type": "code",
      "source": [
        "import numpy as np\n",
        "X_train = X_train.astype('float32') / 255.\n",
        "X_val = X_val.astype('float32') / 255.\n",
        "X_test = X_test.astype('float32') / 255.\n",
        "print(np.max(X_train), np.min(X_train))"
      ],
      "metadata": {
        "colab": {
          "base_uri": "https://localhost:8080/"
        },
        "id": "4r1y7hGAZaR9",
        "outputId": "3469f228-cd9a-458d-ec34-d9faa1c17b66"
      },
      "execution_count": 7,
      "outputs": [
        {
          "output_type": "stream",
          "name": "stdout",
          "text": [
            "1.0 0.0\n"
          ]
        }
      ]
    },
    {
      "cell_type": "markdown",
      "source": [
        "#5. 데이터 Shape확인"
      ],
      "metadata": {
        "id": "SaTSgzC5ZaR9"
      }
    },
    {
      "cell_type": "code",
      "source": [
        "print('X_train : ', X_train.shape)\n",
        "print('X_val : ', X_val.shape)\n",
        "print('X_test : ', X_test.shape)"
      ],
      "metadata": {
        "colab": {
          "base_uri": "https://localhost:8080/"
        },
        "id": "MQNweeghZaR9",
        "outputId": "d8dadfaa-9aeb-47ff-c9e3-86373304607d"
      },
      "execution_count": 8,
      "outputs": [
        {
          "output_type": "stream",
          "name": "stdout",
          "text": [
            "X_train :  (42000, 28, 28)\n",
            "X_val :  (18000, 28, 28)\n",
            "X_test :  (10000, 28, 28)\n"
          ]
        }
      ]
    },
    {
      "cell_type": "markdown",
      "source": [
        "#6. 채널 축 추가\n",
        "- Convolution 레이어의 입력 데이터는 (batch, height, weight, channel)의 형태 필요.\n",
        "- tf.newaxis 키워드를 사용하거나, reshape() 함수를 사용.\n"
      ],
      "metadata": {
        "id": "1dLxNFouZaR9"
      }
    },
    {
      "cell_type": "code",
      "source": [
        "import tensorflow as tf\n",
        "\n",
        "X_train = X_train[..., tf.newaxis]\n",
        "X_val = X_val[..., tf.newaxis]\n",
        "X_test = X_test[..., tf.newaxis]\n",
        "\n",
        "print('X_train : ', X_train.shape)\n",
        "print('X_val : ', X_val.shape)\n",
        "print('X_test : ', X_test.shape)"
      ],
      "metadata": {
        "colab": {
          "base_uri": "https://localhost:8080/"
        },
        "id": "7MfTw0syZaR9",
        "outputId": "5be27114-f1f8-450b-e137-7ca849812ec8"
      },
      "execution_count": 9,
      "outputs": [
        {
          "output_type": "stream",
          "name": "stdout",
          "text": [
            "X_train :  (42000, 28, 28, 1)\n",
            "X_val :  (18000, 28, 28, 1)\n",
            "X_test :  (10000, 28, 28, 1)\n"
          ]
        }
      ]
    },
    {
      "cell_type": "code",
      "source": [
        "from tensorflow.keras.utils import to_categorical\n",
        "y_train_oh = to_categorical(y_train)\n",
        "y_val_oh = to_categorical(y_val)\n",
        "y_test_oh = to_categorical(y_test)\n",
        "y_train_oh[:5]"
      ],
      "metadata": {
        "colab": {
          "base_uri": "https://localhost:8080/"
        },
        "id": "6ii705HjiYE2",
        "outputId": "15d75cc8-6ed3-465b-f5c0-7ece48adc340"
      },
      "execution_count": 17,
      "outputs": [
        {
          "output_type": "execute_result",
          "data": {
            "text/plain": [
              "array([[0., 1., 0., 0., 0., 0., 0., 0., 0., 0.],\n",
              "       [0., 0., 0., 0., 0., 0., 0., 0., 1., 0.],\n",
              "       [0., 0., 0., 0., 0., 0., 0., 0., 0., 1.],\n",
              "       [1., 0., 0., 0., 0., 0., 0., 0., 0., 0.],\n",
              "       [0., 0., 0., 0., 0., 0., 0., 0., 1., 0.]], dtype=float32)"
            ]
          },
          "metadata": {},
          "execution_count": 17
        }
      ]
    },
    {
      "cell_type": "markdown",
      "source": [
        "#7. 모델 만들기"
      ],
      "metadata": {
        "id": "BkMrBQhPZaR9"
      }
    },
    {
      "cell_type": "code",
      "source": [
        "from tensorflow import keras\n",
        "from tensorflow.keras import layers\n",
        "\n",
        "def build_model():\n",
        "  model = keras.Sequential()\n",
        "  model.add(layers.Conv2D(filters = 16, kernel_size = 3,\n",
        "                          strides = (1,1), padding = 'same',\n",
        "                          activation ='relu',\n",
        "                          input_shape = (28, 28,1)))\n",
        "  model.add(layers.MaxPool2D(pool_size = (2,2), strides = 2))\n",
        "\n",
        "  model.add(layers.Conv2D(filters = 32, kernel_size = 3,\n",
        "                          strides = (1,1), padding = 'same',\n",
        "                          activation ='relu',\n",
        "                          input_shape = (28, 28,1)))\n",
        "  model.add(layers.MaxPool2D(pool_size = (2,2), strides = 2))\n",
        "\n",
        "  model.add(layers.Conv2D(filters = 64, kernel_size = 3,\n",
        "                          strides = (1,1), padding = 'same',\n",
        "                          activation ='relu',\n",
        "                          input_shape = (28, 28,1)))\n",
        "  model.add(layers.MaxPool2D(pool_size = (2,2), strides = 2))\n",
        "\n",
        "  model.add(layers.Flatten())\n",
        "  model.add(layers.Dense(64, activation='relu'))\n",
        "  model.add(layers.Dense(10, activation='softmax'))\n",
        "  return model\n",
        "\n",
        "model = build_model()\n",
        "model.summary()"
      ],
      "metadata": {
        "colab": {
          "base_uri": "https://localhost:8080/"
        },
        "id": "UQRPIvc8ZaR9",
        "outputId": "532f2ab8-c969-49fa-8239-7a2ed8b1788f"
      },
      "execution_count": 18,
      "outputs": [
        {
          "output_type": "stream",
          "name": "stdout",
          "text": [
            "Model: \"sequential_4\"\n",
            "_________________________________________________________________\n",
            " Layer (type)                Output Shape              Param #   \n",
            "=================================================================\n",
            " conv2d_12 (Conv2D)          (None, 28, 28, 16)        160       \n",
            "                                                                 \n",
            " max_pooling2d_12 (MaxPoolin  (None, 14, 14, 16)       0         \n",
            " g2D)                                                            \n",
            "                                                                 \n",
            " conv2d_13 (Conv2D)          (None, 14, 14, 32)        4640      \n",
            "                                                                 \n",
            " max_pooling2d_13 (MaxPoolin  (None, 7, 7, 32)         0         \n",
            " g2D)                                                            \n",
            "                                                                 \n",
            " conv2d_14 (Conv2D)          (None, 7, 7, 64)          18496     \n",
            "                                                                 \n",
            " max_pooling2d_14 (MaxPoolin  (None, 3, 3, 64)         0         \n",
            " g2D)                                                            \n",
            "                                                                 \n",
            " flatten_4 (Flatten)         (None, 576)               0         \n",
            "                                                                 \n",
            " dense_8 (Dense)             (None, 64)                36928     \n",
            "                                                                 \n",
            " dense_9 (Dense)             (None, 10)                650       \n",
            "                                                                 \n",
            "=================================================================\n",
            "Total params: 60,874\n",
            "Trainable params: 60,874\n",
            "Non-trainable params: 0\n",
            "_________________________________________________________________\n"
          ]
        }
      ]
    },
    {
      "cell_type": "markdown",
      "source": [
        "#8. 모델의 컴파일\n",
        "- 손실함수는 'categorical_crossentropy'를 사용"
      ],
      "metadata": {
        "id": "xMiIkcibZaR9"
      }
    },
    {
      "cell_type": "code",
      "source": [
        "adam = tf.keras.optimizers.Adam(learning_rate=0.001)\n",
        "model.compile(optimizer=adam,\n",
        "        loss = 'categorical_crossentropy',\n",
        "        metrics=['acc'])"
      ],
      "metadata": {
        "id": "VkC53UuVZaR9"
      },
      "execution_count": 19,
      "outputs": []
    },
    {
      "cell_type": "markdown",
      "source": [
        "#9. 학습"
      ],
      "metadata": {
        "id": "uxHSG-ONii-T"
      }
    },
    {
      "cell_type": "code",
      "source": [
        "EPOCHS = 30\n",
        "BATCH_SIZE = 64\n",
        "history = model.fit(X_train, y_train_oh,\n",
        "           epochs = EPOCHS,\n",
        "           batch_size = BATCH_SIZE,\n",
        "           validation_data = (X_val, y_val_oh),\n",
        "           verbose = 1)"
      ],
      "metadata": {
        "colab": {
          "base_uri": "https://localhost:8080/"
        },
        "id": "cyxHLZxthorz",
        "outputId": "90f4aed7-7e0c-4af7-96a1-f9266f06a604"
      },
      "execution_count": 20,
      "outputs": [
        {
          "output_type": "stream",
          "name": "stdout",
          "text": [
            "Epoch 1/30\n",
            "657/657 [==============================] - 53s 77ms/step - loss: 0.5735 - acc: 0.7912 - val_loss: 0.3875 - val_acc: 0.8611\n",
            "Epoch 2/30\n",
            "657/657 [==============================] - 46s 70ms/step - loss: 0.3600 - acc: 0.8718 - val_loss: 0.3241 - val_acc: 0.8809\n",
            "Epoch 3/30\n",
            "657/657 [==============================] - 45s 68ms/step - loss: 0.3122 - acc: 0.8861 - val_loss: 0.2990 - val_acc: 0.8915\n",
            "Epoch 4/30\n",
            "657/657 [==============================] - 45s 69ms/step - loss: 0.2852 - acc: 0.8975 - val_loss: 0.3003 - val_acc: 0.8876\n",
            "Epoch 5/30\n",
            "657/657 [==============================] - 46s 70ms/step - loss: 0.2603 - acc: 0.9048 - val_loss: 0.2818 - val_acc: 0.8959\n",
            "Epoch 6/30\n",
            "657/657 [==============================] - 45s 69ms/step - loss: 0.2393 - acc: 0.9118 - val_loss: 0.2586 - val_acc: 0.9045\n",
            "Epoch 7/30\n",
            "657/657 [==============================] - 51s 77ms/step - loss: 0.2214 - acc: 0.9191 - val_loss: 0.2605 - val_acc: 0.9050\n",
            "Epoch 8/30\n",
            "657/657 [==============================] - 50s 77ms/step - loss: 0.2069 - acc: 0.9247 - val_loss: 0.2740 - val_acc: 0.8983\n",
            "Epoch 9/30\n",
            "657/657 [==============================] - 44s 67ms/step - loss: 0.1975 - acc: 0.9269 - val_loss: 0.2549 - val_acc: 0.9091\n",
            "Epoch 10/30\n",
            "657/657 [==============================] - 50s 77ms/step - loss: 0.1842 - acc: 0.9320 - val_loss: 0.2452 - val_acc: 0.9143\n",
            "Epoch 11/30\n",
            "657/657 [==============================] - 45s 69ms/step - loss: 0.1717 - acc: 0.9365 - val_loss: 0.2733 - val_acc: 0.9016\n",
            "Epoch 12/30\n",
            "657/657 [==============================] - 44s 68ms/step - loss: 0.1624 - acc: 0.9404 - val_loss: 0.2512 - val_acc: 0.9116\n",
            "Epoch 13/30\n",
            "657/657 [==============================] - 44s 67ms/step - loss: 0.1518 - acc: 0.9434 - val_loss: 0.2442 - val_acc: 0.9161\n",
            "Epoch 14/30\n",
            "657/657 [==============================] - 43s 66ms/step - loss: 0.1395 - acc: 0.9482 - val_loss: 0.2664 - val_acc: 0.9105\n",
            "Epoch 15/30\n",
            "657/657 [==============================] - 42s 64ms/step - loss: 0.1339 - acc: 0.9498 - val_loss: 0.2610 - val_acc: 0.9137\n",
            "Epoch 16/30\n",
            "657/657 [==============================] - 45s 68ms/step - loss: 0.1218 - acc: 0.9550 - val_loss: 0.2793 - val_acc: 0.9078\n",
            "Epoch 17/30\n",
            "657/657 [==============================] - 44s 68ms/step - loss: 0.1102 - acc: 0.9599 - val_loss: 0.2732 - val_acc: 0.9161\n",
            "Epoch 18/30\n",
            "657/657 [==============================] - 45s 68ms/step - loss: 0.1059 - acc: 0.9604 - val_loss: 0.2859 - val_acc: 0.9116\n",
            "Epoch 19/30\n",
            "657/657 [==============================] - 45s 68ms/step - loss: 0.0996 - acc: 0.9628 - val_loss: 0.2944 - val_acc: 0.9142\n",
            "Epoch 20/30\n",
            "657/657 [==============================] - 45s 68ms/step - loss: 0.0886 - acc: 0.9671 - val_loss: 0.3235 - val_acc: 0.9073\n",
            "Epoch 21/30\n",
            "657/657 [==============================] - 45s 68ms/step - loss: 0.0858 - acc: 0.9681 - val_loss: 0.2994 - val_acc: 0.9096\n",
            "Epoch 22/30\n",
            "657/657 [==============================] - 45s 68ms/step - loss: 0.0767 - acc: 0.9710 - val_loss: 0.3395 - val_acc: 0.9117\n",
            "Epoch 23/30\n",
            "657/657 [==============================] - 44s 67ms/step - loss: 0.0747 - acc: 0.9711 - val_loss: 0.3374 - val_acc: 0.9130\n",
            "Epoch 24/30\n",
            "657/657 [==============================] - 45s 69ms/step - loss: 0.0676 - acc: 0.9747 - val_loss: 0.3441 - val_acc: 0.9112\n",
            "Epoch 25/30\n",
            "657/657 [==============================] - 45s 68ms/step - loss: 0.0655 - acc: 0.9762 - val_loss: 0.3708 - val_acc: 0.9100\n",
            "Epoch 26/30\n",
            "657/657 [==============================] - 45s 68ms/step - loss: 0.0582 - acc: 0.9787 - val_loss: 0.3943 - val_acc: 0.9106\n",
            "Epoch 27/30\n",
            "657/657 [==============================] - 44s 67ms/step - loss: 0.0534 - acc: 0.9796 - val_loss: 0.3888 - val_acc: 0.9114\n",
            "Epoch 28/30\n",
            "657/657 [==============================] - 48s 74ms/step - loss: 0.0496 - acc: 0.9813 - val_loss: 0.4139 - val_acc: 0.9094\n",
            "Epoch 29/30\n",
            "657/657 [==============================] - 45s 68ms/step - loss: 0.0487 - acc: 0.9819 - val_loss: 0.4423 - val_acc: 0.9091\n",
            "Epoch 30/30\n",
            "657/657 [==============================] - 44s 67ms/step - loss: 0.0421 - acc: 0.9845 - val_loss: 0.4147 - val_acc: 0.9114\n"
          ]
        }
      ]
    },
    {
      "cell_type": "markdown",
      "source": [
        "#10. 학습 곡선"
      ],
      "metadata": {
        "id": "1_-ft2cwZaR-"
      }
    },
    {
      "cell_type": "code",
      "source": [
        "import matplotlib.pyplot as plt\n",
        "import pandas as pd\n",
        "def plot_history(history):\n",
        "  hist = pd.DataFrame(history.history)\n",
        "  hist['epoch'] = history.epoch\n",
        "  plt.figure(figsize=(16,8))\n",
        "  plt.subplot(1,2,1)\n",
        "  plt.xlabel('Epoch')\n",
        "  plt.ylabel('Loss')\n",
        "  plt.plot(hist['epoch'], hist['loss'], label='Train Loss')\n",
        "  plt.plot(hist['epoch'], hist['val_loss'],label = 'Val Loss')\n",
        "  plt.legend()\n",
        "\n",
        "  plt.subplot(1,2,2)\n",
        "  plt.xlabel('Epoch')\n",
        "  plt.ylabel('Accuracy')\n",
        "  plt.plot(hist['epoch'], hist['acc'], label='Train Accuracy')\n",
        "  plt.plot(hist['epoch'], hist['val_acc'], label = 'Val Accuracy')\n",
        "  plt.legend()\n",
        "plt.show()"
      ],
      "metadata": {
        "id": "P7BGwz_7ZaR-"
      },
      "execution_count": 21,
      "outputs": []
    },
    {
      "cell_type": "code",
      "source": [
        "plot_history(history)"
      ],
      "metadata": {
        "colab": {
          "base_uri": "https://localhost:8080/",
          "height": 436
        },
        "id": "9DcKhnGeoJS6",
        "outputId": "389a6fb9-c95a-471a-e33e-4b083e0123ef"
      },
      "execution_count": 22,
      "outputs": [
        {
          "output_type": "display_data",
          "data": {
            "text/plain": [
              "<Figure size 1600x800 with 2 Axes>"
            ],
            "image/png": "[encoded data removed]"
          },
          "metadata": {}
        }
      ]
    },
    {
      "cell_type": "markdown",
      "source": [],
      "metadata": {
        "id": "0doRGH4Lln3d"
      }
    },
    {
      "cell_type": "markdown",
      "source": [],
      "metadata": {
        "id": "3Tmq_7R1ln6s"
      }
    },
    {
      "cell_type": "markdown",
      "source": [
        "# 2-2 드롭아웃\n",
        "\n",
        "## 오버피팅(Overfitting)을 수정하기 위해서 Dropout 레이어를 추가한 모델을 학습"
      ],
      "metadata": {
        "id": "RUgqmwyKlXX-"
      }
    },
    {
      "cell_type": "markdown",
      "source": [
        "     "
      ],
      "metadata": {
        "id": "WV9t7UCol6Go"
      }
    },
    {
      "cell_type": "markdown",
      "source": [
        "#1. 모델 만들기\n",
        "- Dropout 레이어 추가 모델 구성"
      ],
      "metadata": {
        "id": "yJQCf9EJlfHH"
      }
    },
    {
      "cell_type": "code",
      "source": [
        "from tensorflow import keras\n",
        "from tensorflow.keras import layers\n",
        "def build_dropout_model():\n",
        "   model = keras.Sequential()\n",
        "   model.add(layers.Conv2D(filters=16,\n",
        "                           kernel_size= 3,\n",
        "                           strides=(1, 1),\n",
        "                           padding='same',\n",
        "                           activation='relu',\n",
        "                           input_shape=(28, 28, 1)))\n",
        "   model.add(layers.MaxPool2D(pool_size=(2, 2), strides=2))\n",
        "   model.add(layers.Dropout(0.2))\n",
        "\n",
        "   model.add(layers.Conv2D(filters=32,\n",
        "                           kernel_size= 3,\n",
        "                           strides=(1, 1),\n",
        "                           padding='same',\n",
        "                           activation='relu'))\n",
        "   model.add(layers.MaxPool2D(pool_size=(2, 2), strides=2))\n",
        "   model.add(layers.Dropout(0.2))\n",
        "\n",
        "   model.add(layers.Conv2D(filters=64,\n",
        "                           kernel_size= 3,\n",
        "                           strides=(1, 1),\n",
        "                           padding='same',\n",
        "                           activation='relu'))\n",
        "   model.add(layers.MaxPool2D(pool_size=(2, 2), strides=2))\n",
        "   model.add(layers.Dropout(0.2))\n",
        "\n",
        "   model.add(layers.Flatten())\n",
        "   model.add(layers.Dense(64, activation = 'relu'))\n",
        "   model.add(layers.Dense(10, activation = 'softmax'))\n",
        "   return model"
      ],
      "metadata": {
        "id": "Qhr6tOHwlfOt"
      },
      "execution_count": 24,
      "outputs": []
    },
    {
      "cell_type": "code",
      "source": [
        "model = build_dropout_model()\n",
        "model.summary()"
      ],
      "metadata": {
        "colab": {
          "base_uri": "https://localhost:8080/"
        },
        "id": "mE0Cy03JnaFL",
        "outputId": "d9a986cb-f66d-4bf5-91b0-c10f00a48863"
      },
      "execution_count": 25,
      "outputs": [
        {
          "output_type": "stream",
          "name": "stdout",
          "text": [
            "Model: \"sequential_5\"\n",
            "_________________________________________________________________\n",
            " Layer (type)                Output Shape              Param #   \n",
            "=================================================================\n",
            " conv2d_15 (Conv2D)          (None, 28, 28, 16)        160       \n",
            "                                                                 \n",
            " max_pooling2d_15 (MaxPoolin  (None, 14, 14, 16)       0         \n",
            " g2D)                                                            \n",
            "                                                                 \n",
            " dropout (Dropout)           (None, 14, 14, 16)        0         \n",
            "                                                                 \n",
            " conv2d_16 (Conv2D)          (None, 14, 14, 32)        4640      \n",
            "                                                                 \n",
            " max_pooling2d_16 (MaxPoolin  (None, 7, 7, 32)         0         \n",
            " g2D)                                                            \n",
            "                                                                 \n",
            " dropout_1 (Dropout)         (None, 7, 7, 32)          0         \n",
            "                                                                 \n",
            " conv2d_17 (Conv2D)          (None, 7, 7, 64)          18496     \n",
            "                                                                 \n",
            " max_pooling2d_17 (MaxPoolin  (None, 3, 3, 64)         0         \n",
            " g2D)                                                            \n",
            "                                                                 \n",
            " dropout_2 (Dropout)         (None, 3, 3, 64)          0         \n",
            "                                                                 \n",
            " flatten_5 (Flatten)         (None, 576)               0         \n",
            "                                                                 \n",
            " dense_10 (Dense)            (None, 64)                36928     \n",
            "                                                                 \n",
            " dense_11 (Dense)            (None, 10)                650       \n",
            "                                                                 \n",
            "=================================================================\n",
            "Total params: 60,874\n",
            "Trainable params: 60,874\n",
            "Non-trainable params: 0\n",
            "_________________________________________________________________\n"
          ]
        }
      ]
    },
    {
      "cell_type": "markdown",
      "source": [
        "#2. 컴파일 및 학습"
      ],
      "metadata": {
        "id": "8SPQGxKDlfVE"
      }
    },
    {
      "cell_type": "code",
      "source": [
        "model.compile(optimizer='adam',\n",
        "              loss = 'categorical_crossentropy',\n",
        "              metrics=['acc'])"
      ],
      "metadata": {
        "id": "TlvvYh1jlfbu"
      },
      "execution_count": 26,
      "outputs": []
    },
    {
      "cell_type": "code",
      "source": [
        "EPOCHS = 30\n",
        "BATCH_SIZE = 64\n",
        "history = model.fit(X_train, y_train_oh,\n",
        "                    epochs = EPOCHS,\n",
        "                    batch_size = BATCH_SIZE,\n",
        "                    validation_data = (X_val, y_val_oh),\n",
        "                    verbose = 1)"
      ],
      "metadata": {
        "colab": {
          "base_uri": "https://localhost:8080/"
        },
        "id": "BQwUZwt_np1-",
        "outputId": "bf18bce5-30f5-49f2-81a1-dbec721482b7"
      },
      "execution_count": 28,
      "outputs": [
        {
          "output_type": "stream",
          "name": "stdout",
          "text": [
            "Epoch 1/30\n",
            "657/657 [==============================] - 49s 75ms/step - loss: 0.1924 - acc: 0.9264 - val_loss: 0.2126 - val_acc: 0.9224\n",
            "Epoch 2/30\n",
            "657/657 [==============================] - 52s 80ms/step - loss: 0.1909 - acc: 0.9273 - val_loss: 0.2146 - val_acc: 0.9225\n",
            "Epoch 3/30\n",
            "657/657 [==============================] - 59s 90ms/step - loss: 0.1937 - acc: 0.9266 - val_loss: 0.2107 - val_acc: 0.9234\n",
            "Epoch 4/30\n",
            "657/657 [==============================] - 54s 83ms/step - loss: 0.1908 - acc: 0.9278 - val_loss: 0.2085 - val_acc: 0.9248\n",
            "Epoch 5/30\n",
            "657/657 [==============================] - 55s 84ms/step - loss: 0.1902 - acc: 0.9280 - val_loss: 0.2125 - val_acc: 0.9218\n",
            "Epoch 6/30\n",
            "657/657 [==============================] - 72s 110ms/step - loss: 0.1876 - acc: 0.9286 - val_loss: 0.2080 - val_acc: 0.9239\n",
            "Epoch 7/30\n",
            "657/657 [==============================] - 63s 96ms/step - loss: 0.1846 - acc: 0.9300 - val_loss: 0.2104 - val_acc: 0.9238\n",
            "Epoch 8/30\n",
            "657/657 [==============================] - 57s 87ms/step - loss: 0.1874 - acc: 0.9280 - val_loss: 0.2101 - val_acc: 0.9246\n",
            "Epoch 9/30\n",
            "657/657 [==============================] - 62s 95ms/step - loss: 0.1857 - acc: 0.9308 - val_loss: 0.2112 - val_acc: 0.9206\n",
            "Epoch 10/30\n",
            "657/657 [==============================] - 52s 79ms/step - loss: 0.1851 - acc: 0.9298 - val_loss: 0.2032 - val_acc: 0.9278\n",
            "Epoch 11/30\n",
            "657/657 [==============================] - 56s 86ms/step - loss: 0.1810 - acc: 0.9307 - val_loss: 0.2020 - val_acc: 0.9270\n",
            "Epoch 12/30\n",
            "657/657 [==============================] - 51s 77ms/step - loss: 0.1803 - acc: 0.9314 - val_loss: 0.2068 - val_acc: 0.9253\n",
            "Epoch 13/30\n",
            "657/657 [==============================] - 63s 96ms/step - loss: 0.1788 - acc: 0.9312 - val_loss: 0.2058 - val_acc: 0.9248\n",
            "Epoch 14/30\n",
            "657/657 [==============================] - 51s 77ms/step - loss: 0.1787 - acc: 0.9323 - val_loss: 0.2068 - val_acc: 0.9249\n",
            "Epoch 15/30\n",
            "657/657 [==============================] - 51s 77ms/step - loss: 0.1780 - acc: 0.9319 - val_loss: 0.2182 - val_acc: 0.9211\n",
            "Epoch 16/30\n",
            "657/657 [==============================] - 51s 77ms/step - loss: 0.1774 - acc: 0.9328 - val_loss: 0.2064 - val_acc: 0.9272\n",
            "Epoch 17/30\n",
            "657/657 [==============================] - 51s 77ms/step - loss: 0.1780 - acc: 0.9324 - val_loss: 0.2075 - val_acc: 0.9252\n",
            "Epoch 18/30\n",
            "657/657 [==============================] - 50s 75ms/step - loss: 0.1757 - acc: 0.9326 - val_loss: 0.2139 - val_acc: 0.9218\n",
            "Epoch 19/30\n",
            "657/657 [==============================] - 51s 77ms/step - loss: 0.1716 - acc: 0.9351 - val_loss: 0.2052 - val_acc: 0.9257\n",
            "Epoch 20/30\n",
            "657/657 [==============================] - 50s 76ms/step - loss: 0.1697 - acc: 0.9355 - val_loss: 0.2098 - val_acc: 0.9246\n",
            "Epoch 21/30\n",
            "657/657 [==============================] - 54s 83ms/step - loss: 0.1728 - acc: 0.9346 - val_loss: 0.2076 - val_acc: 0.9266\n",
            "Epoch 22/30\n",
            "657/657 [==============================] - 55s 83ms/step - loss: 0.1746 - acc: 0.9337 - val_loss: 0.2103 - val_acc: 0.9234\n",
            "Epoch 23/30\n",
            "657/657 [==============================] - 50s 76ms/step - loss: 0.1707 - acc: 0.9358 - val_loss: 0.2084 - val_acc: 0.9258\n",
            "Epoch 24/30\n",
            "657/657 [==============================] - 55s 83ms/step - loss: 0.1700 - acc: 0.9363 - val_loss: 0.2089 - val_acc: 0.9252\n",
            "Epoch 25/30\n",
            "657/657 [==============================] - 49s 75ms/step - loss: 0.1699 - acc: 0.9350 - val_loss: 0.2057 - val_acc: 0.9262\n",
            "Epoch 26/30\n",
            "657/657 [==============================] - 49s 75ms/step - loss: 0.1719 - acc: 0.9330 - val_loss: 0.2156 - val_acc: 0.9223\n",
            "Epoch 27/30\n",
            "657/657 [==============================] - 49s 75ms/step - loss: 0.1652 - acc: 0.9375 - val_loss: 0.2122 - val_acc: 0.9259\n",
            "Epoch 28/30\n",
            "657/657 [==============================] - 50s 76ms/step - loss: 0.1645 - acc: 0.9370 - val_loss: 0.2058 - val_acc: 0.9269\n",
            "Epoch 29/30\n",
            "657/657 [==============================] - 49s 75ms/step - loss: 0.1645 - acc: 0.9364 - val_loss: 0.2092 - val_acc: 0.9271\n",
            "Epoch 30/30\n",
            "657/657 [==============================] - 48s 73ms/step - loss: 0.1659 - acc: 0.9363 - val_loss: 0.2115 - val_acc: 0.9275\n"
          ]
        }
      ]
    },
    {
      "cell_type": "markdown",
      "source": [
        "#3. 학습 곡선"
      ],
      "metadata": {
        "id": "MKvYH7_clfiP"
      }
    },
    {
      "cell_type": "code",
      "source": [
        "import matplotlib.pyplot as plt\n",
        "import pandas as pd\n",
        "def plot_history(history):\n",
        "  hist = pd.DataFrame(history.history)\n",
        "  hist['epoch'] = history.epoch\n",
        "  plt.figure(figsize=(16,8))\n",
        "  plt.subplot(1,2,1)\n",
        "  plt.xlabel('Epoch')\n",
        "  plt.ylabel('Loss')\n",
        "  plt.plot(hist['epoch'], hist['loss'], label='Train Loss')\n",
        "  plt.plot(hist['epoch'], hist['val_loss'],label = 'Val Loss')\n",
        "  plt.legend()\n",
        "\n",
        "  plt.subplot(1,2,2)\n",
        "  plt.xlabel('Epoch')\n",
        "  plt.ylabel('Accuracy')\n",
        "  plt.plot(hist['epoch'], hist['acc'], label='Train Accuracy')\n",
        "  plt.plot(hist['epoch'], hist['val_acc'], label = 'Val Accuracy')\n",
        "  plt.legend()\n",
        "plt.show()"
      ],
      "metadata": {
        "id": "XJfqR2QIlfn0"
      },
      "execution_count": 29,
      "outputs": []
    },
    {
      "cell_type": "code",
      "source": [
        "plot_history(history)"
      ],
      "metadata": {
        "colab": {
          "base_uri": "https://localhost:8080/",
          "height": 430
        },
        "id": "X2-J2agIt5gb",
        "outputId": "80c1a3c3-8ddf-43fb-8373-ce290a1ada1c"
      },
      "execution_count": 30,
      "outputs": [
        {
          "output_type": "display_data",
          "data": {
            "text/plain": [
              "<Figure size 1600x800 with 2 Axes>"
            ],
            "image/png": "[encoded data removed]"
          },
          "metadata": {}
        }
      ]
    },
    {
      "cell_type": "markdown",
      "source": [
        "#4. 예측"
      ],
      "metadata": {
        "id": "K660RS4Ilftb"
      }
    },
    {
      "cell_type": "code",
      "source": [
        "y_pred = model.predict(X_test)\n",
        "y_pred_argmax = np.argmax(y_pred, axis=1)\n",
        "y_pred_argmax[:10]"
      ],
      "metadata": {
        "colab": {
          "base_uri": "https://localhost:8080/"
        },
        "id": "hiY7vFBJlfzR",
        "outputId": "43655896-9694-4c8b-847b-9d666aba0453"
      },
      "execution_count": 31,
      "outputs": [
        {
          "output_type": "stream",
          "name": "stdout",
          "text": [
            "313/313 [==============================] - 3s 10ms/step\n"
          ]
        },
        {
          "output_type": "execute_result",
          "data": {
            "text/plain": [
              "array([9, 2, 1, 1, 6, 1, 4, 6, 5, 7])"
            ]
          },
          "metadata": {},
          "execution_count": 31
        }
      ]
    },
    {
      "cell_type": "markdown",
      "source": [
        "#5. 평가 지표 계산"
      ],
      "metadata": {
        "id": "C0kEUcqflf5A"
      }
    },
    {
      "cell_type": "code",
      "source": [
        "from sklearn.metrics import accuracy_score, precision_score, recall_score, f1_score\n",
        "def print_score(y_test, y_pred):\n",
        "   print('accuracy: %.3f' % (accuracy_score(y_test, y_pred)))\n",
        "   print('precision: %.3f' % (precision_score(y_test, y_pred, average='macro')))\n",
        "   print('recall_score: %.3f' % (recall_score(y_test, y_pred, average='macro')))\n",
        "   print('f1_score: %.3f' % (f1_score(y_test, y_pred, average='macro')))"
      ],
      "metadata": {
        "id": "FrYkpnNllf-e"
      },
      "execution_count": 33,
      "outputs": []
    },
    {
      "cell_type": "code",
      "source": [
        "print_score(y_test, y_pred_argmax)"
      ],
      "metadata": {
        "colab": {
          "base_uri": "https://localhost:8080/"
        },
        "id": "Dn3AEaKFwLyB",
        "outputId": "dcba8dcc-8aff-46f1-d2b6-85e750c4faaf"
      },
      "execution_count": 34,
      "outputs": [
        {
          "output_type": "stream",
          "name": "stdout",
          "text": [
            "accuracy: 0.918\n",
            "precision: 0.918\n",
            "recall_score: 0.918\n",
            "f1_score: 0.918\n"
          ]
        }
      ]
    },
    {
      "cell_type": "markdown",
      "source": [],
      "metadata": {
        "id": "1QDO-B1HmTUL"
      }
    },
    {
      "cell_type": "markdown",
      "source": [
        "#2-3 드롭아웃\n",
        "\n",
        "## 다중분류는 레이블을 원핫인코딩하지만 이번에는 레이블 데이터를 원-핫 인코딩하지 않고 사용하는 방법!!!"
      ],
      "metadata": {
        "id": "g4B7WU0LmTYN"
      }
    },
    {
      "cell_type": "markdown",
      "source": [],
      "metadata": {
        "id": "Si5MR9QPmTbc"
      }
    },
    {
      "cell_type": "markdown",
      "source": [
        "#1. 모델 만들기"
      ],
      "metadata": {
        "id": "tu-uLQx5mTe-"
      }
    },
    {
      "cell_type": "code",
      "source": [
        "model = build_dropout_model()"
      ],
      "metadata": {
        "id": "6yAmVH0VmTmY"
      },
      "execution_count": 35,
      "outputs": []
    },
    {
      "cell_type": "markdown",
      "source": [
        "#2. 모델 컴파일\n",
        "- 레이블 데이터를 원-핫 인코딩하지 않았다면, 손실 함수로 ‘sparse_categorical_crossentropy’ 를 사용"
      ],
      "metadata": {
        "id": "4RaO26XowT2U"
      }
    },
    {
      "cell_type": "code",
      "source": [
        "model.compile(optimizer='adam',\n",
        "        loss = 'sparse_categorical_crossentropy',\n",
        "        metrics=['acc'])"
      ],
      "metadata": {
        "id": "eX6k9RHjwT_i"
      },
      "execution_count": 36,
      "outputs": []
    },
    {
      "cell_type": "markdown",
      "source": [
        "#3. 모델의 학습\n",
        "- 모델에 입력하는 레이블 데이터는 원-핫 인코딩을 하지않은 상태의 데이터를 입력"
      ],
      "metadata": {
        "id": "VIJlzB5RmUCs"
      }
    },
    {
      "cell_type": "code",
      "source": [
        "EPOCHS = 30\n",
        "BATCH_SIZE = 64\n",
        "history = model.fit(X_train, y_train,\n",
        "           epochs = EPOCHS,\n",
        "           batch_size = BATCH_SIZE,\n",
        "           validation_data = (X_val, y_val),\n",
        "           verbose = 1)"
      ],
      "metadata": {
        "colab": {
          "base_uri": "https://localhost:8080/"
        },
        "id": "OVYHQ81QmUII",
        "outputId": "3dcca2ac-bb9c-4f94-ddf1-af0703f2fd5d"
      },
      "execution_count": 37,
      "outputs": [
        {
          "output_type": "stream",
          "name": "stdout",
          "text": [
            "Epoch 1/30\n",
            "657/657 [==============================] - 53s 79ms/step - loss: 0.7188 - acc: 0.7330 - val_loss: 0.4745 - val_acc: 0.8239\n",
            "Epoch 2/30\n",
            "657/657 [==============================] - 52s 79ms/step - loss: 0.4604 - acc: 0.8310 - val_loss: 0.3708 - val_acc: 0.8651\n",
            "Epoch 3/30\n",
            "657/657 [==============================] - 53s 80ms/step - loss: 0.3994 - acc: 0.8530 - val_loss: 0.3381 - val_acc: 0.8783\n",
            "Epoch 4/30\n",
            "657/657 [==============================] - 50s 77ms/step - loss: 0.3609 - acc: 0.8676 - val_loss: 0.3057 - val_acc: 0.8869\n",
            "Epoch 5/30\n",
            "657/657 [==============================] - 55s 83ms/step - loss: 0.3383 - acc: 0.8740 - val_loss: 0.2980 - val_acc: 0.8905\n",
            "Epoch 6/30\n",
            "657/657 [==============================] - 50s 76ms/step - loss: 0.3186 - acc: 0.8813 - val_loss: 0.2783 - val_acc: 0.8956\n",
            "Epoch 7/30\n",
            "657/657 [==============================] - 50s 76ms/step - loss: 0.3062 - acc: 0.8861 - val_loss: 0.2787 - val_acc: 0.8971\n",
            "Epoch 8/30\n",
            "657/657 [==============================] - 49s 75ms/step - loss: 0.2957 - acc: 0.8903 - val_loss: 0.2663 - val_acc: 0.9021\n",
            "Epoch 9/30\n",
            "657/657 [==============================] - 51s 77ms/step - loss: 0.2856 - acc: 0.8943 - val_loss: 0.2617 - val_acc: 0.9039\n",
            "Epoch 10/30\n",
            "657/657 [==============================] - 55s 84ms/step - loss: 0.2747 - acc: 0.8985 - val_loss: 0.2479 - val_acc: 0.9069\n",
            "Epoch 11/30\n",
            "657/657 [==============================] - 51s 78ms/step - loss: 0.2655 - acc: 0.9000 - val_loss: 0.2430 - val_acc: 0.9092\n",
            "Epoch 12/30\n",
            "657/657 [==============================] - 50s 76ms/step - loss: 0.2606 - acc: 0.9042 - val_loss: 0.2416 - val_acc: 0.9119\n",
            "Epoch 13/30\n",
            "657/657 [==============================] - 55s 84ms/step - loss: 0.2575 - acc: 0.9045 - val_loss: 0.2360 - val_acc: 0.9133\n",
            "Epoch 14/30\n",
            "657/657 [==============================] - 51s 77ms/step - loss: 0.2498 - acc: 0.9068 - val_loss: 0.2433 - val_acc: 0.9091\n",
            "Epoch 15/30\n",
            "657/657 [==============================] - 55s 84ms/step - loss: 0.2455 - acc: 0.9097 - val_loss: 0.2356 - val_acc: 0.9137\n",
            "Epoch 16/30\n",
            "657/657 [==============================] - 51s 77ms/step - loss: 0.2400 - acc: 0.9098 - val_loss: 0.2280 - val_acc: 0.9162\n",
            "Epoch 17/30\n",
            "657/657 [==============================] - 55s 84ms/step - loss: 0.2380 - acc: 0.9110 - val_loss: 0.2311 - val_acc: 0.9136\n",
            "Epoch 18/30\n",
            "657/657 [==============================] - 51s 77ms/step - loss: 0.2363 - acc: 0.9108 - val_loss: 0.2261 - val_acc: 0.9163\n",
            "Epoch 19/30\n",
            "657/657 [==============================] - 49s 75ms/step - loss: 0.2309 - acc: 0.9126 - val_loss: 0.2286 - val_acc: 0.9160\n",
            "Epoch 20/30\n",
            "657/657 [==============================] - 57s 87ms/step - loss: 0.2270 - acc: 0.9143 - val_loss: 0.2179 - val_acc: 0.9192\n",
            "Epoch 21/30\n",
            "657/657 [==============================] - 67s 102ms/step - loss: 0.2211 - acc: 0.9161 - val_loss: 0.2199 - val_acc: 0.9196\n",
            "Epoch 22/30\n",
            "657/657 [==============================] - 57s 87ms/step - loss: 0.2198 - acc: 0.9179 - val_loss: 0.2151 - val_acc: 0.9204\n",
            "Epoch 23/30\n",
            "657/657 [==============================] - 55s 83ms/step - loss: 0.2190 - acc: 0.9180 - val_loss: 0.2147 - val_acc: 0.9224\n",
            "Epoch 24/30\n",
            "657/657 [==============================] - 55s 84ms/step - loss: 0.2173 - acc: 0.9178 - val_loss: 0.2161 - val_acc: 0.9223\n",
            "Epoch 25/30\n",
            "657/657 [==============================] - 51s 77ms/step - loss: 0.2123 - acc: 0.9190 - val_loss: 0.2165 - val_acc: 0.9209\n",
            "Epoch 26/30\n",
            "657/657 [==============================] - 50s 76ms/step - loss: 0.2115 - acc: 0.9205 - val_loss: 0.2137 - val_acc: 0.9212\n",
            "Epoch 27/30\n",
            "657/657 [==============================] - 54s 83ms/step - loss: 0.2053 - acc: 0.9221 - val_loss: 0.2140 - val_acc: 0.9228\n",
            "Epoch 28/30\n",
            "657/657 [==============================] - 50s 76ms/step - loss: 0.2091 - acc: 0.9201 - val_loss: 0.2116 - val_acc: 0.9224\n",
            "Epoch 29/30\n",
            "657/657 [==============================] - 49s 75ms/step - loss: 0.2027 - acc: 0.9228 - val_loss: 0.2183 - val_acc: 0.9201\n",
            "Epoch 30/30\n",
            "657/657 [==============================] - 50s 76ms/step - loss: 0.2020 - acc: 0.9242 - val_loss: 0.2152 - val_acc: 0.9207\n"
          ]
        }
      ]
    },
    {
      "cell_type": "markdown",
      "source": [
        "#4. 예측\n",
        "- 예측 결과는 10개 클래스에 대한 확률값으로 출력"
      ],
      "metadata": {
        "id": "xkKawoNwmUNU"
      }
    },
    {
      "cell_type": "code",
      "source": [
        "y_pred = model.predict(X_test)\n",
        "y_pred[:1]"
      ],
      "metadata": {
        "colab": {
          "base_uri": "https://localhost:8080/"
        },
        "id": "WwzD_DuXmUSh",
        "outputId": "3454b331-2f26-4e30-ed0a-0ab1430d994e"
      },
      "execution_count": 38,
      "outputs": [
        {
          "output_type": "stream",
          "name": "stdout",
          "text": [
            "313/313 [==============================] - 3s 10ms/step\n"
          ]
        },
        {
          "output_type": "execute_result",
          "data": {
            "text/plain": [
              "array([[2.3525784e-08, 2.9758004e-07, 3.9486725e-09, 6.7678734e-08,\n",
              "        4.6488918e-10, 6.9807511e-06, 1.6912761e-08, 1.2073994e-03,\n",
              "        3.5049552e-09, 9.9878526e-01]], dtype=float32)"
            ]
          },
          "metadata": {},
          "execution_count": 38
        }
      ]
    },
    {
      "cell_type": "markdown",
      "source": [
        "#4. 평가 지표 계산"
      ],
      "metadata": {
        "id": "P5IYOrd1mUXw"
      }
    },
    {
      "cell_type": "code",
      "source": [
        "y_pred_argmax = np.argmax(y_pred, axis=1)\n",
        "print_score(y_test, y_pred_argmax)"
      ],
      "metadata": {
        "colab": {
          "base_uri": "https://localhost:8080/"
        },
        "id": "jPKdnXiLmUwM",
        "outputId": "1cbe7ed4-e60c-4ae7-fd83-caab936f7045"
      },
      "execution_count": 39,
      "outputs": [
        {
          "output_type": "stream",
          "name": "stdout",
          "text": [
            "accuracy: 0.915\n",
            "precision: 0.915\n",
            "recall_score: 0.916\n",
            "f1_score: 0.915\n"
          ]
        }
      ]
    },
    {
      "cell_type": "markdown",
      "source": [
        "----------------"
      ],
      "metadata": {
        "id": "xqqXiznn6CNd"
      }
    },
    {
      "cell_type": "markdown",
      "source": [
        "# *** 실 습 ***"
      ],
      "metadata": {
        "id": "9lu_DCNQ6C0l"
      }
    },
    {
      "cell_type": "markdown",
      "source": [
        "## (1) MNIST 데이터를 CNN으로 모델 변경\n",
        "# 정확도 ?"
      ],
      "metadata": {
        "id": "RQSzA1PH6MR2"
      }
    }
  ]
}