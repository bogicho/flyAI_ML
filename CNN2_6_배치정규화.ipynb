{
  "nbformat": 4,
  "nbformat_minor": 0,
  "metadata": {
    "colab": {
      "provenance": [],
      "authorship_tag": "ABX9TyPXTUrDM5qhl+4Ql/3JLkOv",
      "include_colab_link": true
    },
    "kernelspec": {
      "name": "python3",
      "display_name": "Python 3"
    },
    "language_info": {
      "name": "python"
    }
  },
  "cells": [
    {
      "cell_type": "markdown",
      "metadata": {
        "id": "view-in-github",
        "colab_type": "text"
      },
      "source": [
        "<a href=\"https://colab.research.google.com/github/bogicho/flyAI_ML/blob/main/%08CNN2_6_%EB%B0%B0%EC%B9%98%EC%A0%95%EA%B7%9C%ED%99%94.ipynb\" target=\"_parent\"><img src=\"https://colab.research.google.com/assets/colab-badge.svg\" alt=\"Open In Colab\"/></a>"
      ]
    },
    {
      "cell_type": "markdown",
      "source": [
        "# 배치 정규화\n",
        "### 과대 적합 해결 방법은 아니지만, 과대 적합을 방지하는 효과가 있어 여러 모델에서 사용\n",
        "- 배치 정규화를 사용하는 모델"
      ],
      "metadata": {
        "id": "hsV2kMbE09xL"
      }
    },
    {
      "cell_type": "markdown",
      "source": [
        "#1. 모델 구성"
      ],
      "metadata": {
        "id": "eRMZ00lo1F__"
      }
    },
    {
      "cell_type": "code",
      "execution_count": null,
      "metadata": {
        "id": "w7q--Djmrrpq"
      },
      "outputs": [],
      "source": [
        "def build_model_bach_normalization():\n",
        "   model = keras.Sequential()\n",
        "   model.add(layers.Conv2D(32, 3, padding = 'same', input_shape =\n",
        "(32, 32, 3)))\n",
        "   model.add(layers.BatchNormalization())\n",
        "   model.add(layers.Activation('relu'))\n",
        "   model.add(layers.MaxPooling2D(2))\n",
        "   model.add(layers.Conv2D(64, 3, padding = 'same'))\n",
        "   model.add(layers.BatchNormalization())\n",
        "   model.add(layers.Activation('relu'))\n",
        "   model.add(layers.MaxPooling2D(2))\n",
        "   model.add(layers.Conv2D(256, 3, padding = 'same'))\n",
        "   model.add(layers.BatchNormalization())\n",
        "   model.add(layers.Activation('relu'))\n",
        "   model.add(layers.MaxPooling2D(2))\n",
        "   model.add(layers.Conv2D(256, 3, padding = 'same'))\n",
        "   model.add(layers.BatchNormalization())\n",
        "   model.add(layers.Activation('relu'))\n",
        "   model.add(layers.MaxPooling2D(2))\n",
        "   model.add(layers.Flatten())\n",
        "   model.add(layers.Dense(256, activation='relu'))\n",
        "   model.add(layers.Dense(10, activation='softmax'))\n",
        "   return model"
      ]
    },
    {
      "cell_type": "code",
      "source": [
        "model = build_model_bach_normalization()\n",
        "model.summary()"
      ],
      "metadata": {
        "id": "H74G4kEd1Lx4"
      },
      "execution_count": null,
      "outputs": []
    },
    {
      "cell_type": "markdown",
      "source": [
        "#2. 모델 학습"
      ],
      "metadata": {
        "id": "y3Oqkpz31JiN"
      }
    },
    {
      "cell_type": "code",
      "source": [
        "adam = tf.keras.optimizers.Adam(learning_rate=0.0001)\n",
        "model.compile(optimizer=adam,\n",
        "              loss = 'categorical_crossentropy',\n",
        "              metrics=['acc'])"
      ],
      "metadata": {
        "id": "uMCZCzV21JpE"
      },
      "execution_count": null,
      "outputs": []
    },
    {
      "cell_type": "code",
      "source": [
        "EPOCHS = 100\n",
        "BATCH_SIZE = 256\n",
        "history = model.fit(X_train, y_train_oh,\n",
        "                    epochs = EPOCHS,\n",
        "                    batch_size = BATCH_SIZE,\n",
        "                    validation_data = (X_val, y_val_oh))"
      ],
      "metadata": {
        "id": "XsaM1dJa2LSM"
      },
      "execution_count": null,
      "outputs": []
    },
    {
      "cell_type": "markdown",
      "source": [
        "#3. 학습곡선"
      ],
      "metadata": {
        "id": "zmXK4xGV1Jwj"
      }
    },
    {
      "cell_type": "code",
      "source": [
        "import matplotlib.pyplot as plt\n",
        "import pandas as pd\n",
        "def plot_history(history):\n",
        "  hist = pd.DataFrame(history.history)\n",
        "  hist['epoch'] = history.epoch\n",
        "  plt.figure(figsize=(16,8))\n",
        "  plt.subplot(1,2,1)\n",
        "  plt.xlabel('Epoch')\n",
        "  plt.ylabel('Loss')\n",
        "  plt.plot(hist['epoch'], hist['loss'], label='Train Loss')\n",
        "  plt.plot(hist['epoch'], hist['val_loss'],label = 'Val Loss')\n",
        "  plt.legend()\n",
        "\n",
        "  plt.subplot(1,2,2)\n",
        "  plt.xlabel('Epoch')\n",
        "  plt.ylabel('Accuracy')\n",
        "  plt.plot(hist['epoch'], hist['acc'], label='Train Accuracy')\n",
        "  plt.plot(hist['epoch'], hist['val_acc'], label = 'Val Accuracy')\n",
        "  plt.legend()\n",
        "plt.show()"
      ],
      "metadata": {
        "id": "QYtVM7IG1J1z"
      },
      "execution_count": null,
      "outputs": []
    },
    {
      "cell_type": "code",
      "source": [
        "plot_history(history)"
      ],
      "metadata": {
        "id": "-XPnrrp62kuk"
      },
      "execution_count": null,
      "outputs": []
    },
    {
      "cell_type": "markdown",
      "source": [
        "#4. 모델 평가"
      ],
      "metadata": {
        "id": "mcTLnCko1J8D"
      }
    },
    {
      "cell_type": "code",
      "source": [
        "loss, acc = model.evaluate(X_test, y_test_oh)\n",
        "\n",
        "print('loss : ', loss)\n",
        "print('acc : ', acc)"
      ],
      "metadata": {
        "id": "t6GRQ2wV1KBy"
      },
      "execution_count": null,
      "outputs": []
    },
    {
      "cell_type": "markdown",
      "source": [],
      "metadata": {
        "id": "HEaZVU6Y1KHx"
      }
    },
    {
      "cell_type": "code",
      "source": [],
      "metadata": {
        "id": "QVQ_CwLT1KNY"
      },
      "execution_count": null,
      "outputs": []
    },
    {
      "cell_type": "markdown",
      "source": [],
      "metadata": {
        "id": "WZs0fSwP1KS2"
      }
    },
    {
      "cell_type": "code",
      "source": [],
      "metadata": {
        "id": "Pk6RnygM1KYc"
      },
      "execution_count": null,
      "outputs": []
    }
  ]
}