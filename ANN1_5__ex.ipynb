{
  "nbformat": 4,
  "nbformat_minor": 0,
  "metadata": {
    "colab": {
      "provenance": [],
      "name": "ANN1-5-_ex.ipynb",
      "authorship_tag": "ABX9TyOA8xdeh4k5oqF6vaEpAur6",
      "include_colab_link": true
    },
    "kernelspec": {
      "name": "python3",
      "display_name": "Python 3"
    },
    "language_info": {
      "name": "python"
    }
  },
  "cells": [
    {
      "cell_type": "markdown",
      "metadata": {
        "id": "view-in-github",
        "colab_type": "text"
      },
      "source": [
        "<a href=\"https://colab.research.google.com/github/bogicho/flyAI_ML/blob/main/ANN1_5__ex.ipynb\" target=\"_parent\"><img src=\"https://colab.research.google.com/assets/colab-badge.svg\" alt=\"Open In Colab\"/></a>"
      ]
    },
    {
      "cell_type": "markdown",
      "source": [
        "# 펭귄 데이터를 이용한 다중 분류 모델 학습"
      ],
      "metadata": {
        "id": "rekPncnbcPvY"
      }
    },
    {
      "cell_type": "markdown",
      "source": [
        "#1. 데이터 준비"
      ],
      "metadata": {
        "id": "ACtLXT60cWCJ"
      }
    },
    {
      "cell_type": "code",
      "source": [],
      "metadata": {
        "id": "hucXiWjqcWY7"
      },
      "execution_count": null,
      "outputs": []
    },
    {
      "cell_type": "markdown",
      "source": [
        "#2. 펭귄의 종류 확인"
      ],
      "metadata": {
        "id": "npTGT-RycXS-"
      }
    },
    {
      "cell_type": "code",
      "source": [],
      "metadata": {
        "id": "yChQb3gzcXdB"
      },
      "execution_count": null,
      "outputs": []
    },
    {
      "cell_type": "markdown",
      "source": [
        "#3. 데이터 정보 확인"
      ],
      "metadata": {
        "id": "AM748QW4cXlY"
      }
    },
    {
      "cell_type": "code",
      "source": [],
      "metadata": {
        "id": "e893nsaqcXtx"
      },
      "execution_count": null,
      "outputs": []
    },
    {
      "cell_type": "markdown",
      "source": [
        "#4. 결측치 확인"
      ],
      "metadata": {
        "id": "ihOOpQOGcX2H"
      }
    },
    {
      "cell_type": "code",
      "source": [],
      "metadata": {
        "id": "MInzStascX9z"
      },
      "execution_count": null,
      "outputs": []
    },
    {
      "cell_type": "markdown",
      "source": [
        "#5. 결측치 처리"
      ],
      "metadata": {
        "id": "3zqxRJjDcYE1"
      }
    },
    {
      "cell_type": "code",
      "source": [],
      "metadata": {
        "id": "J_G87EvfcYL2"
      },
      "execution_count": null,
      "outputs": []
    },
    {
      "cell_type": "markdown",
      "source": [
        "#6. 속성과 레이블 관리"
      ],
      "metadata": {
        "id": "M9epPMaScYTD"
      }
    },
    {
      "cell_type": "code",
      "source": [],
      "metadata": {
        "id": "L2UTSrYwcYZ5"
      },
      "execution_count": null,
      "outputs": []
    },
    {
      "cell_type": "markdown",
      "source": [
        "#7. 데스트 데이터 분리"
      ],
      "metadata": {
        "id": "ZUwj8mo0cxnV"
      }
    },
    {
      "cell_type": "code",
      "source": [],
      "metadata": {
        "id": "v2B6QD74cx6S"
      },
      "execution_count": null,
      "outputs": []
    },
    {
      "cell_type": "markdown",
      "source": [
        "#8. 학습에 사용할 컬러 추출"
      ],
      "metadata": {
        "id": "Z9d_uGkCcyBd"
      }
    },
    {
      "cell_type": "code",
      "source": [],
      "metadata": {
        "id": "1lHYeRSecyJI"
      },
      "execution_count": null,
      "outputs": []
    },
    {
      "cell_type": "markdown",
      "source": [
        "#9. 스케일링"
      ],
      "metadata": {
        "id": "qUnNveyJcyQS"
      }
    },
    {
      "cell_type": "code",
      "source": [],
      "metadata": {
        "id": "n5BwekLEcyWr"
      },
      "execution_count": null,
      "outputs": []
    },
    {
      "cell_type": "markdown",
      "source": [
        "#10.데이터 프레임 생성"
      ],
      "metadata": {
        "id": "Bswpdon2c8oi"
      }
    },
    {
      "cell_type": "code",
      "source": [],
      "metadata": {
        "id": "PG2GncKFc8wT"
      },
      "execution_count": null,
      "outputs": []
    },
    {
      "cell_type": "markdown",
      "source": [
        "#11. 레이블 인코딩"
      ],
      "metadata": {
        "id": "xyGbvARZc83F"
      }
    },
    {
      "cell_type": "code",
      "source": [],
      "metadata": {
        "id": "x5Kfd9_cc8-X"
      },
      "execution_count": null,
      "outputs": []
    },
    {
      "cell_type": "markdown",
      "source": [
        "#12. 원-핫 인코딩"
      ],
      "metadata": {
        "id": "NKodvOczc9FK"
      }
    },
    {
      "cell_type": "code",
      "source": [],
      "metadata": {
        "id": "Q5xHod0Mc9MK"
      },
      "execution_count": null,
      "outputs": []
    },
    {
      "cell_type": "markdown",
      "source": [
        "#13. 모델 만들기"
      ],
      "metadata": {
        "id": "VxDKGpS6c9S9"
      }
    },
    {
      "cell_type": "code",
      "source": [],
      "metadata": {
        "id": "Dcoke1fZc9Z9"
      },
      "execution_count": null,
      "outputs": []
    },
    {
      "cell_type": "markdown",
      "source": [
        "#14. 모델 컴파일"
      ],
      "metadata": {
        "id": "IV_i6_Ivc9gX"
      }
    },
    {
      "cell_type": "code",
      "source": [],
      "metadata": {
        "id": "s50DEOgPc9np"
      },
      "execution_count": null,
      "outputs": []
    },
    {
      "cell_type": "markdown",
      "source": [
        "#15. 모델 학습"
      ],
      "metadata": {
        "id": "sHiZY6KCdSoa"
      }
    },
    {
      "cell_type": "code",
      "source": [],
      "metadata": {
        "id": "qY_C8pBXdSxg"
      },
      "execution_count": null,
      "outputs": []
    },
    {
      "cell_type": "markdown",
      "source": [
        "#16. 학습 곡선"
      ],
      "metadata": {
        "id": "-gx5i_hIdS4I"
      }
    },
    {
      "cell_type": "code",
      "source": [],
      "metadata": {
        "id": "Dv4vZs0UdS_C"
      },
      "execution_count": null,
      "outputs": []
    },
    {
      "cell_type": "markdown",
      "source": [
        "#17. 테스트 데이터 처리"
      ],
      "metadata": {
        "id": "R4MpdK4SdTFC"
      }
    },
    {
      "cell_type": "code",
      "source": [],
      "metadata": {
        "id": "dORb44WUdTKp"
      },
      "execution_count": null,
      "outputs": []
    },
    {
      "cell_type": "markdown",
      "source": [
        "#18. 데이터 프레임 생성"
      ],
      "metadata": {
        "id": "SipsK4spdTRA"
      }
    },
    {
      "cell_type": "code",
      "source": [],
      "metadata": {
        "id": "kyxJPFNcdTXH"
      },
      "execution_count": null,
      "outputs": []
    },
    {
      "cell_type": "markdown",
      "source": [
        "#19. 데이트 프레임 생성"
      ],
      "metadata": {
        "id": "tmFhDGWcdh2s"
      }
    },
    {
      "cell_type": "code",
      "source": [],
      "metadata": {
        "id": "eeFP-ZQndh9c"
      },
      "execution_count": null,
      "outputs": []
    },
    {
      "cell_type": "markdown",
      "source": [
        "#20. 데이터 인코딩"
      ],
      "metadata": {
        "id": "nJ4wV1HrdiEe"
      }
    },
    {
      "cell_type": "code",
      "source": [],
      "metadata": {
        "id": "iFY23WqkdiKE"
      },
      "execution_count": null,
      "outputs": []
    },
    {
      "cell_type": "markdown",
      "source": [
        "#21. 타깃 데이터 인코딩"
      ],
      "metadata": {
        "id": "qKQP_hzhdiQN"
      }
    },
    {
      "cell_type": "code",
      "source": [],
      "metadata": {
        "id": "prnyMmKGdiV6"
      },
      "execution_count": null,
      "outputs": []
    },
    {
      "cell_type": "markdown",
      "source": [
        "#22. 넘파이 배열로 타입 변경"
      ],
      "metadata": {
        "id": "boa7-rX1dicC"
      }
    },
    {
      "cell_type": "code",
      "source": [],
      "metadata": {
        "id": "iBipdCYtdihg"
      },
      "execution_count": null,
      "outputs": []
    },
    {
      "cell_type": "markdown",
      "source": [
        "#23. 예측"
      ],
      "metadata": {
        "id": "Fqv7eHy0dinQ"
      }
    },
    {
      "cell_type": "code",
      "source": [],
      "metadata": {
        "id": "QCXwgovqdist"
      },
      "execution_count": null,
      "outputs": []
    },
    {
      "cell_type": "markdown",
      "source": [
        "#24. 가장 확률이 높은 인덱스"
      ],
      "metadata": {
        "id": "lGJIzd3Ud1qk"
      }
    },
    {
      "cell_type": "code",
      "source": [],
      "metadata": {
        "id": "dhcQ-IStd1wx"
      },
      "execution_count": null,
      "outputs": []
    },
    {
      "cell_type": "markdown",
      "source": [
        "#25. 혼동행렬 계산"
      ],
      "metadata": {
        "id": "xbduba37d11-"
      }
    },
    {
      "cell_type": "code",
      "source": [],
      "metadata": {
        "id": "T0Rf1A3Md17t"
      },
      "execution_count": null,
      "outputs": []
    },
    {
      "cell_type": "markdown",
      "source": [
        "#26. 혼동행렬 시각화"
      ],
      "metadata": {
        "id": "eVZRfZuLd9-0"
      }
    },
    {
      "cell_type": "code",
      "source": [],
      "metadata": {
        "id": "rTQREdTQd-Em"
      },
      "execution_count": null,
      "outputs": []
    },
    {
      "cell_type": "markdown",
      "source": [
        "#27. 평가지표 계산"
      ],
      "metadata": {
        "id": "RAn_X5XPd-KO"
      }
    },
    {
      "cell_type": "code",
      "source": [],
      "metadata": {
        "id": "J24P9jiKd-QV"
      },
      "execution_count": null,
      "outputs": []
    }
  ]
}