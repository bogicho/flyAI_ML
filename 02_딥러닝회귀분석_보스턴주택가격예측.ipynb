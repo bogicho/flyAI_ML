{
  "nbformat": 4,
  "nbformat_minor": 0,
  "metadata": {
    "colab": {
      "provenance": [],
      "machine_shape": "hm",
      "gpuClass": "premium"
    },
    "kernelspec": {
      "name": "python3",
      "display_name": "Python 3"
    },
    "language_info": {
      "name": "python"
    },
    "accelerator": "GPU",
    "gpuClass": "premium"
  },
  "cells": [
    {
      "cell_type": "code",
      "execution_count": null,
      "metadata": {
        "id": "ELUoqgAaNKiS"
      },
      "outputs": [],
      "source": [
        "import pandas as pd\n",
        "import numpy as np\n",
        "import random\n",
        "import tensorflow as tf"
      ]
    },
    {
      "cell_type": "code",
      "source": [
        "SEED = 12\n",
        "random.seed(SEED)\n",
        "np.random.seed(SEED)\n",
        "tf.random.set_seed(SEED)"
      ],
      "metadata": {
        "id": "-YGmBq-eNeti"
      },
      "execution_count": null,
      "outputs": []
    },
    {
      "cell_type": "code",
      "source": [
        "from sklearn import datasets\n",
        "housing = datasets.load_boston()\n",
        "X_data = housing.data\n",
        "y_data = housing.target\n",
        "print(X_data.shape, y_data.shape)"
      ],
      "metadata": {
        "id": "Fmnpq6NjNzFq"
      },
      "execution_count": null,
      "outputs": []
    },
    {
      "cell_type": "code",
      "source": [
        "# 피처 스케일링\n",
        "from sklearn.preprocessing import MinMaxScaler\n",
        "scaler = MinMaxScaler()\n",
        "X_data_scaled = scaler.fit_transform(X_data)\n",
        "X_data_scaled[0]"
      ],
      "metadata": {
        "colab": {
          "base_uri": "https://localhost:8080/"
        },
        "id": "wNp7fbEpOMJI",
        "outputId": "abe8d5bb-0180-427f-f11d-2ea976c276a6"
      },
      "execution_count": null,
      "outputs": [
        {
          "output_type": "execute_result",
          "data": {
            "text/plain": [
              "array([0.        , 0.18      , 0.06781525, 0.        , 0.31481481,\n",
              "       0.57750527, 0.64160659, 0.26920314, 0.        , 0.20801527,\n",
              "       0.28723404, 1.        , 0.08967991])"
            ]
          },
          "metadata": {},
          "execution_count": 4
        }
      ]
    },
    {
      "cell_type": "code",
      "source": [
        "# 학습, 테스트 데이터셋 분할\n",
        "from sklearn.model_selection import train_test_split\n",
        "X_train, X_test, y_train, y_test = train_test_split(X_data_scaled, y_data, test_size=0.2,\n",
        "                                                    shuffle=True, random_state=SEED)\n",
        "print(X_train.shape, y_train.shape)\n",
        "print(X_test.shape, y_test.shape)"
      ],
      "metadata": {
        "colab": {
          "base_uri": "https://localhost:8080/"
        },
        "id": "b2oMDU_PS5WR",
        "outputId": "67163f94-3b09-4bd6-eb2d-d78d8020d657"
      },
      "execution_count": null,
      "outputs": [
        {
          "output_type": "stream",
          "name": "stdout",
          "text": [
            "(404, 13) (404,)\n",
            "(102, 13) (102,)\n"
          ]
        }
      ]
    },
    {
      "cell_type": "code",
      "source": [
        "# 심층 신경망\n",
        "from tensorflow.keras import Sequential\n",
        "from tensorflow.keras.layers import Dense\n",
        "def build_model(num_input=1):\n",
        "  model = Sequential()\n",
        "  model.add(Dense(128, activation='relu', input_dim=num_input))\n",
        "  model.add(Dense(64, activation='relu'))\n",
        "  model.add(Dense(32, activation='relu'))\n",
        "  model.add(Dense(16, activation='relu'))\n",
        "  model.add(Dense(1, activation='linear'))\n",
        "\n",
        "  model.compile(optimizer='adam', loss='mse', metrics=['mae'])\n",
        "  return model\n",
        "\n",
        "model = build_model(num_input=13)\n",
        "model.summary()"
      ],
      "metadata": {
        "colab": {
          "base_uri": "https://localhost:8080/"
        },
        "id": "57d3nmsuTkwJ",
        "outputId": "e13c33c9-d647-4d4b-b900-8c04819503e0"
      },
      "execution_count": null,
      "outputs": [
        {
          "output_type": "stream",
          "name": "stdout",
          "text": [
            "Model: \"sequential_2\"\n",
            "_________________________________________________________________\n",
            " Layer (type)                Output Shape              Param #   \n",
            "=================================================================\n",
            " dense_10 (Dense)            (None, 128)               1792      \n",
            "                                                                 \n",
            " dense_11 (Dense)            (None, 64)                8256      \n",
            "                                                                 \n",
            " dense_12 (Dense)            (None, 32)                2080      \n",
            "                                                                 \n",
            " dense_13 (Dense)            (None, 16)                528       \n",
            "                                                                 \n",
            " dense_14 (Dense)            (None, 1)                 17        \n",
            "                                                                 \n",
            "=================================================================\n",
            "Total params: 12,673\n",
            "Trainable params: 12,673\n",
            "Non-trainable params: 0\n",
            "_________________________________________________________________\n"
          ]
        }
      ]
    },
    {
      "cell_type": "code",
      "source": [
        "# 모델 훈련\n",
        "model.fit(X_train, y_train, epochs=100, batch_size=32, verbose=2)"
      ],
      "metadata": {
        "id": "FPYmXAFiXosy"
      },
      "execution_count": null,
      "outputs": []
    },
    {
      "cell_type": "code",
      "source": [
        "# 평가\n",
        "model.evaluate(X_test, y_test)"
      ],
      "metadata": {
        "colab": {
          "base_uri": "https://localhost:8080/"
        },
        "id": "jbDpp7RJXxCt",
        "outputId": "66f36abc-9e86-478a-b0c3-d894ebb41c05"
      },
      "execution_count": null,
      "outputs": [
        {
          "output_type": "stream",
          "name": "stdout",
          "text": [
            "4/4 [==============================] - 0s 3ms/step - loss: 11.6182 - mae: 2.5267\n"
          ]
        },
        {
          "output_type": "execute_result",
          "data": {
            "text/plain": [
              "[11.618229866027832, 2.526672601699829]"
            ]
          },
          "metadata": {},
          "execution_count": 20
        }
      ]
    },
    {
      "cell_type": "code",
      "source": [
        "model = build_model(num_input=13)\n",
        "history = model.fit(X_train, y_train, batch_size=32, epochs=200, validation_split=0.25,\n",
        "                    verbose=2)"
      ],
      "metadata": {
        "id": "x0TdsPY5YIoL"
      },
      "execution_count": null,
      "outputs": []
    },
    {
      "cell_type": "code",
      "source": [
        "import matplotlib.pyplot as plt\n",
        "def plot_loss_curve(total_epoch=10, start=1):\n",
        "  plt.figure(figsize=(5, 5))\n",
        "  plt.plot(range(start, total_epoch + 1),\n",
        "           history.history['loss'][start-1:total_epoch],\n",
        "           label='Train')\n",
        "  plt.plot(range(start, total_epoch + 1),\n",
        "           history.history['val_loss'][start-1:total_epoch],\n",
        "           label='Validation')\n",
        "  plt.xlabel('Epochs')\n",
        "  plt.ylabel('mse')\n",
        "  plt.legend()\n",
        "  plt.show()\n",
        "\n",
        "plot_loss_curve(total_epoch=200, start=1)"
      ],
      "metadata": {
        "colab": {
          "base_uri": "https://localhost:8080/",
          "height": 334
        },
        "id": "PrDkhV5fY-VZ",
        "outputId": "ea16041e-9c7f-43f6-d241-559c09a1754d"
      },
      "execution_count": null,
      "outputs": [
        {
          "output_type": "display_data",
          "data": {
            "text/plain": [
              "<Figure size 360x360 with 1 Axes>"
            ],
            "image/png": "[encoded data removed]"
          },
          "metadata": {
            "needs_background": "light"
          }
        }
      ]
    },
    {
      "cell_type": "code",
      "source": [
        "plot_loss_curve(total_epoch=200, start=20)"
      ],
      "metadata": {
        "colab": {
          "base_uri": "https://localhost:8080/",
          "height": 334
        },
        "id": "gDsf7nDNaa6E",
        "outputId": "63e9389c-1b77-44aa-d716-d3676c400e96"
      },
      "execution_count": null,
      "outputs": [
        {
          "output_type": "display_data",
          "data": {
            "text/plain": [
              "<Figure size 360x360 with 1 Axes>"
            ],
            "image/png": "[encoded data removed]"
          },
          "metadata": {
            "needs_background": "light"
          }
        }
      ]
    },
    {
      "cell_type": "code",
      "source": [],
      "metadata": {
        "id": "_65u79phbIUS"
      },
      "execution_count": null,
      "outputs": []
    }
  ]
}