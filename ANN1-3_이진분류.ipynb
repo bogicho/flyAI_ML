{
  "cells": [
    {
      "cell_type": "markdown",
      "source": [
        "# **1-3 이진 분류**"
      ],
      "metadata": {
        "id": "ntX9MqtgpIKA"
      }
    },
    {
      "cell_type": "markdown",
      "source": [
        "#피마인디언 데이터를 이용한 당뇨병 이진 분류"
      ],
      "metadata": {
        "id": "mYAv3W1LpMqQ"
      }
    },
    {
      "cell_type": "markdown",
      "source": [
        "#1. 라이브러리 및 데이터 불러오기"
      ],
      "metadata": {
        "id": "w9vbbI0-pSMK"
      }
    },
    {
      "cell_type": "code",
      "source": [
        "import numpy as np\n",
        "import pandas as pd\n",
        "import matplotlib.pyplot as plt\n",
        "%matplotlib inline\n",
        "\n",
        "from sklearn.model_selection import train_test_split\n",
        "from sklearn.metrics import accuracy_score, precision_score, recall_score, roc_auc_score\n",
        "from sklearn.metrics import f1_score, confusion_matrix, precision_recall_curve, roc_curve\n",
        "from sklearn.preprocessing import StandardScaler, Binarizer\n",
        "from sklearn.linear_model import LogisticRegression\n",
        "\n",
        "import warnings\n",
        "warnings.filterwarnings('ignore')\n",
        "\n",
        "diabetes = pd.read_csv('diabetes.csv')\n",
        "print(diabetes['Outcome'].value_counts())\n",
        "diabetes.head(5)\n"
      ],
      "metadata": {
        "colab": {
          "base_uri": "https://localhost:8080/",
          "height": 324
        },
        "id": "P7A6a2Kpo-5f",
        "outputId": "72ee7c9b-3012-4c19-d218-218711ebb95c"
      },
      "execution_count": 46,
      "outputs": [
        {
          "output_type": "stream",
          "name": "stdout",
          "text": [
            "0    500\n",
            "1    268\n",
            "Name: Outcome, dtype: int64\n"
          ]
        },
        {
          "output_type": "execute_result",
          "data": {
            "text/plain": [
              "   Pregnancies  Glucose  BloodPressure  SkinThickness  Insulin   BMI  \\\n",
              "0            6      148             72             35        0  33.6   \n",
              "1            1       85             66             29        0  26.6   \n",
              "2            8      183             64              0        0  23.3   \n",
              "3            1       89             66             23       94  28.1   \n",
              "4            0      137             40             35      168  43.1   \n",
              "\n",
              "   DiabetesPedigreeFunction  Age  Outcome  \n",
              "0                     0.627   50        1  \n",
              "1                     0.351   31        0  \n",
              "2                     0.672   32        1  \n",
              "3                     0.167   21        0  \n",
              "4                     2.288   33        1  "
            ],
            "text/html": [
              "\n",
              "  <div id=\"df-9067df0b-19de-4f48-8cbc-056b5a955c0e\">\n",
              "    <div class=\"colab-df-container\">\n",
              "      <div>\n",
              "<style scoped>\n",
              "    .dataframe tbody tr th:only-of-type {\n",
              "        vertical-align: middle;\n",
              "    }\n",
              "\n",
              "    .dataframe tbody tr th {\n",
              "        vertical-align: top;\n",
              "    }\n",
              "\n",
              "    .dataframe thead th {\n",
              "        text-align: right;\n",
              "    }\n",
              "</style>\n",
              "<table border=\"1\" class=\"dataframe\">\n",
              "  <thead>\n",
              "    <tr style=\"text-align: right;\">\n",
              "      <th></th>\n",
              "      <th>Pregnancies</th>\n",
              "      <th>Glucose</th>\n",
              "      <th>BloodPressure</th>\n",
              "      <th>SkinThickness</th>\n",
              "      <th>Insulin</th>\n",
              "      <th>BMI</th>\n",
              "      <th>DiabetesPedigreeFunction</th>\n",
              "      <th>Age</th>\n",
              "      <th>Outcome</th>\n",
              "    </tr>\n",
              "  </thead>\n",
              "  <tbody>\n",
              "    <tr>\n",
              "      <th>0</th>\n",
              "      <td>6</td>\n",
              "      <td>148</td>\n",
              "      <td>72</td>\n",
              "      <td>35</td>\n",
              "      <td>0</td>\n",
              "      <td>33.6</td>\n",
              "      <td>0.627</td>\n",
              "      <td>50</td>\n",
              "      <td>1</td>\n",
              "    </tr>\n",
              "    <tr>\n",
              "      <th>1</th>\n",
              "      <td>1</td>\n",
              "      <td>85</td>\n",
              "      <td>66</td>\n",
              "      <td>29</td>\n",
              "      <td>0</td>\n",
              "      <td>26.6</td>\n",
              "      <td>0.351</td>\n",
              "      <td>31</td>\n",
              "      <td>0</td>\n",
              "    </tr>\n",
              "    <tr>\n",
              "      <th>2</th>\n",
              "      <td>8</td>\n",
              "      <td>183</td>\n",
              "      <td>64</td>\n",
              "      <td>0</td>\n",
              "      <td>0</td>\n",
              "      <td>23.3</td>\n",
              "      <td>0.672</td>\n",
              "      <td>32</td>\n",
              "      <td>1</td>\n",
              "    </tr>\n",
              "    <tr>\n",
              "      <th>3</th>\n",
              "      <td>1</td>\n",
              "      <td>89</td>\n",
              "      <td>66</td>\n",
              "      <td>23</td>\n",
              "      <td>94</td>\n",
              "      <td>28.1</td>\n",
              "      <td>0.167</td>\n",
              "      <td>21</td>\n",
              "      <td>0</td>\n",
              "    </tr>\n",
              "    <tr>\n",
              "      <th>4</th>\n",
              "      <td>0</td>\n",
              "      <td>137</td>\n",
              "      <td>40</td>\n",
              "      <td>35</td>\n",
              "      <td>168</td>\n",
              "      <td>43.1</td>\n",
              "      <td>2.288</td>\n",
              "      <td>33</td>\n",
              "      <td>1</td>\n",
              "    </tr>\n",
              "  </tbody>\n",
              "</table>\n",
              "</div>\n",
              "      <button class=\"colab-df-convert\" onclick=\"convertToInteractive('df-9067df0b-19de-4f48-8cbc-056b5a955c0e')\"\n",
              "              title=\"Convert this dataframe to an interactive table.\"\n",
              "              style=\"display:none;\">\n",
              "        \n",
              "  <svg xmlns=\"http://www.w3.org/2000/svg\" height=\"24px\"viewBox=\"0 0 24 24\"\n",
              "       width=\"24px\">\n",
              "    <path d=\"M0 0h24v24H0V0z\" fill=\"none\"/>\n",
              "    <path d=\"M18.56 5.44l.94 2.06.94-2.06 2.06-.94-2.06-.94-.94-2.06-.94 2.06-2.06.94zm-11 1L8.5 8.5l.94-2.06 2.06-.94-2.06-.94L8.5 2.5l-.94 2.06-2.06.94zm10 10l.94 2.06.94-2.06 2.06-.94-2.06-.94-.94-2.06-.94 2.06-2.06.94z\"/><path d=\"M17.41 7.96l-1.37-1.37c-.4-.4-.92-.59-1.43-.59-.52 0-1.04.2-1.43.59L10.3 9.45l-7.72 7.72c-.78.78-.78 2.05 0 2.83L4 21.41c.39.39.9.59 1.41.59.51 0 1.02-.2 1.41-.59l7.78-7.78 2.81-2.81c.8-.78.8-2.07 0-2.86zM5.41 20L4 18.59l7.72-7.72 1.47 1.35L5.41 20z\"/>\n",
              "  </svg>\n",
              "      </button>\n",
              "      \n",
              "  <style>\n",
              "    .colab-df-container {\n",
              "      display:flex;\n",
              "      flex-wrap:wrap;\n",
              "      gap: 12px;\n",
              "    }\n",
              "\n",
              "    .colab-df-convert {\n",
              "      background-color: #E8F0FE;\n",
              "      border: none;\n",
              "      border-radius: 50%;\n",
              "      cursor: pointer;\n",
              "      display: none;\n",
              "      fill: #1967D2;\n",
              "      height: 32px;\n",
              "      padding: 0 0 0 0;\n",
              "      width: 32px;\n",
              "    }\n",
              "\n",
              "    .colab-df-convert:hover {\n",
              "      background-color: #E2EBFA;\n",
              "      box-shadow: 0px 1px 2px rgba(60, 64, 67, 0.3), 0px 1px 3px 1px rgba(60, 64, 67, 0.15);\n",
              "      fill: #174EA6;\n",
              "    }\n",
              "\n",
              "    [theme=dark] .colab-df-convert {\n",
              "      background-color: #3B4455;\n",
              "      fill: #D2E3FC;\n",
              "    }\n",
              "\n",
              "    [theme=dark] .colab-df-convert:hover {\n",
              "      background-color: #434B5C;\n",
              "      box-shadow: 0px 1px 3px 1px rgba(0, 0, 0, 0.15);\n",
              "      filter: drop-shadow(0px 1px 2px rgba(0, 0, 0, 0.3));\n",
              "      fill: #FFFFFF;\n",
              "    }\n",
              "  </style>\n",
              "\n",
              "      <script>\n",
              "        const buttonEl =\n",
              "          document.querySelector('#df-9067df0b-19de-4f48-8cbc-056b5a955c0e button.colab-df-convert');\n",
              "        buttonEl.style.display =\n",
              "          google.colab.kernel.accessAllowed ? 'block' : 'none';\n",
              "\n",
              "        async function convertToInteractive(key) {\n",
              "          const element = document.querySelector('#df-9067df0b-19de-4f48-8cbc-056b5a955c0e');\n",
              "          const dataTable =\n",
              "            await google.colab.kernel.invokeFunction('convertToInteractive',\n",
              "                                                     [key], {});\n",
              "          if (!dataTable) return;\n",
              "\n",
              "          const docLinkHtml = 'Like what you see? Visit the ' +\n",
              "            '<a target=\"_blank\" href=https://colab.research.google.com/notebooks/data_table.ipynb>data table notebook</a>'\n",
              "            + ' to learn more about interactive tables.';\n",
              "          element.innerHTML = '';\n",
              "          dataTable['output_type'] = 'display_data';\n",
              "          await google.colab.output.renderOutput(dataTable, element);\n",
              "          const docLink = document.createElement('div');\n",
              "          docLink.innerHTML = docLinkHtml;\n",
              "          element.appendChild(docLink);\n",
              "        }\n",
              "      </script>\n",
              "    </div>\n",
              "  </div>\n",
              "  "
            ]
          },
          "metadata": {},
          "execution_count": 46
        }
      ]
    },
    {
      "cell_type": "markdown",
      "source": [
        "#2. 정보확인"
      ],
      "metadata": {
        "id": "Bk8v9MDSo_kD"
      }
    },
    {
      "cell_type": "code",
      "source": [
        "diabetes.info()"
      ],
      "metadata": {
        "colab": {
          "base_uri": "https://localhost:8080/"
        },
        "id": "oW3HjbWOpAgG",
        "outputId": "e797a75d-227f-48e1-c9b3-49ae9063cea2"
      },
      "execution_count": 47,
      "outputs": [
        {
          "output_type": "stream",
          "name": "stdout",
          "text": [
            "<class 'pandas.core.frame.DataFrame'>\n",
            "RangeIndex: 768 entries, 0 to 767\n",
            "Data columns (total 9 columns):\n",
            " #   Column                    Non-Null Count  Dtype  \n",
            "---  ------                    --------------  -----  \n",
            " 0   Pregnancies               768 non-null    int64  \n",
            " 1   Glucose                   768 non-null    int64  \n",
            " 2   BloodPressure             768 non-null    int64  \n",
            " 3   SkinThickness             768 non-null    int64  \n",
            " 4   Insulin                   768 non-null    int64  \n",
            " 5   BMI                       768 non-null    float64\n",
            " 6   DiabetesPedigreeFunction  768 non-null    float64\n",
            " 7   Age                       768 non-null    int64  \n",
            " 8   Outcome                   768 non-null    int64  \n",
            "dtypes: float64(2), int64(7)\n",
            "memory usage: 54.1 KB\n"
          ]
        }
      ]
    },
    {
      "cell_type": "markdown",
      "source": [
        "##피마인디언 당뇨병 데이터셋\n",
        "- Pregnancies: 임신 횟수\n",
        "- Glucose: 포도당 부하 검사 수치\n",
        "- BloodPressure: 혈압(mm Hg)\n",
        "- SkinThickness: 팔 삼두근 뒤쪽의 피하지방 측정값(mm)\n",
        "- Insulin: 혈청 인슐린(mu U/ml)\n",
        "- BMI: 체질량지수(체중(kg)/키(m))^2\n",
        "- DiabetesPedigreeFunction: 당뇨 내력 가중치 값\n",
        "- Age: 나이\n",
        "- Outcome: 클래스 결정 값(0 또는 1)\n"
      ],
      "metadata": {
        "id": "hAFbsg7Yp_QK"
      }
    },
    {
      "cell_type": "markdown",
      "source": [
        "#3. 결측치 및 이상치 확인"
      ],
      "metadata": {
        "id": "WrlivwvtqF3j"
      }
    },
    {
      "cell_type": "code",
      "source": [
        "diabetes.isna().sum(axis=0)"
      ],
      "metadata": {
        "colab": {
          "base_uri": "https://localhost:8080/"
        },
        "id": "_bCA5--WpAjc",
        "outputId": "33d214c5-2027-4d4d-d244-4d4cda0c19ad"
      },
      "execution_count": 48,
      "outputs": [
        {
          "output_type": "execute_result",
          "data": {
            "text/plain": [
              "Pregnancies                 0\n",
              "Glucose                     0\n",
              "BloodPressure               0\n",
              "SkinThickness               0\n",
              "Insulin                     0\n",
              "BMI                         0\n",
              "DiabetesPedigreeFunction    0\n",
              "Age                         0\n",
              "Outcome                     0\n",
              "dtype: int64"
            ]
          },
          "metadata": {},
          "execution_count": 48
        }
      ]
    },
    {
      "cell_type": "code",
      "source": [
        "cols=['Glucose','BloodPressure','SkinThickness','Insulin','BMI']\n",
        "(diabetes[cols]==0).sum(axis=0)"
      ],
      "metadata": {
        "colab": {
          "base_uri": "https://localhost:8080/"
        },
        "id": "o6Q4CcNNpAmc",
        "outputId": "e62bded2-9bfa-4f24-fab4-1e8a30f3d666"
      },
      "execution_count": 49,
      "outputs": [
        {
          "output_type": "execute_result",
          "data": {
            "text/plain": [
              "Glucose            5\n",
              "BloodPressure     35\n",
              "SkinThickness    227\n",
              "Insulin          374\n",
              "BMI               11\n",
              "dtype: int64"
            ]
          },
          "metadata": {},
          "execution_count": 49
        }
      ]
    },
    {
      "cell_type": "markdown",
      "source": [
        "#4. 데이터 시각화"
      ],
      "metadata": {
        "id": "bwdUPLlsq2zV"
      }
    },
    {
      "cell_type": "code",
      "source": [
        "import matplotlib.pyplot as plt\n",
        "import seaborn as sns\n",
        "\n",
        "plt.figure(figsize=(8,6))\n",
        "sns.countplot(x='Outcome', data=diabetes)\n",
        "plt.show()"
      ],
      "metadata": {
        "colab": {
          "base_uri": "https://localhost:8080/",
          "height": 542
        },
        "id": "3_SLhlrnpApt",
        "outputId": "0e0ee2b8-87b5-4966-eb12-ec8e3f82e0cb"
      },
      "execution_count": 50,
      "outputs": [
        {
          "output_type": "display_data",
          "data": {
            "text/plain": [
              "<Figure size 800x600 with 1 Axes>"
            ],
            "image/png": "[encoded data removed]"
          },
          "metadata": {}
        }
      ]
    },
    {
      "cell_type": "markdown",
      "source": [
        "#5. 범주별 데이터 수"
      ],
      "metadata": {
        "id": "Y6s913ilrZ0C"
      }
    },
    {
      "cell_type": "code",
      "source": [
        "diabetes['Outcome'].value_counts()"
      ],
      "metadata": {
        "colab": {
          "base_uri": "https://localhost:8080/"
        },
        "id": "8qoOacbWq5_S",
        "outputId": "bbb2374f-70ec-4852-ac9a-c0ce5983507d"
      },
      "execution_count": 51,
      "outputs": [
        {
          "output_type": "execute_result",
          "data": {
            "text/plain": [
              "0    500\n",
              "1    268\n",
              "Name: Outcome, dtype: int64"
            ]
          },
          "metadata": {},
          "execution_count": 51
        }
      ]
    },
    {
      "cell_type": "markdown",
      "source": [
        "#6. 특성과 레이블 분리"
      ],
      "metadata": {
        "id": "F-c8Ll-1rnZx"
      }
    },
    {
      "cell_type": "code",
      "source": [
        "X_data = diabetes.drop(['Outcome'],axis = 1)\n",
        "X_data.head()"
      ],
      "metadata": {
        "colab": {
          "base_uri": "https://localhost:8080/",
          "height": 206
        },
        "id": "FwJcMh6Gq6Cx",
        "outputId": "d45c0868-b082-4c72-9014-17403c2a2ff8"
      },
      "execution_count": 52,
      "outputs": [
        {
          "output_type": "execute_result",
          "data": {
            "text/plain": [
              "   Pregnancies  Glucose  BloodPressure  SkinThickness  Insulin   BMI  \\\n",
              "0            6      148             72             35        0  33.6   \n",
              "1            1       85             66             29        0  26.6   \n",
              "2            8      183             64              0        0  23.3   \n",
              "3            1       89             66             23       94  28.1   \n",
              "4            0      137             40             35      168  43.1   \n",
              "\n",
              "   DiabetesPedigreeFunction  Age  \n",
              "0                     0.627   50  \n",
              "1                     0.351   31  \n",
              "2                     0.672   32  \n",
              "3                     0.167   21  \n",
              "4                     2.288   33  "
            ],
            "text/html": [
              "\n",
              "  <div id=\"df-eeb0341c-3b82-480c-8625-e2b68c3fda98\">\n",
              "    <div class=\"colab-df-container\">\n",
              "      <div>\n",
              "<style scoped>\n",
              "    .dataframe tbody tr th:only-of-type {\n",
              "        vertical-align: middle;\n",
              "    }\n",
              "\n",
              "    .dataframe tbody tr th {\n",
              "        vertical-align: top;\n",
              "    }\n",
              "\n",
              "    .dataframe thead th {\n",
              "        text-align: right;\n",
              "    }\n",
              "</style>\n",
              "<table border=\"1\" class=\"dataframe\">\n",
              "  <thead>\n",
              "    <tr style=\"text-align: right;\">\n",
              "      <th></th>\n",
              "      <th>Pregnancies</th>\n",
              "      <th>Glucose</th>\n",
              "      <th>BloodPressure</th>\n",
              "      <th>SkinThickness</th>\n",
              "      <th>Insulin</th>\n",
              "      <th>BMI</th>\n",
              "      <th>DiabetesPedigreeFunction</th>\n",
              "      <th>Age</th>\n",
              "    </tr>\n",
              "  </thead>\n",
              "  <tbody>\n",
              "    <tr>\n",
              "      <th>0</th>\n",
              "      <td>6</td>\n",
              "      <td>148</td>\n",
              "      <td>72</td>\n",
              "      <td>35</td>\n",
              "      <td>0</td>\n",
              "      <td>33.6</td>\n",
              "      <td>0.627</td>\n",
              "      <td>50</td>\n",
              "    </tr>\n",
              "    <tr>\n",
              "      <th>1</th>\n",
              "      <td>1</td>\n",
              "      <td>85</td>\n",
              "      <td>66</td>\n",
              "      <td>29</td>\n",
              "      <td>0</td>\n",
              "      <td>26.6</td>\n",
              "      <td>0.351</td>\n",
              "      <td>31</td>\n",
              "    </tr>\n",
              "    <tr>\n",
              "      <th>2</th>\n",
              "      <td>8</td>\n",
              "      <td>183</td>\n",
              "      <td>64</td>\n",
              "      <td>0</td>\n",
              "      <td>0</td>\n",
              "      <td>23.3</td>\n",
              "      <td>0.672</td>\n",
              "      <td>32</td>\n",
              "    </tr>\n",
              "    <tr>\n",
              "      <th>3</th>\n",
              "      <td>1</td>\n",
              "      <td>89</td>\n",
              "      <td>66</td>\n",
              "      <td>23</td>\n",
              "      <td>94</td>\n",
              "      <td>28.1</td>\n",
              "      <td>0.167</td>\n",
              "      <td>21</td>\n",
              "    </tr>\n",
              "    <tr>\n",
              "      <th>4</th>\n",
              "      <td>0</td>\n",
              "      <td>137</td>\n",
              "      <td>40</td>\n",
              "      <td>35</td>\n",
              "      <td>168</td>\n",
              "      <td>43.1</td>\n",
              "      <td>2.288</td>\n",
              "      <td>33</td>\n",
              "    </tr>\n",
              "  </tbody>\n",
              "</table>\n",
              "</div>\n",
              "      <button class=\"colab-df-convert\" onclick=\"convertToInteractive('df-eeb0341c-3b82-480c-8625-e2b68c3fda98')\"\n",
              "              title=\"Convert this dataframe to an interactive table.\"\n",
              "              style=\"display:none;\">\n",
              "        \n",
              "  <svg xmlns=\"http://www.w3.org/2000/svg\" height=\"24px\"viewBox=\"0 0 24 24\"\n",
              "       width=\"24px\">\n",
              "    <path d=\"M0 0h24v24H0V0z\" fill=\"none\"/>\n",
              "    <path d=\"M18.56 5.44l.94 2.06.94-2.06 2.06-.94-2.06-.94-.94-2.06-.94 2.06-2.06.94zm-11 1L8.5 8.5l.94-2.06 2.06-.94-2.06-.94L8.5 2.5l-.94 2.06-2.06.94zm10 10l.94 2.06.94-2.06 2.06-.94-2.06-.94-.94-2.06-.94 2.06-2.06.94z\"/><path d=\"M17.41 7.96l-1.37-1.37c-.4-.4-.92-.59-1.43-.59-.52 0-1.04.2-1.43.59L10.3 9.45l-7.72 7.72c-.78.78-.78 2.05 0 2.83L4 21.41c.39.39.9.59 1.41.59.51 0 1.02-.2 1.41-.59l7.78-7.78 2.81-2.81c.8-.78.8-2.07 0-2.86zM5.41 20L4 18.59l7.72-7.72 1.47 1.35L5.41 20z\"/>\n",
              "  </svg>\n",
              "      </button>\n",
              "      \n",
              "  <style>\n",
              "    .colab-df-container {\n",
              "      display:flex;\n",
              "      flex-wrap:wrap;\n",
              "      gap: 12px;\n",
              "    }\n",
              "\n",
              "    .colab-df-convert {\n",
              "      background-color: #E8F0FE;\n",
              "      border: none;\n",
              "      border-radius: 50%;\n",
              "      cursor: pointer;\n",
              "      display: none;\n",
              "      fill: #1967D2;\n",
              "      height: 32px;\n",
              "      padding: 0 0 0 0;\n",
              "      width: 32px;\n",
              "    }\n",
              "\n",
              "    .colab-df-convert:hover {\n",
              "      background-color: #E2EBFA;\n",
              "      box-shadow: 0px 1px 2px rgba(60, 64, 67, 0.3), 0px 1px 3px 1px rgba(60, 64, 67, 0.15);\n",
              "      fill: #174EA6;\n",
              "    }\n",
              "\n",
              "    [theme=dark] .colab-df-convert {\n",
              "      background-color: #3B4455;\n",
              "      fill: #D2E3FC;\n",
              "    }\n",
              "\n",
              "    [theme=dark] .colab-df-convert:hover {\n",
              "      background-color: #434B5C;\n",
              "      box-shadow: 0px 1px 3px 1px rgba(0, 0, 0, 0.15);\n",
              "      filter: drop-shadow(0px 1px 2px rgba(0, 0, 0, 0.3));\n",
              "      fill: #FFFFFF;\n",
              "    }\n",
              "  </style>\n",
              "\n",
              "      <script>\n",
              "        const buttonEl =\n",
              "          document.querySelector('#df-eeb0341c-3b82-480c-8625-e2b68c3fda98 button.colab-df-convert');\n",
              "        buttonEl.style.display =\n",
              "          google.colab.kernel.accessAllowed ? 'block' : 'none';\n",
              "\n",
              "        async function convertToInteractive(key) {\n",
              "          const element = document.querySelector('#df-eeb0341c-3b82-480c-8625-e2b68c3fda98');\n",
              "          const dataTable =\n",
              "            await google.colab.kernel.invokeFunction('convertToInteractive',\n",
              "                                                     [key], {});\n",
              "          if (!dataTable) return;\n",
              "\n",
              "          const docLinkHtml = 'Like what you see? Visit the ' +\n",
              "            '<a target=\"_blank\" href=https://colab.research.google.com/notebooks/data_table.ipynb>data table notebook</a>'\n",
              "            + ' to learn more about interactive tables.';\n",
              "          element.innerHTML = '';\n",
              "          dataTable['output_type'] = 'display_data';\n",
              "          await google.colab.output.renderOutput(dataTable, element);\n",
              "          const docLink = document.createElement('div');\n",
              "          docLink.innerHTML = docLinkHtml;\n",
              "          element.appendChild(docLink);\n",
              "        }\n",
              "      </script>\n",
              "    </div>\n",
              "  </div>\n",
              "  "
            ]
          },
          "metadata": {},
          "execution_count": 52
        }
      ]
    },
    {
      "cell_type": "code",
      "source": [
        "y_data=diabetes['Outcome']\n",
        "y_data.head()"
      ],
      "metadata": {
        "colab": {
          "base_uri": "https://localhost:8080/"
        },
        "id": "IPjIXLtRq6Fl",
        "outputId": "2bfe6674-5b5e-4326-d278-57eb8762c546"
      },
      "execution_count": 53,
      "outputs": [
        {
          "output_type": "execute_result",
          "data": {
            "text/plain": [
              "0    1\n",
              "1    0\n",
              "2    1\n",
              "3    0\n",
              "4    1\n",
              "Name: Outcome, dtype: int64"
            ]
          },
          "metadata": {},
          "execution_count": 53
        }
      ]
    },
    {
      "cell_type": "markdown",
      "source": [
        "#7. 테스트 데이터 분리"
      ],
      "metadata": {
        "id": "NB4Mk0b_sKGP"
      }
    },
    {
      "cell_type": "code",
      "source": [
        "from sklearn.model_selection import train_test_split\n",
        "X_train, X_test, y_train, y_test = train_test_split(X_data, y_data, test_size=0.2, random_state=42)\n",
        "\n",
        "print(X_train.shape, X_test.shape)\n",
        "print(y_train.shape, y_test.shape)"
      ],
      "metadata": {
        "colab": {
          "base_uri": "https://localhost:8080/"
        },
        "id": "BtdZN1_Qq6IU",
        "outputId": "37ddb43c-f40a-4a6e-fc40-02b356e4d284"
      },
      "execution_count": 54,
      "outputs": [
        {
          "output_type": "stream",
          "name": "stdout",
          "text": [
            "(614, 8) (154, 8)\n",
            "(614,) (154,)\n"
          ]
        }
      ]
    },
    {
      "cell_type": "code",
      "source": [
        "# 이상치 처리\n",
        "\n",
        "import numpy as np\n",
        "\n",
        "def impute_zero(data, col):\n",
        "  df = data.loc[data[col] != 0, col]\n",
        "  avg = np.sum(df)/len(df)\n",
        "  k = len(data.loc[data[col] == 0, col])\n",
        "  data.loc[data[col]==0, col] = avg\n",
        "  print('%s : fixed %d, mean : %.3f' %(col, k, avg))\n",
        "\n",
        "for col in cols:\n",
        "  impute_zero(X_train, col)"
      ],
      "metadata": {
        "colab": {
          "base_uri": "https://localhost:8080/"
        },
        "id": "Z5FXgHm3q6LC",
        "outputId": "2dc7b08d-958f-454a-9941-a0bf4a6b09ea"
      },
      "execution_count": 55,
      "outputs": [
        {
          "output_type": "stream",
          "name": "stdout",
          "text": [
            "Glucose : fixed 5, mean : 121.847\n",
            "BloodPressure : fixed 24, mean : 72.239\n",
            "SkinThickness : fixed 176, mean : 28.596\n",
            "Insulin : fixed 290, mean : 154.330\n",
            "BMI : fixed 7, mean : 32.352\n"
          ]
        }
      ]
    },
    {
      "cell_type": "code",
      "source": [
        "#이상치 확인\n",
        "\n",
        "(X_train[cols] == 0).sum(axis = 0)"
      ],
      "metadata": {
        "colab": {
          "base_uri": "https://localhost:8080/"
        },
        "id": "kljH2hqEpAs9",
        "outputId": "2fa4bd83-a603-4b9f-c4d7-ae753853d98f"
      },
      "execution_count": 56,
      "outputs": [
        {
          "output_type": "execute_result",
          "data": {
            "text/plain": [
              "Glucose          0\n",
              "BloodPressure    0\n",
              "SkinThickness    0\n",
              "Insulin          0\n",
              "BMI              0\n",
              "dtype: int64"
            ]
          },
          "metadata": {},
          "execution_count": 56
        }
      ]
    },
    {
      "cell_type": "code",
      "source": [
        "# 테스트 데이터의 이상치 처리\n",
        "\n",
        "for col in cols:\n",
        "  impute_zero(X_test, col)"
      ],
      "metadata": {
        "colab": {
          "base_uri": "https://localhost:8080/"
        },
        "id": "hMXjAcQyublP",
        "outputId": "6c8f3ab3-23ec-46a1-cef4-66f76fbb4825"
      },
      "execution_count": 57,
      "outputs": [
        {
          "output_type": "stream",
          "name": "stdout",
          "text": [
            "Glucose : fixed 0, mean : 121.052\n",
            "BloodPressure : fixed 11, mean : 73.091\n",
            "SkinThickness : fixed 51, mean : 31.524\n",
            "Insulin : fixed 84, mean : 161.186\n",
            "BMI : fixed 4, mean : 32.883\n"
          ]
        }
      ]
    },
    {
      "cell_type": "code",
      "source": [
        "# 테스트 데이터 이상치 처리\n",
        "\n",
        "for col in cols:\n",
        "  impute_zero(X_test, col)"
      ],
      "metadata": {
        "colab": {
          "base_uri": "https://localhost:8080/"
        },
        "id": "9M746yqOubrE",
        "outputId": "03065e25-f621-4b65-a506-8a703c6c87fa"
      },
      "execution_count": 58,
      "outputs": [
        {
          "output_type": "stream",
          "name": "stdout",
          "text": [
            "Glucose : fixed 0, mean : 121.052\n",
            "BloodPressure : fixed 0, mean : 73.091\n",
            "SkinThickness : fixed 0, mean : 31.524\n",
            "Insulin : fixed 0, mean : 161.186\n",
            "BMI : fixed 0, mean : 32.883\n"
          ]
        }
      ]
    },
    {
      "cell_type": "markdown",
      "source": [
        "#8. 테스트 정규화\n",
        "- 표준 정규화"
      ],
      "metadata": {
        "id": "N_iK80TavcyS"
      }
    },
    {
      "cell_type": "code",
      "source": [
        "from sklearn.preprocessing import StandardScaler\n",
        "\n",
        "scaler = StandardScaler()\n",
        "X_train_s = scaler.fit_transform(X_train)\n",
        "X_test_s = scaler.transform(X_test)\n",
        "\n",
        "print(X_train_s[:5])"
      ],
      "metadata": {
        "colab": {
          "base_uri": "https://localhost:8080/"
        },
        "id": "V9qWyQjyubt0",
        "outputId": "d6b79653-16c8-4dc3-e193-9a1cc4cd0fa9"
      },
      "execution_count": 59,
      "outputs": [
        {
          "output_type": "stream",
          "name": "stdout",
          "text": [
            "[[-5.26396861e-01 -1.25832567e+00  0.00000000e+00  4.22787785e-16\n",
            "   0.00000000e+00  1.02533391e-15 -4.90734790e-01 -1.03594038e+00]\n",
            " [ 1.58804586e+00 -3.27397242e-01  8.07407436e-01 -5.46930179e-01\n",
            "   0.00000000e+00 -5.99178052e-01  2.41502991e+00  1.48710085e+00]\n",
            " [-8.28460107e-01  5.70283740e-01 -2.17042447e+00 -1.14195109e+00\n",
            "  -8.20791983e-01 -5.27026593e-01  5.49160552e-01 -9.48938958e-01]\n",
            " [-1.13052335e+00  1.30172750e+00 -1.83955426e+00  4.22787785e-16\n",
            "   0.00000000e+00 -1.50828644e+00 -6.39291267e-01  2.79212217e+00]\n",
            " [ 6.81856121e-01  4.04046521e-01  6.41972330e-01  1.00012419e+00\n",
            "   2.48169622e+00  1.99827450e+00 -6.86829340e-01  1.13909516e+00]]\n"
          ]
        }
      ]
    },
    {
      "cell_type": "markdown",
      "source": [
        "#9. 넘파이 배열로 타입 변경"
      ],
      "metadata": {
        "id": "1NFP27bKv5sH"
      }
    },
    {
      "cell_type": "code",
      "source": [
        "# 이상치 존재여부 확인\n",
        "\n",
        "y_train = y_train.values\n",
        "y_test = y_test.values\n",
        "\n",
        "print(type(y_train), type(y_test))"
      ],
      "metadata": {
        "colab": {
          "base_uri": "https://localhost:8080/"
        },
        "id": "JUVV8TIjubwz",
        "outputId": "8e5d0488-337c-4a87-b119-a4322a3af91a"
      },
      "execution_count": 60,
      "outputs": [
        {
          "output_type": "stream",
          "name": "stdout",
          "text": [
            "<class 'numpy.ndarray'> <class 'numpy.ndarray'>\n"
          ]
        }
      ]
    },
    {
      "cell_type": "markdown",
      "source": [
        "#10. 모델 만들기"
      ],
      "metadata": {
        "id": "_LfgsNSnwQqa"
      }
    },
    {
      "cell_type": "code",
      "source": [
        "from keras.layers.rnn.lstm_v1 import activations\n",
        "# keras를 이용해 모델 구성\n",
        "\n",
        "from tensorflow import keras\n",
        "from tensorflow.keras import layers\n",
        "\n",
        "def build_model():\n",
        "  model = keras.Sequential()\n",
        "  model.add(layers.Dense(12, input_dim = 8, activation='relu'))\n",
        "  model.add(layers.Dense(8, activation='relu'))\n",
        "  model.add(layers.Dense(1, activation='sigmoid'))\n",
        "  return model"
      ],
      "metadata": {
        "id": "lbTehs14ubz7"
      },
      "execution_count": 61,
      "outputs": []
    },
    {
      "cell_type": "code",
      "source": [
        "model = build_model()\n",
        "model.summary()"
      ],
      "metadata": {
        "colab": {
          "base_uri": "https://localhost:8080/"
        },
        "id": "na83vA0vub26",
        "outputId": "1060c54f-2534-47f1-ee43-4c062635ecd7"
      },
      "execution_count": 62,
      "outputs": [
        {
          "output_type": "stream",
          "name": "stdout",
          "text": [
            "Model: \"sequential_4\"\n",
            "_________________________________________________________________\n",
            " Layer (type)                Output Shape              Param #   \n",
            "=================================================================\n",
            " dense_6 (Dense)             (None, 12)                108       \n",
            "                                                                 \n",
            " dense_7 (Dense)             (None, 8)                 104       \n",
            "                                                                 \n",
            " dense_8 (Dense)             (None, 1)                 9         \n",
            "                                                                 \n",
            "=================================================================\n",
            "Total params: 221\n",
            "Trainable params: 221\n",
            "Non-trainable params: 0\n",
            "_________________________________________________________________\n"
          ]
        }
      ]
    },
    {
      "cell_type": "markdown",
      "source": [
        "#11. 모델 컴파일\n",
        "- 이진 분류 모델의 학습을 위한 loss함수를 binary_crossentropy르 설정"
      ],
      "metadata": {
        "id": "O6NSMRGwGlH8"
      }
    },
    {
      "cell_type": "code",
      "source": [
        "model.compile(loss='binary_crossentropy',\n",
        "              optimizer = 'adam',\n",
        "              metrics=['acc'])"
      ],
      "metadata": {
        "id": "K60Sgy21ub6T"
      },
      "execution_count": 63,
      "outputs": []
    },
    {
      "cell_type": "markdown",
      "source": [
        "#12. 모델 학습"
      ],
      "metadata": {
        "id": "_ErgWm5XHCWg"
      }
    },
    {
      "cell_type": "code",
      "source": [
        "EPOCHS = 100 #500으로 실행\n",
        "BATCH_SIZE =16\n",
        "history = model.fit(X_train_s, y_train,\n",
        "                    epochs = EPOCHS,\n",
        "                    batch_size = BATCH_SIZE,\n",
        "                    validation_split = .2,\n",
        "                    verbose = 1)"
      ],
      "metadata": {
        "colab": {
          "base_uri": "https://localhost:8080/"
        },
        "id": "EVqQF91tub9K",
        "outputId": "e9daf765-4a0e-4d65-9f3a-87a946c83435"
      },
      "execution_count": 64,
      "outputs": [
        {
          "output_type": "stream",
          "name": "stdout",
          "text": [
            "Epoch 1/100\n",
            "31/31 [==============================] - 2s 10ms/step - loss: 0.5956 - acc: 0.6660 - val_loss: 0.5632 - val_acc: 0.7154\n",
            "Epoch 2/100\n",
            "31/31 [==============================] - 0s 4ms/step - loss: 0.5584 - acc: 0.6945 - val_loss: 0.5439 - val_acc: 0.7236\n",
            "Epoch 3/100\n",
            "31/31 [==============================] - 0s 3ms/step - loss: 0.5360 - acc: 0.7149 - val_loss: 0.5316 - val_acc: 0.7236\n",
            "Epoch 4/100\n",
            "31/31 [==============================] - 0s 3ms/step - loss: 0.5210 - acc: 0.7332 - val_loss: 0.5183 - val_acc: 0.7317\n",
            "Epoch 5/100\n",
            "31/31 [==============================] - 0s 4ms/step - loss: 0.5075 - acc: 0.7434 - val_loss: 0.5062 - val_acc: 0.7480\n",
            "Epoch 6/100\n",
            "31/31 [==============================] - 0s 3ms/step - loss: 0.4962 - acc: 0.7556 - val_loss: 0.4981 - val_acc: 0.7480\n",
            "Epoch 7/100\n",
            "31/31 [==============================] - 0s 3ms/step - loss: 0.4882 - acc: 0.7678 - val_loss: 0.4888 - val_acc: 0.7480\n",
            "Epoch 8/100\n",
            "31/31 [==============================] - 0s 4ms/step - loss: 0.4794 - acc: 0.7597 - val_loss: 0.4839 - val_acc: 0.7561\n",
            "Epoch 9/100\n",
            "31/31 [==============================] - 0s 4ms/step - loss: 0.4721 - acc: 0.7658 - val_loss: 0.4781 - val_acc: 0.7561\n",
            "Epoch 10/100\n",
            "31/31 [==============================] - 0s 4ms/step - loss: 0.4668 - acc: 0.7678 - val_loss: 0.4732 - val_acc: 0.7561\n",
            "Epoch 11/100\n",
            "31/31 [==============================] - 0s 3ms/step - loss: 0.4614 - acc: 0.7699 - val_loss: 0.4689 - val_acc: 0.7480\n",
            "Epoch 12/100\n",
            "31/31 [==============================] - 0s 4ms/step - loss: 0.4546 - acc: 0.7637 - val_loss: 0.4638 - val_acc: 0.7561\n",
            "Epoch 13/100\n",
            "31/31 [==============================] - 0s 4ms/step - loss: 0.4503 - acc: 0.7739 - val_loss: 0.4605 - val_acc: 0.7642\n",
            "Epoch 14/100\n",
            "31/31 [==============================] - 0s 4ms/step - loss: 0.4461 - acc: 0.7760 - val_loss: 0.4601 - val_acc: 0.7561\n",
            "Epoch 15/100\n",
            "31/31 [==============================] - 0s 4ms/step - loss: 0.4426 - acc: 0.7739 - val_loss: 0.4581 - val_acc: 0.7642\n",
            "Epoch 16/100\n",
            "31/31 [==============================] - 0s 3ms/step - loss: 0.4398 - acc: 0.7780 - val_loss: 0.4561 - val_acc: 0.7642\n",
            "Epoch 17/100\n",
            "31/31 [==============================] - 0s 3ms/step - loss: 0.4373 - acc: 0.7841 - val_loss: 0.4550 - val_acc: 0.7642\n",
            "Epoch 18/100\n",
            "31/31 [==============================] - 0s 4ms/step - loss: 0.4354 - acc: 0.7841 - val_loss: 0.4547 - val_acc: 0.7561\n",
            "Epoch 19/100\n",
            "31/31 [==============================] - 0s 3ms/step - loss: 0.4333 - acc: 0.7821 - val_loss: 0.4544 - val_acc: 0.7642\n",
            "Epoch 20/100\n",
            "31/31 [==============================] - 0s 3ms/step - loss: 0.4314 - acc: 0.7821 - val_loss: 0.4534 - val_acc: 0.7724\n",
            "Epoch 21/100\n",
            "31/31 [==============================] - 0s 4ms/step - loss: 0.4299 - acc: 0.7800 - val_loss: 0.4541 - val_acc: 0.7805\n",
            "Epoch 22/100\n",
            "31/31 [==============================] - 0s 4ms/step - loss: 0.4279 - acc: 0.7800 - val_loss: 0.4522 - val_acc: 0.7805\n",
            "Epoch 23/100\n",
            "31/31 [==============================] - 0s 3ms/step - loss: 0.4269 - acc: 0.7841 - val_loss: 0.4517 - val_acc: 0.7805\n",
            "Epoch 24/100\n",
            "31/31 [==============================] - 0s 3ms/step - loss: 0.4256 - acc: 0.7821 - val_loss: 0.4531 - val_acc: 0.7805\n",
            "Epoch 25/100\n",
            "31/31 [==============================] - 0s 4ms/step - loss: 0.4242 - acc: 0.7821 - val_loss: 0.4518 - val_acc: 0.7805\n",
            "Epoch 26/100\n",
            "31/31 [==============================] - 0s 4ms/step - loss: 0.4236 - acc: 0.7882 - val_loss: 0.4520 - val_acc: 0.7724\n",
            "Epoch 27/100\n",
            "31/31 [==============================] - 0s 4ms/step - loss: 0.4218 - acc: 0.7862 - val_loss: 0.4482 - val_acc: 0.7642\n",
            "Epoch 28/100\n",
            "31/31 [==============================] - 0s 3ms/step - loss: 0.4215 - acc: 0.7902 - val_loss: 0.4536 - val_acc: 0.7805\n",
            "Epoch 29/100\n",
            "31/31 [==============================] - 0s 4ms/step - loss: 0.4188 - acc: 0.7882 - val_loss: 0.4495 - val_acc: 0.7724\n",
            "Epoch 30/100\n",
            "31/31 [==============================] - 0s 3ms/step - loss: 0.4181 - acc: 0.7862 - val_loss: 0.4487 - val_acc: 0.7805\n",
            "Epoch 31/100\n",
            "31/31 [==============================] - 0s 3ms/step - loss: 0.4166 - acc: 0.7882 - val_loss: 0.4498 - val_acc: 0.7805\n",
            "Epoch 32/100\n",
            "31/31 [==============================] - 0s 3ms/step - loss: 0.4156 - acc: 0.7923 - val_loss: 0.4480 - val_acc: 0.7724\n",
            "Epoch 33/100\n",
            "31/31 [==============================] - 0s 3ms/step - loss: 0.4147 - acc: 0.7963 - val_loss: 0.4468 - val_acc: 0.7805\n",
            "Epoch 34/100\n",
            "31/31 [==============================] - 0s 3ms/step - loss: 0.4143 - acc: 0.8024 - val_loss: 0.4463 - val_acc: 0.7805\n",
            "Epoch 35/100\n",
            "31/31 [==============================] - 0s 4ms/step - loss: 0.4127 - acc: 0.7984 - val_loss: 0.4463 - val_acc: 0.7724\n",
            "Epoch 36/100\n",
            "31/31 [==============================] - 0s 4ms/step - loss: 0.4121 - acc: 0.8004 - val_loss: 0.4460 - val_acc: 0.7805\n",
            "Epoch 37/100\n",
            "31/31 [==============================] - 0s 3ms/step - loss: 0.4113 - acc: 0.7963 - val_loss: 0.4451 - val_acc: 0.7724\n",
            "Epoch 38/100\n",
            "31/31 [==============================] - 0s 3ms/step - loss: 0.4101 - acc: 0.7963 - val_loss: 0.4440 - val_acc: 0.7724\n",
            "Epoch 39/100\n",
            "31/31 [==============================] - 0s 3ms/step - loss: 0.4102 - acc: 0.7984 - val_loss: 0.4421 - val_acc: 0.7805\n",
            "Epoch 40/100\n",
            "31/31 [==============================] - 0s 4ms/step - loss: 0.4090 - acc: 0.7963 - val_loss: 0.4451 - val_acc: 0.7805\n",
            "Epoch 41/100\n",
            "31/31 [==============================] - 0s 4ms/step - loss: 0.4087 - acc: 0.7984 - val_loss: 0.4429 - val_acc: 0.7805\n",
            "Epoch 42/100\n",
            "31/31 [==============================] - 0s 3ms/step - loss: 0.4079 - acc: 0.8004 - val_loss: 0.4442 - val_acc: 0.7886\n",
            "Epoch 43/100\n",
            "31/31 [==============================] - 0s 3ms/step - loss: 0.4065 - acc: 0.7984 - val_loss: 0.4438 - val_acc: 0.7805\n",
            "Epoch 44/100\n",
            "31/31 [==============================] - 0s 4ms/step - loss: 0.4063 - acc: 0.8004 - val_loss: 0.4414 - val_acc: 0.7805\n",
            "Epoch 45/100\n",
            "31/31 [==============================] - 0s 3ms/step - loss: 0.4051 - acc: 0.8024 - val_loss: 0.4417 - val_acc: 0.7805\n",
            "Epoch 46/100\n",
            "31/31 [==============================] - 0s 3ms/step - loss: 0.4047 - acc: 0.8045 - val_loss: 0.4414 - val_acc: 0.7805\n",
            "Epoch 47/100\n",
            "31/31 [==============================] - 0s 3ms/step - loss: 0.4051 - acc: 0.8024 - val_loss: 0.4427 - val_acc: 0.7886\n",
            "Epoch 48/100\n",
            "31/31 [==============================] - 0s 3ms/step - loss: 0.4033 - acc: 0.8004 - val_loss: 0.4423 - val_acc: 0.7886\n",
            "Epoch 49/100\n",
            "31/31 [==============================] - 0s 4ms/step - loss: 0.4020 - acc: 0.8024 - val_loss: 0.4395 - val_acc: 0.7805\n",
            "Epoch 50/100\n",
            "31/31 [==============================] - 0s 3ms/step - loss: 0.4024 - acc: 0.8045 - val_loss: 0.4395 - val_acc: 0.7805\n",
            "Epoch 51/100\n",
            "31/31 [==============================] - 0s 4ms/step - loss: 0.4018 - acc: 0.8024 - val_loss: 0.4392 - val_acc: 0.7805\n",
            "Epoch 52/100\n",
            "31/31 [==============================] - 0s 3ms/step - loss: 0.4008 - acc: 0.8065 - val_loss: 0.4406 - val_acc: 0.7886\n",
            "Epoch 53/100\n",
            "31/31 [==============================] - 0s 4ms/step - loss: 0.4008 - acc: 0.8086 - val_loss: 0.4410 - val_acc: 0.7967\n",
            "Epoch 54/100\n",
            "31/31 [==============================] - 0s 4ms/step - loss: 0.3988 - acc: 0.8024 - val_loss: 0.4398 - val_acc: 0.7886\n",
            "Epoch 55/100\n",
            "31/31 [==============================] - 0s 4ms/step - loss: 0.3984 - acc: 0.8106 - val_loss: 0.4393 - val_acc: 0.7886\n",
            "Epoch 56/100\n",
            "31/31 [==============================] - 0s 3ms/step - loss: 0.3980 - acc: 0.8045 - val_loss: 0.4416 - val_acc: 0.7886\n",
            "Epoch 57/100\n",
            "31/31 [==============================] - 0s 3ms/step - loss: 0.3973 - acc: 0.8045 - val_loss: 0.4386 - val_acc: 0.7886\n",
            "Epoch 58/100\n",
            "31/31 [==============================] - 0s 3ms/step - loss: 0.3970 - acc: 0.8045 - val_loss: 0.4408 - val_acc: 0.7886\n",
            "Epoch 59/100\n",
            "31/31 [==============================] - 0s 3ms/step - loss: 0.3961 - acc: 0.8086 - val_loss: 0.4395 - val_acc: 0.7805\n",
            "Epoch 60/100\n",
            "31/31 [==============================] - 0s 3ms/step - loss: 0.3963 - acc: 0.8106 - val_loss: 0.4376 - val_acc: 0.7886\n",
            "Epoch 61/100\n",
            "31/31 [==============================] - 0s 3ms/step - loss: 0.3948 - acc: 0.8086 - val_loss: 0.4396 - val_acc: 0.7805\n",
            "Epoch 62/100\n",
            "31/31 [==============================] - 0s 3ms/step - loss: 0.3953 - acc: 0.8024 - val_loss: 0.4411 - val_acc: 0.7886\n",
            "Epoch 63/100\n",
            "31/31 [==============================] - 0s 3ms/step - loss: 0.3950 - acc: 0.8126 - val_loss: 0.4389 - val_acc: 0.7805\n",
            "Epoch 64/100\n",
            "31/31 [==============================] - 0s 4ms/step - loss: 0.3938 - acc: 0.8065 - val_loss: 0.4408 - val_acc: 0.7886\n",
            "Epoch 65/100\n",
            "31/31 [==============================] - 0s 3ms/step - loss: 0.3952 - acc: 0.8065 - val_loss: 0.4371 - val_acc: 0.7886\n",
            "Epoch 66/100\n",
            "31/31 [==============================] - 0s 3ms/step - loss: 0.3930 - acc: 0.8086 - val_loss: 0.4396 - val_acc: 0.7886\n",
            "Epoch 67/100\n",
            "31/31 [==============================] - 0s 3ms/step - loss: 0.3929 - acc: 0.8126 - val_loss: 0.4381 - val_acc: 0.7805\n",
            "Epoch 68/100\n",
            "31/31 [==============================] - 0s 3ms/step - loss: 0.3919 - acc: 0.8045 - val_loss: 0.4409 - val_acc: 0.7886\n",
            "Epoch 69/100\n",
            "31/31 [==============================] - 0s 3ms/step - loss: 0.3916 - acc: 0.8147 - val_loss: 0.4408 - val_acc: 0.7805\n",
            "Epoch 70/100\n",
            "31/31 [==============================] - 0s 4ms/step - loss: 0.3914 - acc: 0.8024 - val_loss: 0.4412 - val_acc: 0.7724\n",
            "Epoch 71/100\n",
            "31/31 [==============================] - 0s 4ms/step - loss: 0.3896 - acc: 0.8147 - val_loss: 0.4394 - val_acc: 0.7805\n",
            "Epoch 72/100\n",
            "31/31 [==============================] - 0s 3ms/step - loss: 0.3895 - acc: 0.8147 - val_loss: 0.4390 - val_acc: 0.7805\n",
            "Epoch 73/100\n",
            "31/31 [==============================] - 0s 3ms/step - loss: 0.3897 - acc: 0.8126 - val_loss: 0.4389 - val_acc: 0.7805\n",
            "Epoch 74/100\n",
            "31/31 [==============================] - 0s 3ms/step - loss: 0.3885 - acc: 0.8147 - val_loss: 0.4395 - val_acc: 0.7886\n",
            "Epoch 75/100\n",
            "31/31 [==============================] - 0s 3ms/step - loss: 0.3877 - acc: 0.8126 - val_loss: 0.4411 - val_acc: 0.7805\n",
            "Epoch 76/100\n",
            "31/31 [==============================] - 0s 3ms/step - loss: 0.3870 - acc: 0.8126 - val_loss: 0.4413 - val_acc: 0.7805\n",
            "Epoch 77/100\n",
            "31/31 [==============================] - 0s 3ms/step - loss: 0.3872 - acc: 0.8126 - val_loss: 0.4410 - val_acc: 0.7724\n",
            "Epoch 78/100\n",
            "31/31 [==============================] - 0s 3ms/step - loss: 0.3861 - acc: 0.8126 - val_loss: 0.4423 - val_acc: 0.7805\n",
            "Epoch 79/100\n",
            "31/31 [==============================] - 0s 3ms/step - loss: 0.3855 - acc: 0.8065 - val_loss: 0.4411 - val_acc: 0.7724\n",
            "Epoch 80/100\n",
            "31/31 [==============================] - 0s 3ms/step - loss: 0.3860 - acc: 0.8208 - val_loss: 0.4407 - val_acc: 0.7886\n",
            "Epoch 81/100\n",
            "31/31 [==============================] - 0s 3ms/step - loss: 0.3839 - acc: 0.8106 - val_loss: 0.4425 - val_acc: 0.7724\n",
            "Epoch 82/100\n",
            "31/31 [==============================] - 0s 3ms/step - loss: 0.3837 - acc: 0.8126 - val_loss: 0.4411 - val_acc: 0.7805\n",
            "Epoch 83/100\n",
            "31/31 [==============================] - 0s 3ms/step - loss: 0.3829 - acc: 0.8126 - val_loss: 0.4431 - val_acc: 0.7805\n",
            "Epoch 84/100\n",
            "31/31 [==============================] - 0s 3ms/step - loss: 0.3822 - acc: 0.8126 - val_loss: 0.4414 - val_acc: 0.7805\n",
            "Epoch 85/100\n",
            "31/31 [==============================] - 0s 3ms/step - loss: 0.3813 - acc: 0.8147 - val_loss: 0.4447 - val_acc: 0.7724\n",
            "Epoch 86/100\n",
            "31/31 [==============================] - 0s 3ms/step - loss: 0.3818 - acc: 0.8187 - val_loss: 0.4430 - val_acc: 0.7805\n",
            "Epoch 87/100\n",
            "31/31 [==============================] - 0s 4ms/step - loss: 0.3811 - acc: 0.8106 - val_loss: 0.4461 - val_acc: 0.7724\n",
            "Epoch 88/100\n",
            "31/31 [==============================] - 0s 5ms/step - loss: 0.3810 - acc: 0.8187 - val_loss: 0.4428 - val_acc: 0.7805\n",
            "Epoch 89/100\n",
            "31/31 [==============================] - 0s 5ms/step - loss: 0.3798 - acc: 0.8167 - val_loss: 0.4449 - val_acc: 0.7724\n",
            "Epoch 90/100\n",
            "31/31 [==============================] - 0s 5ms/step - loss: 0.3802 - acc: 0.8167 - val_loss: 0.4453 - val_acc: 0.7724\n",
            "Epoch 91/100\n",
            "31/31 [==============================] - 0s 5ms/step - loss: 0.3787 - acc: 0.8147 - val_loss: 0.4446 - val_acc: 0.7805\n",
            "Epoch 92/100\n",
            "31/31 [==============================] - 0s 4ms/step - loss: 0.3779 - acc: 0.8167 - val_loss: 0.4448 - val_acc: 0.7724\n",
            "Epoch 93/100\n",
            "31/31 [==============================] - 0s 4ms/step - loss: 0.3790 - acc: 0.8228 - val_loss: 0.4454 - val_acc: 0.7724\n",
            "Epoch 94/100\n",
            "31/31 [==============================] - 0s 4ms/step - loss: 0.3776 - acc: 0.8167 - val_loss: 0.4475 - val_acc: 0.7724\n",
            "Epoch 95/100\n",
            "31/31 [==============================] - 0s 5ms/step - loss: 0.3763 - acc: 0.8187 - val_loss: 0.4477 - val_acc: 0.7805\n",
            "Epoch 96/100\n",
            "31/31 [==============================] - 0s 5ms/step - loss: 0.3759 - acc: 0.8187 - val_loss: 0.4469 - val_acc: 0.7724\n",
            "Epoch 97/100\n",
            "31/31 [==============================] - 0s 5ms/step - loss: 0.3751 - acc: 0.8208 - val_loss: 0.4472 - val_acc: 0.7724\n",
            "Epoch 98/100\n",
            "31/31 [==============================] - 0s 4ms/step - loss: 0.3742 - acc: 0.8187 - val_loss: 0.4482 - val_acc: 0.7805\n",
            "Epoch 99/100\n",
            "31/31 [==============================] - 0s 4ms/step - loss: 0.3736 - acc: 0.8167 - val_loss: 0.4467 - val_acc: 0.7805\n",
            "Epoch 100/100\n",
            "31/31 [==============================] - 0s 5ms/step - loss: 0.3731 - acc: 0.8187 - val_loss: 0.4484 - val_acc: 0.7724\n"
          ]
        }
      ]
    },
    {
      "cell_type": "markdown",
      "source": [
        "#13. 학습곡선"
      ],
      "metadata": {
        "id": "i90L9bYBOlkf"
      }
    },
    {
      "cell_type": "code",
      "source": [
        "import matplotlib.pyplot as plt\n",
        "\n",
        "def plot_history(history):\n",
        "  hist = pd.DataFrame(history.history)\n",
        "  hist['epoch'] = history.epoch\n",
        "\n",
        "  plt.figure(figsize=(16,8))\n",
        "  plt.subplot(1,2,1)\n",
        "  plt.xlabel('Epoch')\n",
        "  plt.ylabel('Loss')\n",
        "  plt.plot(hist['epoch'], hist['loss'], label='Train Loss')\n",
        "  plt.plot(hist['epoch'], hist['val_loss'], label='Val Loss')\n",
        "  plt.legend()\n",
        "\n",
        "  plt.subplot(1,2,2)\n",
        "  plt.xlabel('Epoch')\n",
        "  plt.ylabel('Accuracy')\n",
        "  plt.plot(hist['epoch'], hist['acc'], label='Train Accuracy')\n",
        "  plt.plot(hist['epoch'], hist['val_acc'], label='Val Accuracy')\n",
        "  plt.legend()\n",
        "\n",
        "  plt.show()"
      ],
      "metadata": {
        "id": "cOuTq1faHGGv"
      },
      "execution_count": 65,
      "outputs": []
    },
    {
      "cell_type": "code",
      "source": [
        "plot_history(history)"
      ],
      "metadata": {
        "colab": {
          "base_uri": "https://localhost:8080/",
          "height": 471
        },
        "id": "lGyZmsP0HGKE",
        "outputId": "39b8ae2f-bc6a-45d1-fe31-e8deb3e7a5e5"
      },
      "execution_count": 66,
      "outputs": [
        {
          "output_type": "display_data",
          "data": {
            "text/plain": [
              "<Figure size 1600x800 with 2 Axes>"
            ],
            "image/png": "[encoded data removed]"
          },
          "metadata": {}
        }
      ]
    },
    {
      "cell_type": "markdown",
      "source": [],
      "metadata": {
        "id": "ji7_urtyQr1N"
      }
    },
    {
      "cell_type": "markdown",
      "source": [
        "# 당뇨병 이진분류에 콜백 함수 적용"
      ],
      "metadata": {
        "id": "cNB1Lp-IQr4J"
      }
    },
    {
      "cell_type": "markdown",
      "source": [
        "## 1. 모델 생성과 컴파일"
      ],
      "metadata": {
        "id": "zecXHrtBQzKJ"
      }
    },
    {
      "cell_type": "code",
      "source": [],
      "metadata": {
        "id": "X0d9voRtHGMz"
      },
      "execution_count": null,
      "outputs": []
    },
    {
      "cell_type": "markdown",
      "source": [
        "##2. 정보확인"
      ],
      "metadata": {
        "id": "4QWmPFkpQ10g"
      }
    },
    {
      "cell_type": "code",
      "source": [],
      "metadata": {
        "id": "Q24G673cQq2T"
      },
      "execution_count": null,
      "outputs": []
    },
    {
      "cell_type": "markdown",
      "source": [
        "##3. 학습 모델"
      ],
      "metadata": {
        "id": "ZWYWAjlWQ4QN"
      }
    },
    {
      "cell_type": "code",
      "source": [],
      "metadata": {
        "id": "TdDgyQYTQq5H"
      },
      "execution_count": null,
      "outputs": []
    },
    {
      "cell_type": "markdown",
      "source": [
        "##4. 예측"
      ],
      "metadata": {
        "id": "VV0YGICKQ8Sg"
      }
    },
    {
      "cell_type": "code",
      "source": [],
      "metadata": {
        "id": "Plt9XmbiQq72"
      },
      "execution_count": null,
      "outputs": []
    },
    {
      "cell_type": "markdown",
      "source": [
        "##5. 예측결과 확인"
      ],
      "metadata": {
        "id": "t3vGGRgWQ_V4"
      }
    },
    {
      "cell_type": "code",
      "source": [],
      "metadata": {
        "id": "A1YH_oxrQq-u"
      },
      "execution_count": null,
      "outputs": []
    },
    {
      "cell_type": "markdown",
      "source": [
        "##6. 혼동 행력 시각화(confusion matrix)"
      ],
      "metadata": {
        "id": "47HhqboCRFY2"
      }
    },
    {
      "cell_type": "code",
      "source": [],
      "metadata": {
        "id": "7DVXc60LQrBd"
      },
      "execution_count": null,
      "outputs": []
    },
    {
      "cell_type": "markdown",
      "source": [
        "##7.평가지표 계산(precision, recall, f1_score)"
      ],
      "metadata": {
        "id": "9Eugdz81RKx7"
      }
    },
    {
      "cell_type": "code",
      "source": [],
      "metadata": {
        "id": "_ki-BcS-QrEU"
      },
      "execution_count": null,
      "outputs": []
    },
    {
      "cell_type": "markdown",
      "source": [
        "##8. 평가 지표 출력"
      ],
      "metadata": {
        "id": "1zQtzHeVRWSj"
      }
    },
    {
      "cell_type": "code",
      "source": [],
      "metadata": {
        "id": "qbG4H0kWQrHP"
      },
      "execution_count": null,
      "outputs": []
    },
    {
      "cell_type": "code",
      "source": [],
      "metadata": {
        "id": "wyG870oCQrJ6"
      },
      "execution_count": null,
      "outputs": []
    },
    {
      "cell_type": "markdown",
      "source": [],
      "metadata": {
        "id": "_lPwTZdER6Pl"
      }
    },
    {
      "cell_type": "markdown",
      "source": [
        "# ***코드 넣기***"
      ],
      "metadata": {
        "id": "HGo2l1hGRy3D"
      }
    },
    {
      "cell_type": "markdown",
      "source": [
        "# 이진분류\n",
        "\n",
        "## 1-3 당뇨병 예측을 위한 콜백 함수"
      ],
      "metadata": {
        "id": "mCXUFc6VSmdY"
      }
    },
    {
      "cell_type": "markdown",
      "source": [
        "## 1. 모델 생성과 컴파일"
      ],
      "metadata": {
        "id": "dxzWHZ7uRxDx"
      }
    },
    {
      "cell_type": "code",
      "source": [
        "from tensorflow import keras\n",
        "\n",
        "model = build_model()\n",
        "model.compile(loss='binary_crossentropy',\n",
        "              optimizer = 'adam',\n",
        "              metrics=['acc'])"
      ],
      "metadata": {
        "id": "zdQere43RxD5"
      },
      "execution_count": 68,
      "outputs": []
    },
    {
      "cell_type": "markdown",
      "source": [
        "##2. 정보확인"
      ],
      "metadata": {
        "id": "Gw7cv-xpRxD5"
      }
    },
    {
      "cell_type": "code",
      "source": [
        "early_stop = keras.callbacks.EarlyStopping(monitor = 'val_loss',\n",
        "                                           patience = 10)"
      ],
      "metadata": {
        "id": "ipfJodHPRxD5"
      },
      "execution_count": 69,
      "outputs": []
    },
    {
      "cell_type": "markdown",
      "source": [
        "##3. 학습 모델\n",
        "- 콜백 기능을 사용해서 모델 학습 진행"
      ],
      "metadata": {
        "id": "30-yjcveRxD5"
      }
    },
    {
      "cell_type": "code",
      "source": [
        "early_stop = keras.callbacks.EarlyStopping(monitor = 'val_loss',\n",
        "                                           patience = 10)\n",
        "\n",
        "EPOCHS = 100 #500으로 실행\n",
        "BATCH_SIZE =16\n",
        "history = model.fit(X_train_s, y_train,\n",
        "                    epochs = EPOCHS,\n",
        "                    batch_size = BATCH_SIZE,\n",
        "                    validation_split = .2,\n",
        "                    callbacks = [early_stop],\n",
        "                    verbose = 1)"
      ],
      "metadata": {
        "id": "RCawFY21RxD5",
        "colab": {
          "base_uri": "https://localhost:8080/"
        },
        "outputId": "c73672d1-12fa-4dfa-b9e8-38e45b7641a6"
      },
      "execution_count": 70,
      "outputs": [
        {
          "output_type": "stream",
          "name": "stdout",
          "text": [
            "Epoch 1/100\n",
            "31/31 [==============================] - 1s 9ms/step - loss: 0.9450 - acc: 0.3523 - val_loss: 0.8044 - val_acc: 0.3902\n",
            "Epoch 2/100\n",
            "31/31 [==============================] - 0s 4ms/step - loss: 0.7806 - acc: 0.4114 - val_loss: 0.6981 - val_acc: 0.5203\n",
            "Epoch 3/100\n",
            "31/31 [==============================] - 0s 3ms/step - loss: 0.6755 - acc: 0.5621 - val_loss: 0.6275 - val_acc: 0.6585\n",
            "Epoch 4/100\n",
            "31/31 [==============================] - 0s 3ms/step - loss: 0.6030 - acc: 0.6802 - val_loss: 0.5811 - val_acc: 0.6992\n",
            "Epoch 5/100\n",
            "31/31 [==============================] - 0s 4ms/step - loss: 0.5578 - acc: 0.7251 - val_loss: 0.5540 - val_acc: 0.6911\n",
            "Epoch 6/100\n",
            "31/31 [==============================] - 0s 3ms/step - loss: 0.5311 - acc: 0.7312 - val_loss: 0.5370 - val_acc: 0.6911\n",
            "Epoch 7/100\n",
            "31/31 [==============================] - 0s 3ms/step - loss: 0.5137 - acc: 0.7536 - val_loss: 0.5228 - val_acc: 0.6911\n",
            "Epoch 8/100\n",
            "31/31 [==============================] - 0s 4ms/step - loss: 0.5024 - acc: 0.7597 - val_loss: 0.5123 - val_acc: 0.6911\n",
            "Epoch 9/100\n",
            "31/31 [==============================] - 0s 4ms/step - loss: 0.4942 - acc: 0.7597 - val_loss: 0.5026 - val_acc: 0.7073\n",
            "Epoch 10/100\n",
            "31/31 [==============================] - 0s 4ms/step - loss: 0.4864 - acc: 0.7699 - val_loss: 0.4984 - val_acc: 0.6992\n",
            "Epoch 11/100\n",
            "31/31 [==============================] - 0s 3ms/step - loss: 0.4800 - acc: 0.7719 - val_loss: 0.4922 - val_acc: 0.7154\n",
            "Epoch 12/100\n",
            "31/31 [==============================] - 0s 3ms/step - loss: 0.4747 - acc: 0.7699 - val_loss: 0.4860 - val_acc: 0.7154\n",
            "Epoch 13/100\n",
            "31/31 [==============================] - 0s 4ms/step - loss: 0.4700 - acc: 0.7719 - val_loss: 0.4808 - val_acc: 0.7154\n",
            "Epoch 14/100\n",
            "31/31 [==============================] - 0s 3ms/step - loss: 0.4645 - acc: 0.7699 - val_loss: 0.4759 - val_acc: 0.7317\n",
            "Epoch 15/100\n",
            "31/31 [==============================] - 0s 3ms/step - loss: 0.4608 - acc: 0.7699 - val_loss: 0.4731 - val_acc: 0.7561\n",
            "Epoch 16/100\n",
            "31/31 [==============================] - 0s 4ms/step - loss: 0.4564 - acc: 0.7719 - val_loss: 0.4681 - val_acc: 0.7642\n",
            "Epoch 17/100\n",
            "31/31 [==============================] - 0s 3ms/step - loss: 0.4525 - acc: 0.7739 - val_loss: 0.4650 - val_acc: 0.7642\n",
            "Epoch 18/100\n",
            "31/31 [==============================] - 0s 3ms/step - loss: 0.4490 - acc: 0.7739 - val_loss: 0.4621 - val_acc: 0.7886\n",
            "Epoch 19/100\n",
            "31/31 [==============================] - 0s 3ms/step - loss: 0.4466 - acc: 0.7760 - val_loss: 0.4605 - val_acc: 0.7805\n",
            "Epoch 20/100\n",
            "31/31 [==============================] - 0s 3ms/step - loss: 0.4432 - acc: 0.7760 - val_loss: 0.4574 - val_acc: 0.7886\n",
            "Epoch 21/100\n",
            "31/31 [==============================] - 0s 4ms/step - loss: 0.4403 - acc: 0.7841 - val_loss: 0.4549 - val_acc: 0.7805\n",
            "Epoch 22/100\n",
            "31/31 [==============================] - 0s 4ms/step - loss: 0.4381 - acc: 0.7862 - val_loss: 0.4551 - val_acc: 0.7886\n",
            "Epoch 23/100\n",
            "31/31 [==============================] - 0s 4ms/step - loss: 0.4355 - acc: 0.7841 - val_loss: 0.4513 - val_acc: 0.8049\n",
            "Epoch 24/100\n",
            "31/31 [==============================] - 0s 3ms/step - loss: 0.4331 - acc: 0.7841 - val_loss: 0.4500 - val_acc: 0.8049\n",
            "Epoch 25/100\n",
            "31/31 [==============================] - 0s 3ms/step - loss: 0.4304 - acc: 0.7882 - val_loss: 0.4484 - val_acc: 0.8049\n",
            "Epoch 26/100\n",
            "31/31 [==============================] - 0s 4ms/step - loss: 0.4283 - acc: 0.7821 - val_loss: 0.4465 - val_acc: 0.8049\n",
            "Epoch 27/100\n",
            "31/31 [==============================] - 0s 4ms/step - loss: 0.4262 - acc: 0.7902 - val_loss: 0.4463 - val_acc: 0.8049\n",
            "Epoch 28/100\n",
            "31/31 [==============================] - 0s 3ms/step - loss: 0.4244 - acc: 0.7841 - val_loss: 0.4445 - val_acc: 0.7967\n",
            "Epoch 29/100\n",
            "31/31 [==============================] - 0s 3ms/step - loss: 0.4226 - acc: 0.7862 - val_loss: 0.4450 - val_acc: 0.8049\n",
            "Epoch 30/100\n",
            "31/31 [==============================] - 0s 4ms/step - loss: 0.4215 - acc: 0.7882 - val_loss: 0.4435 - val_acc: 0.7886\n",
            "Epoch 31/100\n",
            "31/31 [==============================] - 0s 4ms/step - loss: 0.4197 - acc: 0.7841 - val_loss: 0.4421 - val_acc: 0.7886\n",
            "Epoch 32/100\n",
            "31/31 [==============================] - 0s 3ms/step - loss: 0.4186 - acc: 0.7902 - val_loss: 0.4430 - val_acc: 0.7886\n",
            "Epoch 33/100\n",
            "31/31 [==============================] - 0s 3ms/step - loss: 0.4160 - acc: 0.7841 - val_loss: 0.4403 - val_acc: 0.7805\n",
            "Epoch 34/100\n",
            "31/31 [==============================] - 0s 4ms/step - loss: 0.4156 - acc: 0.7902 - val_loss: 0.4405 - val_acc: 0.7886\n",
            "Epoch 35/100\n",
            "31/31 [==============================] - 0s 4ms/step - loss: 0.4133 - acc: 0.7902 - val_loss: 0.4397 - val_acc: 0.7886\n",
            "Epoch 36/100\n",
            "31/31 [==============================] - 0s 3ms/step - loss: 0.4127 - acc: 0.7923 - val_loss: 0.4392 - val_acc: 0.7886\n",
            "Epoch 37/100\n",
            "31/31 [==============================] - 0s 4ms/step - loss: 0.4115 - acc: 0.7923 - val_loss: 0.4393 - val_acc: 0.7886\n",
            "Epoch 38/100\n",
            "31/31 [==============================] - 0s 4ms/step - loss: 0.4105 - acc: 0.7923 - val_loss: 0.4391 - val_acc: 0.7886\n",
            "Epoch 39/100\n",
            "31/31 [==============================] - 0s 4ms/step - loss: 0.4087 - acc: 0.7984 - val_loss: 0.4380 - val_acc: 0.7886\n",
            "Epoch 40/100\n",
            "31/31 [==============================] - 0s 4ms/step - loss: 0.4085 - acc: 0.8004 - val_loss: 0.4382 - val_acc: 0.7886\n",
            "Epoch 41/100\n",
            "31/31 [==============================] - 0s 4ms/step - loss: 0.4075 - acc: 0.7923 - val_loss: 0.4391 - val_acc: 0.7805\n",
            "Epoch 42/100\n",
            "31/31 [==============================] - 0s 3ms/step - loss: 0.4068 - acc: 0.7984 - val_loss: 0.4369 - val_acc: 0.7805\n",
            "Epoch 43/100\n",
            "31/31 [==============================] - 0s 3ms/step - loss: 0.4054 - acc: 0.7963 - val_loss: 0.4377 - val_acc: 0.7805\n",
            "Epoch 44/100\n",
            "31/31 [==============================] - 0s 4ms/step - loss: 0.4052 - acc: 0.7943 - val_loss: 0.4387 - val_acc: 0.7805\n",
            "Epoch 45/100\n",
            "31/31 [==============================] - 0s 4ms/step - loss: 0.4043 - acc: 0.7984 - val_loss: 0.4353 - val_acc: 0.7886\n",
            "Epoch 46/100\n",
            "31/31 [==============================] - 0s 3ms/step - loss: 0.4029 - acc: 0.8024 - val_loss: 0.4370 - val_acc: 0.7967\n",
            "Epoch 47/100\n",
            "31/31 [==============================] - 0s 4ms/step - loss: 0.4021 - acc: 0.8004 - val_loss: 0.4381 - val_acc: 0.7805\n",
            "Epoch 48/100\n",
            "31/31 [==============================] - 0s 4ms/step - loss: 0.4008 - acc: 0.7984 - val_loss: 0.4364 - val_acc: 0.7886\n",
            "Epoch 49/100\n",
            "31/31 [==============================] - 0s 4ms/step - loss: 0.4020 - acc: 0.8065 - val_loss: 0.4367 - val_acc: 0.7886\n",
            "Epoch 50/100\n",
            "31/31 [==============================] - 0s 7ms/step - loss: 0.3999 - acc: 0.8065 - val_loss: 0.4362 - val_acc: 0.7886\n",
            "Epoch 51/100\n",
            "31/31 [==============================] - 0s 5ms/step - loss: 0.3992 - acc: 0.8086 - val_loss: 0.4379 - val_acc: 0.7886\n",
            "Epoch 52/100\n",
            "31/31 [==============================] - 0s 5ms/step - loss: 0.3975 - acc: 0.8086 - val_loss: 0.4361 - val_acc: 0.7886\n",
            "Epoch 53/100\n",
            "31/31 [==============================] - 0s 4ms/step - loss: 0.3980 - acc: 0.8065 - val_loss: 0.4373 - val_acc: 0.7886\n",
            "Epoch 54/100\n",
            "31/31 [==============================] - 0s 5ms/step - loss: 0.3962 - acc: 0.8126 - val_loss: 0.4344 - val_acc: 0.7886\n",
            "Epoch 55/100\n",
            "31/31 [==============================] - 0s 5ms/step - loss: 0.3958 - acc: 0.8147 - val_loss: 0.4358 - val_acc: 0.7886\n",
            "Epoch 56/100\n",
            "31/31 [==============================] - 0s 5ms/step - loss: 0.3955 - acc: 0.8106 - val_loss: 0.4372 - val_acc: 0.7967\n",
            "Epoch 57/100\n",
            "31/31 [==============================] - 0s 4ms/step - loss: 0.3952 - acc: 0.8106 - val_loss: 0.4354 - val_acc: 0.7886\n",
            "Epoch 58/100\n",
            "31/31 [==============================] - 0s 5ms/step - loss: 0.3928 - acc: 0.8126 - val_loss: 0.4371 - val_acc: 0.7967\n",
            "Epoch 59/100\n",
            "31/31 [==============================] - 0s 4ms/step - loss: 0.3930 - acc: 0.8106 - val_loss: 0.4365 - val_acc: 0.7967\n",
            "Epoch 60/100\n",
            "31/31 [==============================] - 0s 4ms/step - loss: 0.3920 - acc: 0.8126 - val_loss: 0.4352 - val_acc: 0.7967\n",
            "Epoch 61/100\n",
            "31/31 [==============================] - 0s 4ms/step - loss: 0.3913 - acc: 0.8208 - val_loss: 0.4341 - val_acc: 0.7967\n",
            "Epoch 62/100\n",
            "31/31 [==============================] - 0s 5ms/step - loss: 0.3896 - acc: 0.8248 - val_loss: 0.4361 - val_acc: 0.7967\n",
            "Epoch 63/100\n",
            "31/31 [==============================] - 0s 5ms/step - loss: 0.3890 - acc: 0.8167 - val_loss: 0.4354 - val_acc: 0.7967\n",
            "Epoch 64/100\n",
            "31/31 [==============================] - 0s 5ms/step - loss: 0.3887 - acc: 0.8208 - val_loss: 0.4335 - val_acc: 0.7967\n",
            "Epoch 65/100\n",
            "31/31 [==============================] - 0s 6ms/step - loss: 0.3881 - acc: 0.8208 - val_loss: 0.4343 - val_acc: 0.7967\n",
            "Epoch 66/100\n",
            "31/31 [==============================] - 0s 6ms/step - loss: 0.3878 - acc: 0.8187 - val_loss: 0.4345 - val_acc: 0.7967\n",
            "Epoch 67/100\n",
            "31/31 [==============================] - 0s 5ms/step - loss: 0.3870 - acc: 0.8208 - val_loss: 0.4354 - val_acc: 0.7967\n",
            "Epoch 68/100\n",
            "31/31 [==============================] - 0s 5ms/step - loss: 0.3862 - acc: 0.8208 - val_loss: 0.4330 - val_acc: 0.7967\n",
            "Epoch 69/100\n",
            "31/31 [==============================] - 0s 4ms/step - loss: 0.3857 - acc: 0.8208 - val_loss: 0.4344 - val_acc: 0.7967\n",
            "Epoch 70/100\n",
            "31/31 [==============================] - 0s 3ms/step - loss: 0.3848 - acc: 0.8208 - val_loss: 0.4333 - val_acc: 0.7967\n",
            "Epoch 71/100\n",
            "31/31 [==============================] - 0s 4ms/step - loss: 0.3846 - acc: 0.8147 - val_loss: 0.4334 - val_acc: 0.7967\n",
            "Epoch 72/100\n",
            "31/31 [==============================] - 0s 4ms/step - loss: 0.3832 - acc: 0.8187 - val_loss: 0.4324 - val_acc: 0.8049\n",
            "Epoch 73/100\n",
            "31/31 [==============================] - 0s 3ms/step - loss: 0.3840 - acc: 0.8228 - val_loss: 0.4327 - val_acc: 0.7886\n",
            "Epoch 74/100\n",
            "31/31 [==============================] - 0s 4ms/step - loss: 0.3825 - acc: 0.8208 - val_loss: 0.4314 - val_acc: 0.8049\n",
            "Epoch 75/100\n",
            "31/31 [==============================] - 0s 4ms/step - loss: 0.3823 - acc: 0.8208 - val_loss: 0.4324 - val_acc: 0.8049\n",
            "Epoch 76/100\n",
            "31/31 [==============================] - 0s 4ms/step - loss: 0.3832 - acc: 0.8167 - val_loss: 0.4315 - val_acc: 0.8049\n",
            "Epoch 77/100\n",
            "31/31 [==============================] - 0s 4ms/step - loss: 0.3817 - acc: 0.8167 - val_loss: 0.4307 - val_acc: 0.8049\n",
            "Epoch 78/100\n",
            "31/31 [==============================] - 0s 4ms/step - loss: 0.3802 - acc: 0.8208 - val_loss: 0.4307 - val_acc: 0.8049\n",
            "Epoch 79/100\n",
            "31/31 [==============================] - 0s 4ms/step - loss: 0.3796 - acc: 0.8167 - val_loss: 0.4304 - val_acc: 0.8049\n",
            "Epoch 80/100\n",
            "31/31 [==============================] - 0s 4ms/step - loss: 0.3795 - acc: 0.8208 - val_loss: 0.4307 - val_acc: 0.7967\n",
            "Epoch 81/100\n",
            "31/31 [==============================] - 0s 4ms/step - loss: 0.3794 - acc: 0.8167 - val_loss: 0.4309 - val_acc: 0.8049\n",
            "Epoch 82/100\n",
            "31/31 [==============================] - 0s 4ms/step - loss: 0.3783 - acc: 0.8147 - val_loss: 0.4292 - val_acc: 0.8049\n",
            "Epoch 83/100\n",
            "31/31 [==============================] - 0s 4ms/step - loss: 0.3778 - acc: 0.8228 - val_loss: 0.4304 - val_acc: 0.7967\n",
            "Epoch 84/100\n",
            "31/31 [==============================] - 0s 4ms/step - loss: 0.3769 - acc: 0.8187 - val_loss: 0.4301 - val_acc: 0.7967\n",
            "Epoch 85/100\n",
            "31/31 [==============================] - 0s 4ms/step - loss: 0.3768 - acc: 0.8126 - val_loss: 0.4295 - val_acc: 0.8049\n",
            "Epoch 86/100\n",
            "31/31 [==============================] - 0s 3ms/step - loss: 0.3759 - acc: 0.8208 - val_loss: 0.4284 - val_acc: 0.7967\n",
            "Epoch 87/100\n",
            "31/31 [==============================] - 0s 4ms/step - loss: 0.3758 - acc: 0.8187 - val_loss: 0.4298 - val_acc: 0.7967\n",
            "Epoch 88/100\n",
            "31/31 [==============================] - 0s 3ms/step - loss: 0.3756 - acc: 0.8147 - val_loss: 0.4289 - val_acc: 0.7886\n",
            "Epoch 89/100\n",
            "31/31 [==============================] - 0s 4ms/step - loss: 0.3745 - acc: 0.8147 - val_loss: 0.4294 - val_acc: 0.8049\n",
            "Epoch 90/100\n",
            "31/31 [==============================] - 0s 4ms/step - loss: 0.3745 - acc: 0.8167 - val_loss: 0.4293 - val_acc: 0.7967\n",
            "Epoch 91/100\n",
            "31/31 [==============================] - 0s 4ms/step - loss: 0.3743 - acc: 0.8167 - val_loss: 0.4269 - val_acc: 0.7967\n",
            "Epoch 92/100\n",
            "31/31 [==============================] - 0s 3ms/step - loss: 0.3722 - acc: 0.8208 - val_loss: 0.4274 - val_acc: 0.7967\n",
            "Epoch 93/100\n",
            "31/31 [==============================] - 0s 4ms/step - loss: 0.3716 - acc: 0.8208 - val_loss: 0.4284 - val_acc: 0.7967\n",
            "Epoch 94/100\n",
            "31/31 [==============================] - 0s 3ms/step - loss: 0.3722 - acc: 0.8228 - val_loss: 0.4283 - val_acc: 0.8049\n",
            "Epoch 95/100\n",
            "31/31 [==============================] - 0s 4ms/step - loss: 0.3712 - acc: 0.8187 - val_loss: 0.4288 - val_acc: 0.7967\n",
            "Epoch 96/100\n",
            "31/31 [==============================] - 0s 4ms/step - loss: 0.3702 - acc: 0.8167 - val_loss: 0.4273 - val_acc: 0.7967\n",
            "Epoch 97/100\n",
            "31/31 [==============================] - 0s 4ms/step - loss: 0.3699 - acc: 0.8167 - val_loss: 0.4287 - val_acc: 0.7967\n",
            "Epoch 98/100\n",
            "31/31 [==============================] - 0s 4ms/step - loss: 0.3699 - acc: 0.8167 - val_loss: 0.4263 - val_acc: 0.8049\n",
            "Epoch 99/100\n",
            "31/31 [==============================] - 0s 4ms/step - loss: 0.3689 - acc: 0.8208 - val_loss: 0.4275 - val_acc: 0.7886\n",
            "Epoch 100/100\n",
            "31/31 [==============================] - 0s 4ms/step - loss: 0.3688 - acc: 0.8167 - val_loss: 0.4274 - val_acc: 0.7967\n"
          ]
        }
      ]
    },
    {
      "cell_type": "markdown",
      "source": [
        "##4. 예측"
      ],
      "metadata": {
        "id": "GP8mcexTRxD5"
      }
    },
    {
      "cell_type": "code",
      "source": [
        "y_pred = model.predict(X_test_s)\n",
        "y_pred"
      ],
      "metadata": {
        "id": "1S0ncmBbRxD5",
        "colab": {
          "base_uri": "https://localhost:8080/"
        },
        "outputId": "3cf54129-0e53-4fe0-815f-dca74bc000e2"
      },
      "execution_count": 71,
      "outputs": [
        {
          "output_type": "stream",
          "name": "stdout",
          "text": [
            "5/5 [==============================] - 0s 3ms/step\n"
          ]
        },
        {
          "output_type": "execute_result",
          "data": {
            "text/plain": [
              "array([[5.71517527e-01],\n",
              "       [1.01302728e-01],\n",
              "       [9.65546966e-02],\n",
              "       [1.79404587e-01],\n",
              "       [4.74619657e-01],\n",
              "       [5.75662374e-01],\n",
              "       [9.81539837e-04],\n",
              "       [6.78823709e-01],\n",
              "       [7.73956060e-01],\n",
              "       [4.83400702e-01],\n",
              "       [1.75403520e-01],\n",
              "       [9.35174584e-01],\n",
              "       [1.99008673e-01],\n",
              "       [3.36570650e-01],\n",
              "       [3.28855813e-02],\n",
              "       [4.56131905e-01],\n",
              "       [9.61960331e-02],\n",
              "       [4.74188402e-02],\n",
              "       [9.07705963e-01],\n",
              "       [6.42705679e-01],\n",
              "       [1.87508300e-01],\n",
              "       [2.08821390e-02],\n",
              "       [5.67919016e-01],\n",
              "       [5.47048301e-02],\n",
              "       [5.27841449e-01],\n",
              "       [9.15378511e-01],\n",
              "       [6.99883327e-02],\n",
              "       [4.57425741e-03],\n",
              "       [8.34275559e-02],\n",
              "       [9.13504586e-02],\n",
              "       [9.59871531e-01],\n",
              "       [7.41569817e-01],\n",
              "       [9.34485018e-01],\n",
              "       [9.51017737e-01],\n",
              "       [8.05830956e-01],\n",
              "       [7.51948595e-01],\n",
              "       [5.17157316e-01],\n",
              "       [3.07638615e-01],\n",
              "       [9.82195139e-02],\n",
              "       [5.27726471e-01],\n",
              "       [2.27017645e-02],\n",
              "       [7.62934208e-01],\n",
              "       [4.90282297e-01],\n",
              "       [5.79693198e-01],\n",
              "       [1.14450336e-03],\n",
              "       [7.49515712e-01],\n",
              "       [5.68868935e-01],\n",
              "       [3.56907338e-01],\n",
              "       [2.28656188e-01],\n",
              "       [9.48771715e-01],\n",
              "       [5.94425527e-03],\n",
              "       [8.81207228e-01],\n",
              "       [9.23943579e-01],\n",
              "       [3.33734751e-01],\n",
              "       [2.48694904e-02],\n",
              "       [1.17426803e-02],\n",
              "       [4.08190966e-01],\n",
              "       [1.27417808e-02],\n",
              "       [6.89540744e-01],\n",
              "       [6.95608258e-01],\n",
              "       [6.92641616e-01],\n",
              "       [4.08962488e-01],\n",
              "       [2.75970548e-01],\n",
              "       [2.46292606e-01],\n",
              "       [1.23885153e-02],\n",
              "       [6.06847584e-01],\n",
              "       [1.14662135e-02],\n",
              "       [8.60365927e-01],\n",
              "       [2.66779540e-03],\n",
              "       [1.66221678e-01],\n",
              "       [8.38679016e-01],\n",
              "       [5.70595786e-02],\n",
              "       [4.56285216e-02],\n",
              "       [1.80953201e-02],\n",
              "       [3.63444090e-02],\n",
              "       [2.41810992e-01],\n",
              "       [5.91199957e-02],\n",
              "       [1.62983268e-01],\n",
              "       [8.38457868e-02],\n",
              "       [1.69613332e-01],\n",
              "       [6.71651483e-01],\n",
              "       [8.94885734e-02],\n",
              "       [4.46244515e-02],\n",
              "       [5.03544986e-01],\n",
              "       [2.46410057e-01],\n",
              "       [9.07679915e-01],\n",
              "       [8.87238443e-01],\n",
              "       [3.54425550e-01],\n",
              "       [7.91556016e-02],\n",
              "       [1.37183703e-02],\n",
              "       [1.82029679e-02],\n",
              "       [1.92936108e-01],\n",
              "       [5.00690285e-03],\n",
              "       [3.04599524e-01],\n",
              "       [5.90509892e-01],\n",
              "       [8.95070195e-01],\n",
              "       [4.02744353e-01],\n",
              "       [1.29359782e-01],\n",
              "       [1.30021647e-01],\n",
              "       [7.25565627e-02],\n",
              "       [8.97959411e-01],\n",
              "       [4.11936315e-03],\n",
              "       [8.04461300e-01],\n",
              "       [7.37581313e-01],\n",
              "       [8.45394611e-01],\n",
              "       [1.23685673e-01],\n",
              "       [5.23666382e-01],\n",
              "       [9.03679609e-01],\n",
              "       [5.13362326e-02],\n",
              "       [7.19022512e-01],\n",
              "       [3.46049704e-02],\n",
              "       [6.88308299e-01],\n",
              "       [2.92894125e-01],\n",
              "       [9.75296736e-01],\n",
              "       [1.40389457e-01],\n",
              "       [4.85750377e-01],\n",
              "       [6.95779860e-01],\n",
              "       [3.96300286e-01],\n",
              "       [1.33362059e-02],\n",
              "       [4.92183745e-01],\n",
              "       [1.54622244e-02],\n",
              "       [1.14488922e-01],\n",
              "       [3.69855553e-01],\n",
              "       [1.21024158e-02],\n",
              "       [5.34198999e-01],\n",
              "       [2.11179703e-01],\n",
              "       [4.34833556e-01],\n",
              "       [8.42585742e-01],\n",
              "       [6.77001715e-01],\n",
              "       [9.87155676e-01],\n",
              "       [8.05492520e-01],\n",
              "       [8.78473699e-01],\n",
              "       [6.29674271e-03],\n",
              "       [2.58272022e-01],\n",
              "       [9.05814171e-01],\n",
              "       [5.70583865e-02],\n",
              "       [1.04155719e-01],\n",
              "       [9.40023601e-01],\n",
              "       [7.74709880e-01],\n",
              "       [5.84987458e-04],\n",
              "       [2.08434481e-02],\n",
              "       [7.20545137e-03],\n",
              "       [3.53406399e-01],\n",
              "       [3.51315327e-02],\n",
              "       [1.08697027e-01],\n",
              "       [4.06209350e-01],\n",
              "       [3.91010940e-02],\n",
              "       [9.64527426e-04],\n",
              "       [2.11362824e-01],\n",
              "       [7.57885516e-01],\n",
              "       [5.79921938e-02],\n",
              "       [3.99759740e-01],\n",
              "       [1.09663837e-01],\n",
              "       [3.01947325e-01]], dtype=float32)"
            ]
          },
          "metadata": {},
          "execution_count": 71
        }
      ]
    },
    {
      "cell_type": "markdown",
      "source": [
        "##5. 예측결과 확인\n",
        "- 예측값은 0과 1사이이의 값으로 출력, 0.5를 기준으로 결과 판정\n"
      ],
      "metadata": {
        "id": "yhQeakWvRxD5"
      }
    },
    {
      "cell_type": "code",
      "source": [
        "y_pred = (y_pred > 0.5).astype(np.int32).flatten()\n",
        "y_pred"
      ],
      "metadata": {
        "id": "XmpvsME7RxD5",
        "colab": {
          "base_uri": "https://localhost:8080/"
        },
        "outputId": "1bf29e57-1af7-4040-e699-c6fa655d567f"
      },
      "execution_count": 72,
      "outputs": [
        {
          "output_type": "execute_result",
          "data": {
            "text/plain": [
              "array([1, 0, 0, 0, 0, 1, 0, 1, 1, 0, 0, 1, 0, 0, 0, 0, 0, 0, 1, 1, 0, 0,\n",
              "       1, 0, 1, 1, 0, 0, 0, 0, 1, 1, 1, 1, 1, 1, 1, 0, 0, 1, 0, 1, 0, 1,\n",
              "       0, 1, 1, 0, 0, 1, 0, 1, 1, 0, 0, 0, 0, 0, 1, 1, 1, 0, 0, 0, 0, 1,\n",
              "       0, 1, 0, 0, 1, 0, 0, 0, 0, 0, 0, 0, 0, 0, 1, 0, 0, 1, 0, 1, 1, 0,\n",
              "       0, 0, 0, 0, 0, 0, 1, 1, 0, 0, 0, 0, 1, 0, 1, 1, 1, 0, 1, 1, 0, 1,\n",
              "       0, 1, 0, 1, 0, 0, 1, 0, 0, 0, 0, 0, 0, 0, 1, 0, 0, 1, 1, 1, 1, 1,\n",
              "       0, 0, 1, 0, 0, 1, 1, 0, 0, 0, 0, 0, 0, 0, 0, 0, 0, 1, 0, 0, 0, 0],\n",
              "      dtype=int32)"
            ]
          },
          "metadata": {},
          "execution_count": 72
        }
      ]
    },
    {
      "cell_type": "markdown",
      "source": [
        "##6. 혼동 행력 시각화(confusion matrix)"
      ],
      "metadata": {
        "id": "DXSTLIY9RxD6"
      }
    },
    {
      "cell_type": "code",
      "source": [
        "from sklearn.metrics import confusion_matrix\n",
        "import seaborn as sns\n",
        "\n",
        "cf_matrix = confusion_matrix(y_test, y_pred)\n",
        "\n",
        "plt.figure(figsize = (6,5))\n",
        "sns.heatmap(cf_matrix, annot = True, cbar = False)\n",
        "\n",
        "plt.ylabel('Actual Class')\n",
        "plt.xlabel('Predicted Class')\n",
        "plt.show()"
      ],
      "metadata": {
        "id": "v_eJxSb0RxD6",
        "colab": {
          "base_uri": "https://localhost:8080/",
          "height": 465
        },
        "outputId": "9bd5fa7d-685c-4b88-d9f1-f7f77bf1d693"
      },
      "execution_count": 73,
      "outputs": [
        {
          "output_type": "display_data",
          "data": {
            "text/plain": [
              "<Figure size 600x500 with 1 Axes>"
            ],
            "image/png": "[encoded data removed]"
          },
          "metadata": {}
        }
      ]
    },
    {
      "cell_type": "markdown",
      "source": [
        "##7.평가지표 계산(precision, recall, f1_score)"
      ],
      "metadata": {
        "id": "qQ20-Z5IRxD6"
      }
    },
    {
      "cell_type": "code",
      "source": [
        "from sklearn.metrics import precision_score,  recall_score, f1_score\n",
        "def print_score(y_test, y_pred):\n",
        "  print('precision : %.3f'% (precision_score(y_test, y_pred)))\n",
        "  print('recall_score : %.3f'% (recall_score(y_test, y_pred)))\n",
        "  print('f1_score : %.3f'% (f1_score(y_test, y_pred)))"
      ],
      "metadata": {
        "id": "t_lO1Cw9RxD6"
      },
      "execution_count": 74,
      "outputs": []
    },
    {
      "cell_type": "code",
      "source": [
        "print_score(y_test, y_pred)"
      ],
      "metadata": {
        "colab": {
          "base_uri": "https://localhost:8080/"
        },
        "id": "jQebrM2CWwQ7",
        "outputId": "858f9f36-42f3-40a5-ef17-672ee7b64c43"
      },
      "execution_count": 75,
      "outputs": [
        {
          "output_type": "stream",
          "name": "stdout",
          "text": [
            "precision : 0.614\n",
            "recall_score : 0.636\n",
            "f1_score : 0.625\n"
          ]
        }
      ]
    },
    {
      "cell_type": "markdown",
      "source": [
        "##8. 평가 지표 출력"
      ],
      "metadata": {
        "id": "ZNn4_AbmRxD6"
      }
    },
    {
      "cell_type": "code",
      "source": [
        "from sklearn.metrics import classification_report\n",
        "print(classification_report(y_test, y_pred))"
      ],
      "metadata": {
        "colab": {
          "base_uri": "https://localhost:8080/"
        },
        "id": "GCr1yBN8QrPY",
        "outputId": "b10b0e42-5e96-4ed8-e282-f2c5d711a5fe"
      },
      "execution_count": 76,
      "outputs": [
        {
          "output_type": "stream",
          "name": "stdout",
          "text": [
            "              precision    recall  f1-score   support\n",
            "\n",
            "           0       0.79      0.78      0.79        99\n",
            "           1       0.61      0.64      0.62        55\n",
            "\n",
            "    accuracy                           0.73       154\n",
            "   macro avg       0.70      0.71      0.71       154\n",
            "weighted avg       0.73      0.73      0.73       154\n",
            "\n"
          ]
        }
      ]
    },
    {
      "cell_type": "code",
      "source": [],
      "metadata": {
        "id": "7uzMS5pkXXRD"
      },
      "execution_count": null,
      "outputs": []
    },
    {
      "cell_type": "code",
      "source": [],
      "metadata": {
        "id": "JR560d6zXXW4"
      },
      "execution_count": null,
      "outputs": []
    },
    {
      "cell_type": "code",
      "source": [],
      "metadata": {
        "id": "9S7UxLoaXXZm"
      },
      "execution_count": null,
      "outputs": []
    },
    {
      "cell_type": "code",
      "source": [],
      "metadata": {
        "id": "bC45TIu9XXcs"
      },
      "execution_count": null,
      "outputs": []
    },
    {
      "cell_type": "code",
      "source": [],
      "metadata": {
        "id": "9PKo2CnLXXfO"
      },
      "execution_count": null,
      "outputs": []
    },
    {
      "cell_type": "markdown",
      "source": [
        "# Auto MPG를 이용한 자동차 연비 예측"
      ],
      "metadata": {
        "id": "EUouhTemn1Ys"
      }
    },
    {
      "cell_type": "code",
      "execution_count": 2,
      "metadata": {
        "id": "JdXWTaMPT902"
      },
      "outputs": [],
      "source": [
        "import numpy as np\n",
        "import pandas as pd\n",
        "data_df = pd.read_csv('./auto-mpg.csv', header = 0, engine = 'python')"
      ]
    },
    {
      "cell_type": "code",
      "source": [],
      "metadata": {
        "id": "_CGwRz5hoyxm"
      },
      "execution_count": null,
      "outputs": []
    },
    {
      "cell_type": "code",
      "source": [],
      "metadata": {
        "id": "o9NvUqnvoy2f"
      },
      "execution_count": null,
      "outputs": []
    },
    {
      "cell_type": "code",
      "source": [],
      "metadata": {
        "id": "gLMsQOq0oy4T"
      },
      "execution_count": null,
      "outputs": []
    },
    {
      "cell_type": "code",
      "source": [],
      "metadata": {
        "id": "AF7e_sYUoy7k"
      },
      "execution_count": null,
      "outputs": []
    },
    {
      "cell_type": "code",
      "source": [],
      "metadata": {
        "id": "y_SwjhH6oy-0"
      },
      "execution_count": null,
      "outputs": []
    },
    {
      "cell_type": "code",
      "source": [],
      "metadata": {
        "id": "KWE9VK5xozCV"
      },
      "execution_count": null,
      "outputs": []
    },
    {
      "cell_type": "markdown",
      "metadata": {
        "id": "ceoTg8pdRmit"
      },
      "source": [
        "# 금융상품 갱신 여부 예측하는 인공신경망 구성하기"
      ]
    },
    {
      "cell_type": "code",
      "execution_count": null,
      "metadata": {
        "id": "a1TJ__yURn3B"
      },
      "outputs": [],
      "source": [
        "# 라이브러리 호출\n",
        "\n",
        "import numpy as np\n",
        "import matplotlib.pyplot as plt\n",
        "import pandas as pd\n",
        "import seaborn as sns\n",
        "\n",
        "import tensorflow as tf\n",
        "from tensorflow import keras\n",
        "from keras.models import Sequential\n",
        "from keras.layers import Dense"
      ]
    },
    {
      "cell_type": "code",
      "execution_count": null,
      "metadata": {
        "colab": {
          "base_uri": "https://localhost:8080/",
          "height": 270
        },
        "id": "ui5nKJzMRn6W",
        "outputId": "7b35f078-5585-4e34-fe54-df14613e138d"
      },
      "outputs": [
        {
          "data": {
            "text/html": [
              "\n",
              "  <div id=\"df-41a98801-7ffe-412a-9c05-68b5f2f0ec79\">\n",
              "    <div class=\"colab-df-container\">\n",
              "      <div>\n",
              "<style scoped>\n",
              "    .dataframe tbody tr th:only-of-type {\n",
              "        vertical-align: middle;\n",
              "    }\n",
              "\n",
              "    .dataframe tbody tr th {\n",
              "        vertical-align: top;\n",
              "    }\n",
              "\n",
              "    .dataframe thead th {\n",
              "        text-align: right;\n",
              "    }\n",
              "</style>\n",
              "<table border=\"1\" class=\"dataframe\">\n",
              "  <thead>\n",
              "    <tr style=\"text-align: right;\">\n",
              "      <th></th>\n",
              "      <th>RowNumber</th>\n",
              "      <th>CustomerId</th>\n",
              "      <th>Surname</th>\n",
              "      <th>CreditScore</th>\n",
              "      <th>Geography</th>\n",
              "      <th>Gender</th>\n",
              "      <th>Age</th>\n",
              "      <th>Tenure</th>\n",
              "      <th>Balance</th>\n",
              "      <th>NumOfProducts</th>\n",
              "      <th>HasCrCard</th>\n",
              "      <th>IsActiveMember</th>\n",
              "      <th>EstimatedSalary</th>\n",
              "      <th>Exited</th>\n",
              "    </tr>\n",
              "  </thead>\n",
              "  <tbody>\n",
              "    <tr>\n",
              "      <th>0</th>\n",
              "      <td>1</td>\n",
              "      <td>15634602</td>\n",
              "      <td>Hargrave</td>\n",
              "      <td>619</td>\n",
              "      <td>France</td>\n",
              "      <td>Female</td>\n",
              "      <td>42</td>\n",
              "      <td>2</td>\n",
              "      <td>0.00</td>\n",
              "      <td>1</td>\n",
              "      <td>1</td>\n",
              "      <td>1</td>\n",
              "      <td>101348.88</td>\n",
              "      <td>1</td>\n",
              "    </tr>\n",
              "    <tr>\n",
              "      <th>1</th>\n",
              "      <td>2</td>\n",
              "      <td>15647311</td>\n",
              "      <td>Hill</td>\n",
              "      <td>608</td>\n",
              "      <td>Spain</td>\n",
              "      <td>Female</td>\n",
              "      <td>41</td>\n",
              "      <td>1</td>\n",
              "      <td>83807.86</td>\n",
              "      <td>1</td>\n",
              "      <td>0</td>\n",
              "      <td>1</td>\n",
              "      <td>112542.58</td>\n",
              "      <td>0</td>\n",
              "    </tr>\n",
              "    <tr>\n",
              "      <th>2</th>\n",
              "      <td>3</td>\n",
              "      <td>15619304</td>\n",
              "      <td>Onio</td>\n",
              "      <td>502</td>\n",
              "      <td>France</td>\n",
              "      <td>Female</td>\n",
              "      <td>42</td>\n",
              "      <td>8</td>\n",
              "      <td>159660.80</td>\n",
              "      <td>3</td>\n",
              "      <td>1</td>\n",
              "      <td>0</td>\n",
              "      <td>113931.57</td>\n",
              "      <td>1</td>\n",
              "    </tr>\n",
              "    <tr>\n",
              "      <th>3</th>\n",
              "      <td>4</td>\n",
              "      <td>15701354</td>\n",
              "      <td>Boni</td>\n",
              "      <td>699</td>\n",
              "      <td>France</td>\n",
              "      <td>Female</td>\n",
              "      <td>39</td>\n",
              "      <td>1</td>\n",
              "      <td>0.00</td>\n",
              "      <td>2</td>\n",
              "      <td>0</td>\n",
              "      <td>0</td>\n",
              "      <td>93826.63</td>\n",
              "      <td>0</td>\n",
              "    </tr>\n",
              "    <tr>\n",
              "      <th>4</th>\n",
              "      <td>5</td>\n",
              "      <td>15737888</td>\n",
              "      <td>Mitchell</td>\n",
              "      <td>850</td>\n",
              "      <td>Spain</td>\n",
              "      <td>Female</td>\n",
              "      <td>43</td>\n",
              "      <td>2</td>\n",
              "      <td>125510.82</td>\n",
              "      <td>1</td>\n",
              "      <td>1</td>\n",
              "      <td>1</td>\n",
              "      <td>79084.10</td>\n",
              "      <td>0</td>\n",
              "    </tr>\n",
              "  </tbody>\n",
              "</table>\n",
              "</div>\n",
              "      <button class=\"colab-df-convert\" onclick=\"convertToInteractive('df-41a98801-7ffe-412a-9c05-68b5f2f0ec79')\"\n",
              "              title=\"Convert this dataframe to an interactive table.\"\n",
              "              style=\"display:none;\">\n",
              "        \n",
              "  <svg xmlns=\"http://www.w3.org/2000/svg\" height=\"24px\"viewBox=\"0 0 24 24\"\n",
              "       width=\"24px\">\n",
              "    <path d=\"M0 0h24v24H0V0z\" fill=\"none\"/>\n",
              "    <path d=\"M18.56 5.44l.94 2.06.94-2.06 2.06-.94-2.06-.94-.94-2.06-.94 2.06-2.06.94zm-11 1L8.5 8.5l.94-2.06 2.06-.94-2.06-.94L8.5 2.5l-.94 2.06-2.06.94zm10 10l.94 2.06.94-2.06 2.06-.94-2.06-.94-.94-2.06-.94 2.06-2.06.94z\"/><path d=\"M17.41 7.96l-1.37-1.37c-.4-.4-.92-.59-1.43-.59-.52 0-1.04.2-1.43.59L10.3 9.45l-7.72 7.72c-.78.78-.78 2.05 0 2.83L4 21.41c.39.39.9.59 1.41.59.51 0 1.02-.2 1.41-.59l7.78-7.78 2.81-2.81c.8-.78.8-2.07 0-2.86zM5.41 20L4 18.59l7.72-7.72 1.47 1.35L5.41 20z\"/>\n",
              "  </svg>\n",
              "      </button>\n",
              "      \n",
              "  <style>\n",
              "    .colab-df-container {\n",
              "      display:flex;\n",
              "      flex-wrap:wrap;\n",
              "      gap: 12px;\n",
              "    }\n",
              "\n",
              "    .colab-df-convert {\n",
              "      background-color: #E8F0FE;\n",
              "      border: none;\n",
              "      border-radius: 50%;\n",
              "      cursor: pointer;\n",
              "      display: none;\n",
              "      fill: #1967D2;\n",
              "      height: 32px;\n",
              "      padding: 0 0 0 0;\n",
              "      width: 32px;\n",
              "    }\n",
              "\n",
              "    .colab-df-convert:hover {\n",
              "      background-color: #E2EBFA;\n",
              "      box-shadow: 0px 1px 2px rgba(60, 64, 67, 0.3), 0px 1px 3px 1px rgba(60, 64, 67, 0.15);\n",
              "      fill: #174EA6;\n",
              "    }\n",
              "\n",
              "    [theme=dark] .colab-df-convert {\n",
              "      background-color: #3B4455;\n",
              "      fill: #D2E3FC;\n",
              "    }\n",
              "\n",
              "    [theme=dark] .colab-df-convert:hover {\n",
              "      background-color: #434B5C;\n",
              "      box-shadow: 0px 1px 3px 1px rgba(0, 0, 0, 0.15);\n",
              "      filter: drop-shadow(0px 1px 2px rgba(0, 0, 0, 0.3));\n",
              "      fill: #FFFFFF;\n",
              "    }\n",
              "  </style>\n",
              "\n",
              "      <script>\n",
              "        const buttonEl =\n",
              "          document.querySelector('#df-41a98801-7ffe-412a-9c05-68b5f2f0ec79 button.colab-df-convert');\n",
              "        buttonEl.style.display =\n",
              "          google.colab.kernel.accessAllowed ? 'block' : 'none';\n",
              "\n",
              "        async function convertToInteractive(key) {\n",
              "          const element = document.querySelector('#df-41a98801-7ffe-412a-9c05-68b5f2f0ec79');\n",
              "          const dataTable =\n",
              "            await google.colab.kernel.invokeFunction('convertToInteractive',\n",
              "                                                     [key], {});\n",
              "          if (!dataTable) return;\n",
              "\n",
              "          const docLinkHtml = 'Like what you see? Visit the ' +\n",
              "            '<a target=\"_blank\" href=https://colab.research.google.com/notebooks/data_table.ipynb>data table notebook</a>'\n",
              "            + ' to learn more about interactive tables.';\n",
              "          element.innerHTML = '';\n",
              "          dataTable['output_type'] = 'display_data';\n",
              "          await google.colab.output.renderOutput(dataTable, element);\n",
              "          const docLink = document.createElement('div');\n",
              "          docLink.innerHTML = docLinkHtml;\n",
              "          element.appendChild(docLink);\n",
              "        }\n",
              "      </script>\n",
              "    </div>\n",
              "  </div>\n",
              "  "
            ],
            "text/plain": [
              "   RowNumber  CustomerId   Surname  CreditScore Geography  Gender  Age  \\\n",
              "0          1    15634602  Hargrave          619    France  Female   42   \n",
              "1          2    15647311      Hill          608     Spain  Female   41   \n",
              "2          3    15619304      Onio          502    France  Female   42   \n",
              "3          4    15701354      Boni          699    France  Female   39   \n",
              "4          5    15737888  Mitchell          850     Spain  Female   43   \n",
              "\n",
              "   Tenure    Balance  NumOfProducts  HasCrCard  IsActiveMember  \\\n",
              "0       2       0.00              1          1               1   \n",
              "1       1   83807.86              1          0               1   \n",
              "2       8  159660.80              3          1               0   \n",
              "3       1       0.00              2          0               0   \n",
              "4       2  125510.82              1          1               1   \n",
              "\n",
              "   EstimatedSalary  Exited  \n",
              "0        101348.88       1  \n",
              "1        112542.58       0  \n",
              "2        113931.57       1  \n",
              "3         93826.63       0  \n",
              "4         79084.10       0  "
            ]
          },
          "execution_count": 196,
          "metadata": {},
          "output_type": "execute_result"
        }
      ],
      "source": [
        "# 데이터 확인\n",
        "\n",
        "df = pd.read_csv('./fly-AI/Churn_Modelling.csv')\n",
        "df.head()"
      ]
    },
    {
      "cell_type": "code",
      "execution_count": null,
      "metadata": {
        "id": "MDWhqgBLRn-P"
      },
      "outputs": [],
      "source": [
        "# 학습 할 데이터와 예측 데이터 설정\n",
        "### 학습 데이터 X\n",
        "### 학습에 필요한 데이터만 추출"
      ]
    },
    {
      "cell_type": "code",
      "execution_count": null,
      "metadata": {
        "colab": {
          "base_uri": "https://localhost:8080/",
          "height": 144
        },
        "id": "bqQNW06hRoBw",
        "outputId": "efc17945-415b-4bde-8f23-cbbfd5b38712"
      },
      "outputs": [
        {
          "data": {
            "text/html": [
              "\n",
              "  <div id=\"df-517b880e-0d30-48d0-860f-39e99ee71d5c\">\n",
              "    <div class=\"colab-df-container\">\n",
              "      <div>\n",
              "<style scoped>\n",
              "    .dataframe tbody tr th:only-of-type {\n",
              "        vertical-align: middle;\n",
              "    }\n",
              "\n",
              "    .dataframe tbody tr th {\n",
              "        vertical-align: top;\n",
              "    }\n",
              "\n",
              "    .dataframe thead th {\n",
              "        text-align: right;\n",
              "    }\n",
              "</style>\n",
              "<table border=\"1\" class=\"dataframe\">\n",
              "  <thead>\n",
              "    <tr style=\"text-align: right;\">\n",
              "      <th></th>\n",
              "      <th>CreditScore</th>\n",
              "      <th>Geography</th>\n",
              "      <th>Gender</th>\n",
              "      <th>Age</th>\n",
              "      <th>Tenure</th>\n",
              "      <th>Balance</th>\n",
              "      <th>NumOfProducts</th>\n",
              "      <th>HasCrCard</th>\n",
              "      <th>IsActiveMember</th>\n",
              "      <th>EstimatedSalary</th>\n",
              "    </tr>\n",
              "  </thead>\n",
              "  <tbody>\n",
              "    <tr>\n",
              "      <th>0</th>\n",
              "      <td>619</td>\n",
              "      <td>France</td>\n",
              "      <td>Female</td>\n",
              "      <td>42</td>\n",
              "      <td>2</td>\n",
              "      <td>0.0</td>\n",
              "      <td>1</td>\n",
              "      <td>1</td>\n",
              "      <td>1</td>\n",
              "      <td>101348.88</td>\n",
              "    </tr>\n",
              "  </tbody>\n",
              "</table>\n",
              "</div>\n",
              "      <button class=\"colab-df-convert\" onclick=\"convertToInteractive('df-517b880e-0d30-48d0-860f-39e99ee71d5c')\"\n",
              "              title=\"Convert this dataframe to an interactive table.\"\n",
              "              style=\"display:none;\">\n",
              "        \n",
              "  <svg xmlns=\"http://www.w3.org/2000/svg\" height=\"24px\"viewBox=\"0 0 24 24\"\n",
              "       width=\"24px\">\n",
              "    <path d=\"M0 0h24v24H0V0z\" fill=\"none\"/>\n",
              "    <path d=\"M18.56 5.44l.94 2.06.94-2.06 2.06-.94-2.06-.94-.94-2.06-.94 2.06-2.06.94zm-11 1L8.5 8.5l.94-2.06 2.06-.94-2.06-.94L8.5 2.5l-.94 2.06-2.06.94zm10 10l.94 2.06.94-2.06 2.06-.94-2.06-.94-.94-2.06-.94 2.06-2.06.94z\"/><path d=\"M17.41 7.96l-1.37-1.37c-.4-.4-.92-.59-1.43-.59-.52 0-1.04.2-1.43.59L10.3 9.45l-7.72 7.72c-.78.78-.78 2.05 0 2.83L4 21.41c.39.39.9.59 1.41.59.51 0 1.02-.2 1.41-.59l7.78-7.78 2.81-2.81c.8-.78.8-2.07 0-2.86zM5.41 20L4 18.59l7.72-7.72 1.47 1.35L5.41 20z\"/>\n",
              "  </svg>\n",
              "      </button>\n",
              "      \n",
              "  <style>\n",
              "    .colab-df-container {\n",
              "      display:flex;\n",
              "      flex-wrap:wrap;\n",
              "      gap: 12px;\n",
              "    }\n",
              "\n",
              "    .colab-df-convert {\n",
              "      background-color: #E8F0FE;\n",
              "      border: none;\n",
              "      border-radius: 50%;\n",
              "      cursor: pointer;\n",
              "      display: none;\n",
              "      fill: #1967D2;\n",
              "      height: 32px;\n",
              "      padding: 0 0 0 0;\n",
              "      width: 32px;\n",
              "    }\n",
              "\n",
              "    .colab-df-convert:hover {\n",
              "      background-color: #E2EBFA;\n",
              "      box-shadow: 0px 1px 2px rgba(60, 64, 67, 0.3), 0px 1px 3px 1px rgba(60, 64, 67, 0.15);\n",
              "      fill: #174EA6;\n",
              "    }\n",
              "\n",
              "    [theme=dark] .colab-df-convert {\n",
              "      background-color: #3B4455;\n",
              "      fill: #D2E3FC;\n",
              "    }\n",
              "\n",
              "    [theme=dark] .colab-df-convert:hover {\n",
              "      background-color: #434B5C;\n",
              "      box-shadow: 0px 1px 3px 1px rgba(0, 0, 0, 0.15);\n",
              "      filter: drop-shadow(0px 1px 2px rgba(0, 0, 0, 0.3));\n",
              "      fill: #FFFFFF;\n",
              "    }\n",
              "  </style>\n",
              "\n",
              "      <script>\n",
              "        const buttonEl =\n",
              "          document.querySelector('#df-517b880e-0d30-48d0-860f-39e99ee71d5c button.colab-df-convert');\n",
              "        buttonEl.style.display =\n",
              "          google.colab.kernel.accessAllowed ? 'block' : 'none';\n",
              "\n",
              "        async function convertToInteractive(key) {\n",
              "          const element = document.querySelector('#df-517b880e-0d30-48d0-860f-39e99ee71d5c');\n",
              "          const dataTable =\n",
              "            await google.colab.kernel.invokeFunction('convertToInteractive',\n",
              "                                                     [key], {});\n",
              "          if (!dataTable) return;\n",
              "\n",
              "          const docLinkHtml = 'Like what you see? Visit the ' +\n",
              "            '<a target=\"_blank\" href=https://colab.research.google.com/notebooks/data_table.ipynb>data table notebook</a>'\n",
              "            + ' to learn more about interactive tables.';\n",
              "          element.innerHTML = '';\n",
              "          dataTable['output_type'] = 'display_data';\n",
              "          await google.colab.output.renderOutput(dataTable, element);\n",
              "          const docLink = document.createElement('div');\n",
              "          docLink.innerHTML = docLinkHtml;\n",
              "          element.appendChild(docLink);\n",
              "        }\n",
              "      </script>\n",
              "    </div>\n",
              "  </div>\n",
              "  "
            ],
            "text/plain": [
              "   CreditScore Geography  Gender  Age  Tenure  Balance  NumOfProducts  \\\n",
              "0          619    France  Female   42       2      0.0              1   \n",
              "\n",
              "   HasCrCard  IsActiveMember  EstimatedSalary  \n",
              "0          1               1        101348.88  "
            ]
          },
          "execution_count": 198,
          "metadata": {},
          "output_type": "execute_result"
        }
      ],
      "source": [
        "# 학습할 데이터 설정 [CreditScore:EstimatedSalary]\n",
        "X = df.iloc[ : , 3:-2+1 ]\n",
        "X.head(1)"
      ]
    },
    {
      "cell_type": "code",
      "execution_count": null,
      "metadata": {
        "colab": {
          "base_uri": "https://localhost:8080/"
        },
        "id": "mYjrv75rSIKc",
        "outputId": "0d30d192-71c2-4390-fddd-a2792430dd28"
      },
      "outputs": [
        {
          "data": {
            "text/plain": [
              "0    1\n",
              "1    0\n",
              "2    1\n",
              "3    0\n",
              "4    0\n",
              "Name: Exited, dtype: int64"
            ]
          },
          "execution_count": 199,
          "metadata": {},
          "output_type": "execute_result"
        }
      ],
      "source": [
        "# 예측 할 데이터 설정\n",
        "y = df['Exited']\n",
        "y.head() # 0과 1로 구분, 1:갱신/0:미갱신"
      ]
    },
    {
      "cell_type": "markdown",
      "metadata": {
        "id": "ETDYFx9hSNDW"
      },
      "source": [
        "## 문자열 데이터 숫자로 치환\n",
        "###컬럼에서 Geography와 Gender가 문자열로 되어 있으므로 컴퓨터가 학습 할 수 있게 정수로 변경\n",
        "- 절차 : 각 컬럼의 고유 값 갯수 확인 > 카테고리컬 인코딩 진행\n",
        "- 카테고리컬 인코딩 : 고유값이 2개일 경우 Label Encoding, 2개 초과일 경우 OneHot Encoding"
      ]
    },
    {
      "cell_type": "code",
      "execution_count": null,
      "metadata": {
        "colab": {
          "base_uri": "https://localhost:8080/"
        },
        "id": "AAQONf-zSIN3",
        "outputId": "c4bc775f-0f9d-4067-f378-f7aeca49f150"
      },
      "outputs": [
        {
          "name": "stdout",
          "output_type": "stream",
          "text": [
            "Geography :  ['France' 'Spain' 'Germany']\n",
            "Gender :  ['Female' 'Male']\n"
          ]
        }
      ],
      "source": [
        "# 문자열 데이터 고유값 확인\n",
        "print('Geography : ', X['Geography'].unique())\n",
        "print('Gender : ', X['Gender'].unique())"
      ]
    },
    {
      "cell_type": "code",
      "execution_count": null,
      "metadata": {
        "id": "-nFlrw76SIRY"
      },
      "outputs": [],
      "source": [
        "# 카테고리컬 인코딩\n",
        "from sklearn.preprocessing import LabelEncoder, OneHotEncoder\n",
        "\n",
        "# 성별은 고유값이 2개이므로 레이블 인코딩 진행\n",
        "l_encoder_gender = LabelEncoder()\n",
        "X['Gender'] = l_encoder_gender.fit_transform( X['Gender'] )\n",
        "\n",
        "# 국가는 고유값이 3개이므로 원핫 인코딩 진행\n",
        "from sklearn.compose import ColumnTransformer\n",
        "ct = ColumnTransformer( [ ('encoder', OneHotEncoder(), [1] ) ], remainder='passthrough')\n",
        "X = ct.fit_transform(X)\n",
        "\n",
        "# 최적화를 위해 컬럼 하나 삭제\n",
        "# 이유? 3개의 컬럼 중 원핫 인코딩의 0 0 이 되는 부분이 다른 컬럼이기 때문\n",
        "# germany  spain\n",
        "# 0         0\n",
        "# 0         1\n",
        "# 1         0\n",
        "# France 컬럼 제외\n",
        "X = X[ : , 1: ]"
      ]
    },
    {
      "cell_type": "markdown",
      "metadata": {
        "id": "mgQ3c4nnSgti"
      },
      "source": [
        "# 피쳐 스케일링\n",
        "## 서로 다른 범위의 정수의 데이터들을 일정 범위에 맞게 피쳐 스케일링 진행"
      ]
    },
    {
      "cell_type": "code",
      "execution_count": null,
      "metadata": {
        "id": "PmwkLjkMSIUx"
      },
      "outputs": [],
      "source": [
        "from sklearn.preprocessing import MinMaxScaler\n",
        "\n",
        "sc_X = MinMaxScaler()\n",
        "X = sc_X.fit_transform(X)"
      ]
    },
    {
      "cell_type": "markdown",
      "metadata": {
        "id": "omKC4C6VSnyN"
      },
      "source": [
        "# 6. 인공지능 학습을 위한 학습 데이터와 검증용 데이터 분리"
      ]
    },
    {
      "cell_type": "code",
      "execution_count": null,
      "metadata": {
        "id": "OuL6SxfWSIYN"
      },
      "outputs": [],
      "source": [
        "from sklearn.model_selection import train_test_split\n",
        "\n",
        "X_train, X_test, y_train, y_test = train_test_split(X, y, test_size=0.2, random_state = 0)"
      ]
    },
    {
      "cell_type": "markdown",
      "metadata": {
        "id": "DZe1tK_tSt5V"
      },
      "source": [
        "# 7. 인공신경망 모델링\n",
        "- 모델링 변수 지정 (변수 : model)"
      ]
    },
    {
      "cell_type": "code",
      "execution_count": null,
      "metadata": {
        "id": "RKbJedigSIbZ"
      },
      "outputs": [],
      "source": [
        "model =Sequential()"
      ]
    },
    {
      "cell_type": "code",
      "execution_count": null,
      "metadata": {
        "id": "2L4alc6zSIer"
      },
      "outputs": [],
      "source": [
        "# 첫번째 레이어 input layer 추가\n",
        "# 유닛 6개, 전달 값 11개\n",
        "model.add( Dense(units=6, activation='relu', input_shape=(11,)) )\n",
        "\n",
        "# 두번째 레이어 hidden layer 추가\n",
        "# 첫번째 레이어에서 입력층의 크기를 정했으므로 생략 가능\n",
        "# 유닛 8개, input layer에서 전달 받는 값 11개\n",
        "model.add( Dense(units=8, activation=tf.nn.relu ) )\n",
        "\n",
        "# 세번째 레이어 output layer 추가\n",
        "model.add( Dense(units=1, activation='sigmoid') )"
      ]
    },
    {
      "cell_type": "markdown",
      "metadata": {
        "id": "sylEOgVvS4wM"
      },
      "source": [
        "## 컴파일\n",
        "### loss='binary_crossentropy'\n",
        "- 출력 값이 두개인 이진 분류에서 사용\n",
        "- 모델의 마지막 레이어의 활성화 함수는 시그모이드 함수 사용\n",
        "### metrics=['accuracy']\n",
        "- 모델의 정확도 출력\n",
        "- 분류 문제의 인공지능 모델에서 사용"
      ]
    },
    {
      "cell_type": "code",
      "execution_count": null,
      "metadata": {
        "id": "ioY0srs5SIh6"
      },
      "outputs": [],
      "source": [
        "model.compile(optimizer='adam', loss='binary_crossentropy', metrics=['accuracy'])"
      ]
    },
    {
      "cell_type": "code",
      "execution_count": null,
      "metadata": {
        "colab": {
          "base_uri": "https://localhost:8080/"
        },
        "id": "qfAYHgGlSIlT",
        "outputId": "b3ea7323-3517-4fb1-9db3-59306a47cbdd"
      },
      "outputs": [
        {
          "name": "stdout",
          "output_type": "stream",
          "text": [
            "Model: \"sequential_4\"\n",
            "_________________________________________________________________\n",
            " Layer (type)                Output Shape              Param #   \n",
            "=================================================================\n",
            " dense_14 (Dense)            (None, 6)                 72        \n",
            "                                                                 \n",
            " dense_15 (Dense)            (None, 8)                 56        \n",
            "                                                                 \n",
            " dense_16 (Dense)            (None, 1)                 9         \n",
            "                                                                 \n",
            "=================================================================\n",
            "Total params: 137\n",
            "Trainable params: 137\n",
            "Non-trainable params: 0\n",
            "_________________________________________________________________\n"
          ]
        }
      ],
      "source": [
        "model.summary()\n",
        "# 파라미터 = 가중치(weight)\n",
        "# 11 * 6 = 66 ->  72?\n",
        "# -> 상수 하나가 포함되기 때문에 12 * 6 -> 72"
      ]
    },
    {
      "cell_type": "markdown",
      "metadata": {
        "id": "vkDvKIRtTHxU"
      },
      "source": [
        "## 학습 및 측정\n",
        "- epochs : 전체 데이터셋을 몇 번 반복 학습할지 설정\n",
        "-- 만약 100이면, 서로 다른 값 100개의 가중치로 반복 학습을 진행하여 모델의 성능을 향상시킴\n",
        "- batch_size : N개의 샘플로 테스트하여 가중치를 갱신할지를 설정\n",
        "-- 배치 사이즈가 클수록 많은 데이터를 저장해두어야 하므로 용량이 커짐\n",
        "-- 배치 사이즈가 작을수록 학습률은 높지만 가중치 갱신률이 높아져서 시간이 오래 걸림\n",
        "-- 예 ) epochs=100, batch_size=100 : 모두 예측한 뒤 실제 값과 비교 후 가중치 갱신\n",
        "-- 예 ) epochs=100, batch_size=50 : 반절을 예측한 뒤 실제 값과 비교 후 가중치 갱신, 나머지 다시 예측"
      ]
    },
    {
      "cell_type": "code",
      "execution_count": null,
      "metadata": {
        "colab": {
          "base_uri": "https://localhost:8080/"
        },
        "id": "tuBUy3NYSIos",
        "outputId": "08510805-9f3c-49e7-b874-eb8ed1c2014e"
      },
      "outputs": [
        {
          "name": "stdout",
          "output_type": "stream",
          "text": [
            "Epoch 1/20\n",
            "800/800 [==============================] - 4s 2ms/step - loss: 0.5263 - accuracy: 0.7666\n",
            "Epoch 2/20\n",
            "800/800 [==============================] - 1s 2ms/step - loss: 0.4652 - accuracy: 0.7985\n",
            "Epoch 3/20\n",
            "800/800 [==============================] - 1s 2ms/step - loss: 0.4498 - accuracy: 0.8016\n",
            "Epoch 4/20\n",
            "800/800 [==============================] - 1s 2ms/step - loss: 0.4388 - accuracy: 0.8091\n",
            "Epoch 5/20\n",
            "800/800 [==============================] - 1s 2ms/step - loss: 0.4329 - accuracy: 0.8119\n",
            "Epoch 6/20\n",
            "800/800 [==============================] - 2s 2ms/step - loss: 0.4289 - accuracy: 0.8166\n",
            "Epoch 7/20\n",
            "800/800 [==============================] - 2s 2ms/step - loss: 0.4260 - accuracy: 0.8186\n",
            "Epoch 8/20\n",
            "800/800 [==============================] - 3s 3ms/step - loss: 0.4242 - accuracy: 0.8209\n",
            "Epoch 9/20\n",
            "800/800 [==============================] - 2s 3ms/step - loss: 0.4208 - accuracy: 0.8254\n",
            "Epoch 10/20\n",
            "800/800 [==============================] - 1s 2ms/step - loss: 0.4191 - accuracy: 0.8260\n",
            "Epoch 11/20\n",
            "800/800 [==============================] - 2s 2ms/step - loss: 0.4181 - accuracy: 0.8267\n",
            "Epoch 12/20\n",
            "800/800 [==============================] - 2s 2ms/step - loss: 0.4167 - accuracy: 0.8271\n",
            "Epoch 13/20\n",
            "800/800 [==============================] - 2s 3ms/step - loss: 0.4154 - accuracy: 0.8307\n",
            "Epoch 14/20\n",
            "800/800 [==============================] - 2s 2ms/step - loss: 0.4150 - accuracy: 0.8280\n",
            "Epoch 15/20\n",
            "800/800 [==============================] - 2s 2ms/step - loss: 0.4141 - accuracy: 0.8300\n",
            "Epoch 16/20\n",
            "800/800 [==============================] - 2s 2ms/step - loss: 0.4135 - accuracy: 0.8309\n",
            "Epoch 17/20\n",
            "800/800 [==============================] - 1s 2ms/step - loss: 0.4134 - accuracy: 0.8288\n",
            "Epoch 18/20\n",
            "800/800 [==============================] - 1s 2ms/step - loss: 0.4126 - accuracy: 0.8307\n",
            "Epoch 19/20\n",
            "800/800 [==============================] - 1s 2ms/step - loss: 0.4124 - accuracy: 0.8298\n",
            "Epoch 20/20\n",
            "800/800 [==============================] - 1s 2ms/step - loss: 0.4111 - accuracy: 0.8304\n"
          ]
        },
        {
          "data": {
            "text/plain": [
              "<keras.callbacks.History at 0x7fd2d791c280>"
            ]
          },
          "execution_count": 208,
          "metadata": {},
          "output_type": "execute_result"
        }
      ],
      "source": [
        "model.fit(X_train, y_train, epochs=20, batch_size=10)"
      ]
    },
    {
      "cell_type": "markdown",
      "metadata": {
        "id": "_acctjSuTeBh"
      },
      "source": [
        "## 모델 평가\n",
        "- 텐서플로우는 자체적으로 검증해주는 함수 존재 (evaluate)\n",
        "--정확도를 나타내는 함수는 분류 문제의 인공지능 모델에서 사용"
      ]
    },
    {
      "cell_type": "code",
      "execution_count": null,
      "metadata": {
        "colab": {
          "base_uri": "https://localhost:8080/"
        },
        "id": "xly-6QRxSIsN",
        "outputId": "5680ecb3-42fd-4499-bbd1-5451154f8d2a"
      },
      "outputs": [
        {
          "name": "stdout",
          "output_type": "stream",
          "text": [
            "63/63 [==============================] - 1s 2ms/step - loss: 0.4040 - accuracy: 0.8395\n"
          ]
        },
        {
          "data": {
            "text/plain": [
              "[0.4040450155735016, 0.8395000100135803]"
            ]
          },
          "execution_count": 209,
          "metadata": {},
          "output_type": "execute_result"
        }
      ],
      "source": [
        "model.evaluate(X_test, y_test)"
      ]
    },
    {
      "cell_type": "code",
      "execution_count": null,
      "metadata": {
        "colab": {
          "base_uri": "https://localhost:8080/"
        },
        "id": "g4HRspaNSIvM",
        "outputId": "e6c99d3a-87fe-4b89-98ec-2e497b689745"
      },
      "outputs": [
        {
          "name": "stdout",
          "output_type": "stream",
          "text": [
            "63/63 [==============================] - 0s 1ms/step\n"
          ]
        }
      ],
      "source": [
        "# 예측\n",
        "\n",
        "y_pred = model.predict(X_test)"
      ]
    },
    {
      "cell_type": "code",
      "execution_count": null,
      "metadata": {
        "colab": {
          "base_uri": "https://localhost:8080/"
        },
        "id": "2RewbG5oTsuX",
        "outputId": "db5aa914-6274-4a12-b603-2ca84826f1b1"
      },
      "outputs": [
        {
          "data": {
            "text/plain": [
              "array([[0.27425614],\n",
              "       [0.35522446],\n",
              "       [0.15112267],\n",
              "       ...,\n",
              "       [0.1349959 ],\n",
              "       [0.17464113],\n",
              "       [0.1753218 ]], dtype=float32)"
            ]
          },
          "execution_count": 213,
          "metadata": {},
          "output_type": "execute_result"
        }
      ],
      "source": [
        "# 실제값과 예측값 확인\n",
        "\n",
        "# 실제값은 0과 1로 구성\n",
        "y_test\n",
        "\n",
        "# 예측 값은 0과 1사이의 실수로 구성\n",
        "y_pred"
      ]
    },
    {
      "cell_type": "code",
      "execution_count": null,
      "metadata": {
        "colab": {
          "base_uri": "https://localhost:8080/"
        },
        "id": "JsuEChHBTsxv",
        "outputId": "cdb4fd49-88f6-4298-bb6b-ccc48f326372"
      },
      "outputs": [
        {
          "data": {
            "text/plain": [
              "array([[0],\n",
              "       [0],\n",
              "       [0],\n",
              "       ...,\n",
              "       [0],\n",
              "       [0],\n",
              "       [0]])"
            ]
          },
          "execution_count": 214,
          "metadata": {},
          "output_type": "execute_result"
        }
      ],
      "source": [
        "# y_pred는 0과 1로 구분하기 위해 데이터 가공\n",
        "# 0.5 초과 > True\n",
        "# 0.5 이하 > False\n",
        "y_pred = (y_pred>0.5).astype(int)\n",
        "y_pred"
      ]
    },
    {
      "cell_type": "markdown",
      "metadata": {
        "id": "s3wLLzDjT-hH"
      },
      "source": [
        "## 결과 지표 (컨퓨전 매트릭스)\n",
        "- 결과 지표는 인공지능 모델이 맞춘 것과 못 맞춘 것을 나타내므로 분류 문제에서 사용"
      ]
    },
    {
      "cell_type": "code",
      "execution_count": null,
      "metadata": {
        "colab": {
          "base_uri": "https://localhost:8080/"
        },
        "id": "dfz0zs6jTs04",
        "outputId": "bf7406d6-775a-4a12-d1d5-83e76cfdd1e5"
      },
      "outputs": [
        {
          "data": {
            "text/plain": [
              "array([[1536,   59],\n",
              "       [ 262,  143]])"
            ]
          },
          "execution_count": 215,
          "metadata": {},
          "output_type": "execute_result"
        }
      ],
      "source": [
        "from sklearn.metrics import confusion_matrix, accuracy_score\n",
        "\n",
        "confusion_matrix(y_test, y_pred)"
      ]
    },
    {
      "cell_type": "code",
      "execution_count": null,
      "metadata": {
        "colab": {
          "base_uri": "https://localhost:8080/"
        },
        "id": "Eep8TwRTT9u1",
        "outputId": "187745d9-d226-42e6-bbb9-1ffcbc819edd"
      },
      "outputs": [
        {
          "data": {
            "text/plain": [
              "0.849"
            ]
          },
          "execution_count": 217,
          "metadata": {},
          "output_type": "execute_result"
        }
      ],
      "source": [
        "# 수동으로 정확도 계산하기\n",
        "cm = confusion_matrix(y_test, y_pred)\n",
        "(1546+152) / cm.sum()"
      ]
    },
    {
      "cell_type": "code",
      "execution_count": null,
      "metadata": {
        "id": "7UfzKNMkT9x-"
      },
      "outputs": [],
      "source": []
    },
    {
      "cell_type": "code",
      "source": [],
      "metadata": {
        "id": "UHELCA2woDts"
      },
      "execution_count": null,
      "outputs": []
    }
  ],
  "metadata": {
    "colab": {
      "provenance": []
    },
    "kernelspec": {
      "display_name": "Python 3",
      "name": "python3"
    },
    "language_info": {
      "name": "python"
    }
  },
  "nbformat": 4,
  "nbformat_minor": 0
}